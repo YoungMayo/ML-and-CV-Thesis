{
 "cells": [
  {
   "metadata": {},
   "cell_type": "markdown",
   "source": "Import necessary libraries",
   "id": "45ee0f1392c20fbd"
  },
  {
   "metadata": {
    "ExecuteTime": {
     "end_time": "2024-06-06T21:27:07.338947Z",
     "start_time": "2024-06-06T21:27:07.336385Z"
    }
   },
   "cell_type": "code",
   "source": [
    "import os\n",
    "import json\n",
    "from ultralytics import YOLO\n",
    "import matplotlib.pyplot as plt\n",
    "import albumentations as A\n",
    "from torch.utils.data import Dataset\n",
    "import torch"
   ],
   "id": "d9e2f05ed1f7ba86",
   "outputs": [],
   "execution_count": 61
  },
  {
   "metadata": {},
   "cell_type": "markdown",
   "source": "Verify Paths",
   "id": "7c1107cd07205cac"
  },
  {
   "metadata": {
    "ExecuteTime": {
     "end_time": "2024-06-06T21:27:09.444111Z",
     "start_time": "2024-06-06T21:27:09.436483Z"
    }
   },
   "cell_type": "code",
   "source": [
    "# Define base path\n",
    "base_path = 'C:/Users/Nicho/Desktop/Thesis/yodaTaco2/litter-detection-env/yolov8'\n",
    "\n",
    "# Check directory paths\n",
    "train_images = os.path.join(base_path, 'train/images')\n",
    "valid_images = os.path.join(base_path, 'valid/images')\n",
    "train_labels = os.path.join(base_path, 'train/labels')\n",
    "valid_labels = os.path.join(base_path, 'valid/labels')\n",
    "\n",
    "print(f\"Train images directory exists: {os.path.exists(train_images)}\")\n",
    "print(f\"Valid images directory exists: {os.path.exists(valid_images)}\")\n",
    "print(f\"Train labels directory exists: {os.path.exists(train_labels)}\")\n",
    "print(f\"Valid labels directory exists: {os.path.exists(valid_labels)}\")\n",
    "\n",
    "# Check for image files in train/images and valid/images\n",
    "train_image_files = os.listdir(train_images)\n",
    "valid_image_files = os.listdir(valid_images)\n",
    "print(f\"Number of images in train/images: {len(train_image_files)}\")\n",
    "print(f\"Number of images in valid/images: {len(valid_image_files)}\")\n",
    "print(f\"Sample image file in train/images: {train_image_files[0] if train_image_files else 'No images found'}\")\n",
    "print(f\"Sample image file in valid/images: {valid_image_files[0] if valid_image_files else 'No images found'}\")\n",
    "\n",
    "# Check for label files in train/labels and valid/labels\n",
    "train_label_files = os.listdir(train_labels)\n",
    "valid_label_files = os.listdir(valid_labels)\n",
    "print(f\"Number of labels in train/labels: {len(train_label_files)}\")\n",
    "print(f\"Number of labels in valid/labels: {len(valid_label_files)}\")\n",
    "print(f\"Sample label file in train/labels: {train_label_files[0] if train_label_files else 'No labels found'}\")\n",
    "print(f\"Sample label file in valid/labels: {valid_label_files[0] if valid_label_files else 'No labels found'}\")\n",
    "\n",
    "device = 'cuda' if torch.cuda.is_available() else 'cpu'\n",
    "print(f\"Using device: {device}\")\n"
   ],
   "id": "8956b4c4001e4c81",
   "outputs": [
    {
     "name": "stdout",
     "output_type": "stream",
     "text": [
      "Train images directory exists: True\n",
      "Valid images directory exists: True\n",
      "Train labels directory exists: True\n",
      "Valid labels directory exists: True\n",
      "Number of images in train/images: 1080\n",
      "Number of images in valid/images: 120\n",
      "Sample image file in train/images: 0AuZ8iMUdcKOVqLFwI4467e4smSjGllWkACcq7jV.jpeg\n",
      "Sample image file in valid/images: 0x9j1Zep8zFHm1ABz45GgLWqzIZ9JjOHgXFQlc25.jpeg\n",
      "Number of labels in train/labels: 1080\n",
      "Number of labels in valid/labels: 120\n",
      "Sample label file in train/labels: 0AuZ8iMUdcKOVqLFwI4467e4smSjGllWkACcq7jV.txt\n",
      "Sample label file in valid/labels: 0x9j1Zep8zFHm1ABz45GgLWqzIZ9JjOHgXFQlc25.txt\n",
      "Using device: cpu\n"
     ]
    }
   ],
   "execution_count": 62
  },
  {
   "metadata": {},
   "cell_type": "markdown",
   "source": "Number and name of classes",
   "id": "186879b1f1d20232"
  },
  {
   "metadata": {
    "ExecuteTime": {
     "end_time": "2024-06-06T20:19:34.245478Z",
     "start_time": "2024-06-06T20:19:34.202136Z"
    }
   },
   "cell_type": "code",
   "source": [
    "import json\n",
    "import os\n",
    "\n",
    "def extract_classes(annotations_file):\n",
    "    with open(annotations_file, 'r') as f:\n",
    "        data = json.load(f)\n",
    "\n",
    "    categories = data['categories']\n",
    "    class_names = [category['name'] for category in categories]\n",
    "    num_classes = len(class_names)\n",
    "\n",
    "    return num_classes, class_names\n",
    "\n",
    "annotations_file = 'C:/Users/Nicho/Desktop/Thesis/yodaTaco2/annotations.json'\n",
    "num_classes, class_names = extract_classes(annotations_file)\n",
    "\n",
    "print(f'Number of classes: {num_classes}')\n",
    "print('Class names:')\n",
    "for i, name in enumerate(class_names):\n",
    "    print(f'{i + 1}. {name}')\n",
    "\n",
    "\n"
   ],
   "id": "f55576c44de1bac7",
   "outputs": [
    {
     "name": "stdout",
     "output_type": "stream",
     "text": [
      "Number of classes: 60\n",
      "Class names:\n",
      "1. Aluminium foil\n",
      "2. Battery\n",
      "3. Aluminium blister pack\n",
      "4. Carded blister pack\n",
      "5. Other plastic bottle\n",
      "6. Clear plastic bottle\n",
      "7. Glass bottle\n",
      "8. Plastic bottle cap\n",
      "9. Metal bottle cap\n",
      "10. Broken glass\n",
      "11. Food Can\n",
      "12. Aerosol\n",
      "13. Drink can\n",
      "14. Toilet tube\n",
      "15. Other carton\n",
      "16. Egg carton\n",
      "17. Drink carton\n",
      "18. Corrugated carton\n",
      "19. Meal carton\n",
      "20. Pizza box\n",
      "21. Paper cup\n",
      "22. Disposable plastic cup\n",
      "23. Foam cup\n",
      "24. Glass cup\n",
      "25. Other plastic cup\n",
      "26. Food waste\n",
      "27. Glass jar\n",
      "28. Plastic lid\n",
      "29. Metal lid\n",
      "30. Other plastic\n",
      "31. Magazine paper\n",
      "32. Tissues\n",
      "33. Wrapping paper\n",
      "34. Normal paper\n",
      "35. Paper bag\n",
      "36. Plastified paper bag\n",
      "37. Plastic film\n",
      "38. Six pack rings\n",
      "39. Garbage bag\n",
      "40. Other plastic wrapper\n",
      "41. Single-use carrier bag\n",
      "42. Polypropylene bag\n",
      "43. Crisp packet\n",
      "44. Spread tub\n",
      "45. Tupperware\n",
      "46. Disposable food container\n",
      "47. Foam food container\n",
      "48. Other plastic container\n",
      "49. Plastic glooves\n",
      "50. Plastic utensils\n",
      "51. Pop tab\n",
      "52. Rope & strings\n",
      "53. Scrap metal\n",
      "54. Shoe\n",
      "55. Squeezable tube\n",
      "56. Plastic straw\n",
      "57. Paper straw\n",
      "58. Styrofoam piece\n",
      "59. Unlabeled litter\n",
      "60. Cigarette\n"
     ]
    }
   ],
   "execution_count": 36
  },
  {
   "metadata": {},
   "cell_type": "markdown",
   "source": "Set up paths and parameters",
   "id": "8cd05c910f1b92e3"
  },
  {
   "metadata": {
    "ExecuteTime": {
     "end_time": "2024-06-06T20:20:36.096692Z",
     "start_time": "2024-06-06T20:20:36.092315Z"
    }
   },
   "cell_type": "code",
   "source": [
    "train_images = 'C:/Users/Nicho/Desktop/Thesis/yodaTaco2/litter-detection-env/yolov8/train/images'\n",
    "train_labels = 'C:/Users/Nicho/Desktop/Thesis/yodaTaco2/litter-detection-env/yolov8/train/labels'\n",
    "valid_images = 'C:/Users/Nicho/Desktop/Thesis/yodaTaco2/litter-detection-env/yolov8/valid/images'\n",
    "valid_labels = 'C:/Users/Nicho/Desktop/Thesis/yodaTaco2/litter-detection-env/yolov8/valid/labels'\n",
    "\n",
    "# Define broad categories\n",
    "broad_categories = {\n",
    "    'plastic': ['Other plastic bottle', 'Clear plastic bottle', 'Plastic bottle cap', 'Plastic lid', 'Other plastic', 'Plastic film', 'Six pack rings', 'Garbage bag', 'Other plastic wrapper', 'Single-use carrier bag', 'Polypropylene bag', 'Crisp packet', 'Spread tub', 'Tupperware', 'Disposable food container', 'Other plastic container', 'Plastic gloves', 'Plastic utensils', 'Squeezable tube', 'Plastic straw', 'Styrofoam piece'],\n",
    "    'metal': ['Aluminium foil', 'Battery', 'Aluminium blister pack', 'Carded blister pack', 'Metal bottle cap', 'Food Can', 'Aerosol', 'Drink can', 'Metal lid', 'Scrap metal', 'Pop tab'],\n",
    "    'glass': ['Glass bottle', 'Broken glass', 'Glass cup', 'Glass jar'],\n",
    "    'paper': ['Pizza box', 'Paper cup', 'Magazine paper', 'Tissues', 'Wrapping paper', 'Normal paper', 'Paper bag', 'Plastified paper bag', 'Corrugated carton', 'Meal carton', 'Drink carton', 'Egg carton', 'Other carton', 'Toilet tube'],\n",
    "    'other': ['Food waste', 'Unlabeled litter', 'Cigarette', 'Shoe', 'Rope & strings']\n",
    "}\n",
    "\n",
    "# Create the updated names list with broader categories\n",
    "updated_names = list(broad_categories.keys())\n",
    "nc = len(updated_names)\n",
    "\n",
    "data_yaml = f\"\"\"\n",
    "path: C:/Users/Nicho/Desktop/Thesis/yodaTaco2/litter-detection-env/yolov8\n",
    "train: train/images\n",
    "val: valid/images\n",
    "nc: {nc}\n",
    "names: {updated_names}\n",
    "\"\"\"\n",
    "\n",
    "# Write the updated YAML configuration to a file\n",
    "with open('C:/Users/Nicho/Desktop/Thesis/yodaTaco2/custom_data.yaml', 'w') as f:\n",
    "    f.write(data_yaml)\n"
   ],
   "id": "39a4687f349cb48d",
   "outputs": [],
   "execution_count": 37
  },
  {
   "metadata": {},
   "cell_type": "markdown",
   "source": "Update Labels to Broad Categories\n",
   "id": "5476c57c0822ab54"
  },
  {
   "metadata": {
    "ExecuteTime": {
     "end_time": "2024-06-06T20:21:27.015802Z",
     "start_time": "2024-06-06T20:21:24.126003Z"
    }
   },
   "cell_type": "code",
   "source": [
    "# Function to remap labels\n",
    "def remap_labels(label_file, class_mapping):\n",
    "    with open(label_file, 'r') as f:\n",
    "        lines = f.readlines()\n",
    "    \n",
    "    new_lines = []\n",
    "    for line in lines:\n",
    "        parts = line.strip().split()\n",
    "        class_id = int(parts[0])\n",
    "        \n",
    "        # Find the new class id\n",
    "        new_class_id = None\n",
    "        for i, (broad_class, specific_classes) in enumerate(class_mapping.items()):\n",
    "            if class_names[class_id] in specific_classes:\n",
    "                new_class_id = i\n",
    "                break\n",
    "        \n",
    "        if new_class_id is not None:\n",
    "            parts[0] = str(new_class_id)\n",
    "            new_lines.append(\" \".join(parts))\n",
    "    \n",
    "    with open(label_file, 'w') as f:\n",
    "        f.write(\"\\n\".join(new_lines))\n",
    "\n",
    "# Update train labels\n",
    "for label_file in os.listdir(train_labels):\n",
    "    remap_labels(os.path.join(train_labels, label_file), broad_categories)\n",
    "\n",
    "# Update valid labels\n",
    "for label_file in os.listdir(valid_labels):\n",
    "    remap_labels(os.path.join(valid_labels, label_file), broad_categories)\n"
   ],
   "id": "9c209213a514c4cb",
   "outputs": [],
   "execution_count": 38
  },
  {
   "metadata": {},
   "cell_type": "markdown",
   "source": "Custom Dataset with Data Augmentation",
   "id": "a2a1bf5df738ed30"
  },
  {
   "metadata": {
    "ExecuteTime": {
     "end_time": "2024-06-06T20:30:40.686273Z",
     "start_time": "2024-06-06T20:30:40.678363Z"
    }
   },
   "cell_type": "code",
   "source": [
    "from PIL import Image\n",
    "import numpy as np\n",
    "\n",
    "class CustomDataset(Dataset):\n",
    "    def __init__(self, images_path, labels_path, transform=None):\n",
    "        self.images_path = images_path\n",
    "        self.labels_path = labels_path\n",
    "        self.transform = transform\n",
    "        self.images = os.listdir(images_path)\n",
    "        self.labels = os.listdir(labels_path)\n",
    "\n",
    "    def __getitem__(self, index):\n",
    "        # Load image and label\n",
    "        image_path = os.path.join(self.images_path, self.images[index])\n",
    "        label_path = os.path.join(self.labels_path, self.labels[index])\n",
    "        \n",
    "        # Use PIL to read the image to handle various formats\n",
    "        image = Image.open(image_path).convert('RGB')\n",
    "        image = np.array(image)\n",
    "        \n",
    "        label = self.load_label(label_path)\n",
    "        \n",
    "        if self.transform:\n",
    "            augmented = self.transform(image=image)\n",
    "            image = augmented['image']\n",
    "        \n",
    "        return image, label\n",
    "\n",
    "    def __len__(self):\n",
    "        return len(self.images)\n",
    "\n",
    "    def load_label(self, label_path):\n",
    "        with open(label_path, 'r') as f:\n",
    "            labels = f.readlines()\n",
    "        return [list(map(float, label.strip().split())) for label in labels]\n",
    "\n",
    "# Define augmentations\n",
    "transform = A.Compose([\n",
    "    A.HorizontalFlip(p=0.5),\n",
    "    A.VerticalFlip(p=0.5),\n",
    "    A.RandomRotate90(p=0.5),\n",
    "    A.RandomBrightnessContrast(p=0.2),\n",
    "    A.ColorJitter(p=0.2),\n",
    "    A.Blur(p=0.1),\n",
    "])\n",
    "\n",
    "# Create datasets\n",
    "train_dataset = CustomDataset(train_images, train_labels, transform=transform)\n",
    "valid_dataset = CustomDataset(valid_images, valid_labels)\n"
   ],
   "id": "4de67b6358ef6000",
   "outputs": [],
   "execution_count": 44
  },
  {
   "metadata": {},
   "cell_type": "markdown",
   "source": "Verify Data Loading and Augmentation",
   "id": "8117297573f41626"
  },
  {
   "metadata": {
    "ExecuteTime": {
     "end_time": "2024-06-06T20:30:48.668248Z",
     "start_time": "2024-06-06T20:30:47.155506Z"
    }
   },
   "cell_type": "code",
   "source": [
    "import matplotlib.pyplot as plt\n",
    "\n",
    "# visualize dataset samples\n",
    "def visualize_samples(dataset, num_samples=5):\n",
    "    for i in range(num_samples):\n",
    "        image, label = dataset[i]\n",
    "        plt.imshow(image)\n",
    "        plt.title(f'Label: {label}')\n",
    "        plt.show()\n",
    "\n",
    "# Visualize training samples with augmentation\n",
    "print(\"Training Samples with Augmentation:\")\n",
    "visualize_samples(train_dataset)\n",
    "\n",
    "# Visualize validation samples without augmentation\n",
    "print(\"Validation Samples without Augmentation:\")\n",
    "visualize_samples(valid_dataset)\n"
   ],
   "id": "cb5ffd41d672da1b",
   "outputs": [
    {
     "name": "stdout",
     "output_type": "stream",
     "text": [
      "Training Samples with Augmentation:\n"
     ]
    },
    {
     "data": {
      "text/plain": [
       "<Figure size 640x480 with 1 Axes>"
      ]
     },
     "metadata": {},
     "output_type": "display_data"
    },
    {
     "data": {
      "text/plain": [
       "<Figure size 640x480 with 1 Axes>"
      ]
     },
     "metadata": {},
     "output_type": "display_data"
    },
    {
     "data": {
      "text/plain": [
       "<Figure size 640x480 with 1 Axes>"
      ]
     },
     "metadata": {},
     "output_type": "display_data"
    },
    {
     "data": {
      "text/plain": [
       "<Figure size 640x480 with 1 Axes>"
      ]
     },
     "metadata": {},
     "output_type": "display_data"
    },
    {
     "data": {
      "text/plain": [
       "<Figure size 640x480 with 1 Axes>"
      ]
     },
     "metadata": {},
     "output_type": "display_data"
    },
    {
     "name": "stdout",
     "output_type": "stream",
     "text": [
      "Validation Samples without Augmentation:\n"
     ]
    },
    {
     "data": {
      "text/plain": [
       "<Figure size 640x480 with 1 Axes>"
      ]
     },
     "metadata": {},
     "output_type": "display_data"
    },
    {
     "data": {
      "text/plain": [
       "<Figure size 640x480 with 1 Axes>"
      ]
     },
     "metadata": {},
     "output_type": "display_data"
    },
    {
     "data": {
      "text/plain": [
       "<Figure size 640x480 with 1 Axes>"
      ]
     },
     "metadata": {},
     "output_type": "display_data"
    },
    {
     "data": {
      "text/plain": [
       "<Figure size 640x480 with 1 Axes>"
      ]
     },
     "metadata": {},
     "output_type": "display_data"
    },
    {
     "data": {
      "text/plain": [
       "<Figure size 640x480 with 1 Axes>"
      ]
     },
     "metadata": {},
     "output_type": "display_data"
    }
   ],
   "execution_count": 45
  },
  {
   "metadata": {},
   "cell_type": "markdown",
   "source": "Verify the Custom Dataset Class",
   "id": "48893c091117f0ee"
  },
  {
   "metadata": {
    "ExecuteTime": {
     "end_time": "2024-06-06T20:30:58.568610Z",
     "start_time": "2024-06-06T20:30:57.829031Z"
    }
   },
   "cell_type": "code",
   "source": [
    "# Check a few samples from the custom dataset\n",
    "for i in range(3):\n",
    "    img, label = train_dataset[i]\n",
    "    print(f\"Image {i} shape: {img.shape}, Label: {label}\")\n",
    "\n",
    "# Check a few samples from the validation dataset\n",
    "for i in range(3):\n",
    "    img, label = valid_dataset[i]\n",
    "    print(f\"Image {i} shape: {img.shape}, Label: {label}\")\n"
   ],
   "id": "739ce0ec78ced7ee",
   "outputs": [
    {
     "name": "stdout",
     "output_type": "stream",
     "text": [
      "Image 0 shape: (3024, 4032, 3), Label: [[0.0, 0.44345238095238093, 0.22854662698412698, 0.419973544973545, 0.21999007936507936], [3.0, 0.43287037037037035, 0.38492063492063494, 0.08796296296296297, 0.08779761904761904], [0.0, 0.4718915343915344, 0.7084573412698413, 0.2156084656084656, 0.1515376984126984], [0.0, 0.35830026455026454, 0.8849206349206349, 0.08763227513227513, 0.15773809523809523], [0.0, 0.2361111111111111, 0.8843005952380952, 0.15806878306878308, 0.13467261904761904]]\n",
      "Image 1 shape: (4160, 3120, 3), Label: [[0.0, 0.7724358974358975, 0.715625, 0.1544871794871795, 0.18221153846153845], [0.0, 0.353125, 0.48203125, 0.39791666666666664, 0.2984375]]\n",
      "Image 2 shape: (4160, 3120, 3), Label: [[0.0, 0.5157051282051283, 0.37127403846153845, 0.26282051282051283, 0.4266826923076923], [0.0, 0.46089743589743587, 0.20540865384615384, 0.1391025641025641, 0.09447115384615384]]\n",
      "Image 0 shape: (4160, 3120, 3), Label: [[0.0, 0.4032051282051282, 0.6165865384615384, 0.8057692307692308, 0.7663461538461539]]\n",
      "Image 1 shape: (4032, 3024, 3), Label: []\n",
      "Image 2 shape: (2448, 3264, 3), Label: [[3.0, 0.43704044117647056, 0.5759803921568627, 0.21415441176470587, 0.24918300653594772]]\n"
     ]
    }
   ],
   "execution_count": 46
  },
  {
   "metadata": {},
   "cell_type": "markdown",
   "source": "Verify Data Augmentation",
   "id": "451d3e84e83e409a"
  },
  {
   "metadata": {
    "ExecuteTime": {
     "end_time": "2024-06-06T20:31:05.683416Z",
     "start_time": "2024-06-06T20:31:05.477901Z"
    }
   },
   "cell_type": "code",
   "source": [
    "# Function to visualize before and after augmentation\n",
    "def visualize_augmentation(dataset, index=0):\n",
    "    image, _ = dataset[index]\n",
    "    augmented = transform(image=image)\n",
    "    augmented_image = augmented['image']\n",
    "    \n",
    "    fig, axes = plt.subplots(1, 2, figsize=(12, 6))\n",
    "    axes[0].imshow(image)\n",
    "    axes[0].set_title('Original Image')\n",
    "    axes[1].imshow(augmented_image)\n",
    "    axes[1].set_title('Augmented Image')\n",
    "    plt.show()\n",
    "\n",
    "# Visualize augmentation\n",
    "visualize_augmentation(train_dataset, index=0)\n"
   ],
   "id": "9bdc53782e5d429",
   "outputs": [
    {
     "data": {
      "text/plain": [
       "<Figure size 1200x600 with 2 Axes>"
      ]
     },
     "metadata": {},
     "output_type": "display_data"
    }
   ],
   "execution_count": 47
  },
  {
   "metadata": {},
   "cell_type": "markdown",
   "source": "Placeholder for Metrics Initialization",
   "id": "d598eb8833b2a822"
  },
  {
   "metadata": {
    "ExecuteTime": {
     "end_time": "2024-06-06T22:26:19.564895Z",
     "start_time": "2024-06-06T22:26:19.560891Z"
    }
   },
   "cell_type": "code",
   "source": [
    "# Placeholder for metrics\n",
    "accuracy_over_epochs = []\n",
    "f1_score_over_epochs = []\n",
    "precision_over_epochs = []\n",
    "recall_over_epochs = []\n",
    "confusion_matrix = None\n",
    "\n",
    "# metric initialization\n",
    "metrics = {\n",
    "    'accuracy': accuracy_over_epochs,\n",
    "    'f1_score': f1_score_over_epochs,\n",
    "    'precision': precision_over_epochs,\n",
    "    'recall': recall_over_epochs,\n",
    "    'confusion_matrix': confusion_matrix\n",
    "}\n",
    "\n",
    "print(\"Metrics initialized:\", metrics)\n"
   ],
   "id": "b99619c5bccd51f2",
   "outputs": [
    {
     "name": "stdout",
     "output_type": "stream",
     "text": [
      "Metrics initialized: {'accuracy': [], 'f1_score': [], 'precision': [], 'recall': [], 'confusion_matrix': None}\n"
     ]
    }
   ],
   "execution_count": 72
  },
  {
   "metadata": {},
   "cell_type": "markdown",
   "source": "Initialize the YOLOv8 model",
   "id": "6c5f6500d518d731"
  },
  {
   "metadata": {
    "ExecuteTime": {
     "end_time": "2024-06-06T20:33:46.931566Z",
     "start_time": "2024-06-06T20:33:46.896018Z"
    }
   },
   "cell_type": "code",
   "source": "model = YOLO('yolov8s.pt')",
   "id": "7beda37a3eeffa2d",
   "outputs": [],
   "execution_count": 51
  },
  {
   "metadata": {},
   "cell_type": "markdown",
   "source": "Train the model",
   "id": "baa8f2598b822654"
  },
  {
   "metadata": {
    "ExecuteTime": {
     "end_time": "2024-06-06T20:58:12.450231Z",
     "start_time": "2024-06-06T20:34:04.492054Z"
    }
   },
   "cell_type": "code",
   "source": [
    "# Train the model and save metrics\n",
    "results = model.train(data='C:/Users/Nicho/Desktop/Thesis/yodaTaco2/custom_data.yaml', epochs=1, imgsz=640, batch=16)\n",
    "\n",
    "# Save the trained model\n",
    "model.save('C:/Users/Nicho/Desktop/Thesis/yodaTaco2/trained_model.pt')"
   ],
   "id": "504478e4e8fdaf80",
   "outputs": [
    {
     "name": "stdout",
     "output_type": "stream",
     "text": [
      "Ultralytics YOLOv8.2.28  Python-3.11.7 torch-2.3.1+cpu CPU (AMD Ryzen 9 7950X 16-Core Processor)\n",
      "\u001B[34m\u001B[1mengine\\trainer: \u001B[0mtask=detect, mode=train, model=yolov8s.pt, data=C:/Users/Nicho/Desktop/Thesis/yodaTaco2/custom_data.yaml, epochs=1, time=None, patience=100, batch=16, imgsz=640, save=True, save_period=-1, cache=False, device=None, workers=8, project=None, name=train6, exist_ok=False, pretrained=True, optimizer=auto, verbose=True, seed=0, deterministic=True, single_cls=False, rect=False, cos_lr=False, close_mosaic=10, resume=False, amp=True, fraction=1.0, profile=False, freeze=None, multi_scale=False, overlap_mask=True, mask_ratio=4, dropout=0.0, val=True, split=val, save_json=False, save_hybrid=False, conf=None, iou=0.7, max_det=300, half=False, dnn=False, plots=True, source=None, vid_stride=1, stream_buffer=False, visualize=False, augment=False, agnostic_nms=False, classes=None, retina_masks=False, embed=None, show=False, save_frames=False, save_txt=False, save_conf=False, save_crop=False, show_labels=True, show_conf=True, show_boxes=True, line_width=None, format=torchscript, keras=False, optimize=False, int8=False, dynamic=False, simplify=False, opset=None, workspace=4, nms=False, lr0=0.01, lrf=0.01, momentum=0.937, weight_decay=0.0005, warmup_epochs=3.0, warmup_momentum=0.8, warmup_bias_lr=0.1, box=7.5, cls=0.5, dfl=1.5, pose=12.0, kobj=1.0, label_smoothing=0.0, nbs=64, hsv_h=0.015, hsv_s=0.7, hsv_v=0.4, degrees=0.0, translate=0.1, scale=0.5, shear=0.0, perspective=0.0, flipud=0.0, fliplr=0.5, bgr=0.0, mosaic=1.0, mixup=0.0, copy_paste=0.0, auto_augment=randaugment, erasing=0.4, crop_fraction=1.0, cfg=None, tracker=botsort.yaml, save_dir=runs\\detect\\train6\n",
      "Overriding model.yaml nc=80 with nc=5\n",
      "\n",
      "                   from  n    params  module                                       arguments                     \n",
      "  0                  -1  1       928  ultralytics.nn.modules.conv.Conv             [3, 32, 3, 2]                 \n",
      "  1                  -1  1     18560  ultralytics.nn.modules.conv.Conv             [32, 64, 3, 2]                \n",
      "  2                  -1  1     29056  ultralytics.nn.modules.block.C2f             [64, 64, 1, True]             \n",
      "  3                  -1  1     73984  ultralytics.nn.modules.conv.Conv             [64, 128, 3, 2]               \n",
      "  4                  -1  2    197632  ultralytics.nn.modules.block.C2f             [128, 128, 2, True]           \n",
      "  5                  -1  1    295424  ultralytics.nn.modules.conv.Conv             [128, 256, 3, 2]              \n",
      "  6                  -1  2    788480  ultralytics.nn.modules.block.C2f             [256, 256, 2, True]           \n",
      "  7                  -1  1   1180672  ultralytics.nn.modules.conv.Conv             [256, 512, 3, 2]              \n",
      "  8                  -1  1   1838080  ultralytics.nn.modules.block.C2f             [512, 512, 1, True]           \n",
      "  9                  -1  1    656896  ultralytics.nn.modules.block.SPPF            [512, 512, 5]                 \n",
      " 10                  -1  1         0  torch.nn.modules.upsampling.Upsample         [None, 2, 'nearest']          \n",
      " 11             [-1, 6]  1         0  ultralytics.nn.modules.conv.Concat           [1]                           \n",
      " 12                  -1  1    591360  ultralytics.nn.modules.block.C2f             [768, 256, 1]                 \n",
      " 13                  -1  1         0  torch.nn.modules.upsampling.Upsample         [None, 2, 'nearest']          \n",
      " 14             [-1, 4]  1         0  ultralytics.nn.modules.conv.Concat           [1]                           \n",
      " 15                  -1  1    148224  ultralytics.nn.modules.block.C2f             [384, 128, 1]                 \n",
      " 16                  -1  1    147712  ultralytics.nn.modules.conv.Conv             [128, 128, 3, 2]              \n",
      " 17            [-1, 12]  1         0  ultralytics.nn.modules.conv.Concat           [1]                           \n",
      " 18                  -1  1    493056  ultralytics.nn.modules.block.C2f             [384, 256, 1]                 \n",
      " 19                  -1  1    590336  ultralytics.nn.modules.conv.Conv             [256, 256, 3, 2]              \n",
      " 20             [-1, 9]  1         0  ultralytics.nn.modules.conv.Concat           [1]                           \n",
      " 21                  -1  1   1969152  ultralytics.nn.modules.block.C2f             [768, 512, 1]                 \n",
      " 22        [15, 18, 21]  1   2117983  ultralytics.nn.modules.head.Detect           [5, [128, 256, 512]]          \n",
      "Model summary: 225 layers, 11137535 parameters, 11137519 gradients, 28.7 GFLOPs\n",
      "\n",
      "Transferred 349/355 items from pretrained weights\n",
      "Freezing layer 'model.22.dfl.conv.weight'\n"
     ]
    },
    {
     "name": "stderr",
     "output_type": "stream",
     "text": [
      "\u001B[34m\u001B[1mtrain: \u001B[0mScanning C:\\Users\\Nicho\\Desktop\\Thesis\\yodaTaco2\\litter-detection-env\\yolov8\\train\\labels... 1080 images, 38 backgrounds, 0 corrupt: 100%|██████████| 1080/1080 [00:00<00:00, 2790.21it/s]"
     ]
    },
    {
     "name": "stdout",
     "output_type": "stream",
     "text": [
      "\u001B[34m\u001B[1mtrain: \u001B[0mNew cache created: C:\\Users\\Nicho\\Desktop\\Thesis\\yodaTaco2\\litter-detection-env\\yolov8\\train\\labels.cache\n",
      "\u001B[34m\u001B[1malbumentations: \u001B[0mBlur(p=0.01, blur_limit=(3, 7)), MedianBlur(p=0.01, blur_limit=(3, 7)), ToGray(p=0.01), CLAHE(p=0.01, clip_limit=(1, 4.0), tile_grid_size=(8, 8))\n"
     ]
    },
    {
     "name": "stderr",
     "output_type": "stream",
     "text": [
      "\n",
      "\u001B[34m\u001B[1mval: \u001B[0mScanning C:\\Users\\Nicho\\Desktop\\Thesis\\yodaTaco2\\litter-detection-env\\yolov8\\valid\\labels... 120 images, 6 backgrounds, 0 corrupt: 100%|██████████| 120/120 [00:00<00:00, 2767.47it/s]"
     ]
    },
    {
     "name": "stdout",
     "output_type": "stream",
     "text": [
      "\u001B[34m\u001B[1mval: \u001B[0mNew cache created: C:\\Users\\Nicho\\Desktop\\Thesis\\yodaTaco2\\litter-detection-env\\yolov8\\valid\\labels.cache\n",
      "Plotting labels to runs\\detect\\train6\\labels.jpg... \n"
     ]
    },
    {
     "name": "stderr",
     "output_type": "stream",
     "text": [
      "\n"
     ]
    },
    {
     "name": "stdout",
     "output_type": "stream",
     "text": [
      "\u001B[34m\u001B[1moptimizer:\u001B[0m 'optimizer=auto' found, ignoring 'lr0=0.01' and 'momentum=0.937' and determining best 'optimizer', 'lr0' and 'momentum' automatically... \n",
      "\u001B[34m\u001B[1moptimizer:\u001B[0m AdamW(lr=0.001111, momentum=0.9) with parameter groups 57 weight(decay=0.0), 64 weight(decay=0.0005), 63 bias(decay=0.0)\n",
      "Image sizes 640 train, 640 val\n",
      "Using 0 dataloader workers\n",
      "Logging results to \u001B[1mruns\\detect\\train6\u001B[0m\n",
      "Starting training for 1 epochs...\n",
      "\n",
      "      Epoch    GPU_mem   box_loss   cls_loss   dfl_loss  Instances       Size\n"
     ]
    },
    {
     "name": "stderr",
     "output_type": "stream",
     "text": [
      "        1/1         0G      1.172      2.923      1.177         22        640: 100%|██████████| 68/68 [22:11<00:00, 19.58s/it]\n",
      "                 Class     Images  Instances      Box(P          R      mAP50  mAP50-95): 100%|██████████| 4/4 [00:56<00:00, 14.22s/it]\n"
     ]
    },
    {
     "name": "stdout",
     "output_type": "stream",
     "text": [
      "                   all        120        335      0.357      0.174     0.0944     0.0634\n",
      "\n",
      "1 epochs completed in 0.386 hours.\n",
      "Optimizer stripped from runs\\detect\\train6\\weights\\last.pt, 22.5MB\n",
      "Optimizer stripped from runs\\detect\\train6\\weights\\best.pt, 22.5MB\n",
      "\n",
      "Validating runs\\detect\\train6\\weights\\best.pt...\n",
      "Ultralytics YOLOv8.2.28  Python-3.11.7 torch-2.3.1+cpu CPU (AMD Ryzen 9 7950X 16-Core Processor)\n",
      "Model summary (fused): 168 layers, 11127519 parameters, 0 gradients, 28.4 GFLOPs\n"
     ]
    },
    {
     "name": "stderr",
     "output_type": "stream",
     "text": [
      "                 Class     Images  Instances      Box(P          R      mAP50  mAP50-95): 100%|██████████| 4/4 [00:49<00:00, 12.45s/it]\n"
     ]
    },
    {
     "name": "stdout",
     "output_type": "stream",
     "text": [
      "                   all        120        335      0.357      0.174     0.0948     0.0634\n",
      "               plastic         90        227      0.285      0.278      0.166     0.0961\n",
      "                 metal         21         53      0.205       0.34      0.161      0.108\n",
      "                 glass          6         10     0.0877        0.1     0.0242     0.0158\n",
      "                 paper         26         39      0.209      0.154      0.119     0.0955\n",
      "                 other          6          6          1          0    0.00327    0.00125\n",
      "Speed: 3.2ms preprocess, 341.2ms inference, 0.0ms loss, 1.0ms postprocess per image\n",
      "Results saved to \u001B[1mruns\\detect\\train6\u001B[0m\n"
     ]
    }
   ],
   "execution_count": 52
  },
  {
   "metadata": {},
   "cell_type": "markdown",
   "source": "Visualization",
   "id": "21dc5ed1279fa6a7"
  },
  {
   "metadata": {},
   "cell_type": "markdown",
   "source": "Extract and Save Metrics",
   "id": "7da4cee7b1f47414"
  },
  {
   "metadata": {
    "ExecuteTime": {
     "end_time": "2024-06-08T02:47:54.224985Z",
     "start_time": "2024-06-06T22:26:48.495674Z"
    }
   },
   "cell_type": "code",
   "source": [
    "import os\n",
    "import pickle\n",
    "from ultralytics import YOLO\n",
    "\n",
    "# Initialize and train the model\n",
    "model = YOLO('yolov8s.pt')\n",
    "results = model.train(data='C:/Users/Nicho/Desktop/Thesis/yodaTaco2/custom_data.yaml', epochs=75, imgsz=640, batch=16, device='cpu')\n",
    "model.save('C:/Users/Nicho/Desktop/Thesis/yodaTaco2/trained_model.pt')\n",
    "\n",
    "\n",
    "\n",
    "if hasattr(results, 'results_dict'):\n",
    "    metrics = results.results_dict\n",
    "\n",
    "    # Extract metrics\n",
    "    accuracy_over_epochs = metrics['metrics/precision'] if 'metrics/precision' in metrics else None\n",
    "    f1_score_over_epochs = metrics['metrics/f1'] if 'metrics/f1' in metrics else None\n",
    "    precision_over_epochs = metrics['metrics/precision'] if 'metrics/precision' in metrics else None\n",
    "    recall_over_epochs = metrics['metrics/recall'] if 'metrics/recall' in metrics else None\n",
    "\n",
    "    # Save metrics\n",
    "    metrics_dict = {\n",
    "        'accuracy': accuracy_over_epochs,\n",
    "        'f1_score': f1_score_over_epochs,\n",
    "        'precision': precision_over_epochs,\n",
    "        'recall': recall_over_epochs\n",
    "    }\n",
    "\n",
    "    with open('C:/Users/Nicho/Desktop/Thesis/yodaTaco2/training_metrics.pkl', 'wb') as f:\n",
    "        pickle.dump(metrics_dict, f)\n",
    "\n",
    "    print(\"Training and metrics saving completed.\")\n",
    "else:\n",
    "    print(\"No results_dict attribute found in results.\")\n"
   ],
   "id": "811d5179c20738",
   "outputs": [
    {
     "name": "stdout",
     "output_type": "stream",
     "text": [
      "Ultralytics YOLOv8.2.28  Python-3.11.7 torch-2.3.1+cpu CPU (AMD Ryzen 9 7950X 16-Core Processor)\n",
      "\u001B[34m\u001B[1mengine\\trainer: \u001B[0mtask=detect, mode=train, model=yolov8s.pt, data=C:/Users/Nicho/Desktop/Thesis/yodaTaco2/custom_data.yaml, epochs=75, time=None, patience=100, batch=16, imgsz=640, save=True, save_period=-1, cache=False, device=cpu, workers=8, project=None, name=train9, exist_ok=False, pretrained=True, optimizer=auto, verbose=True, seed=0, deterministic=True, single_cls=False, rect=False, cos_lr=False, close_mosaic=10, resume=False, amp=True, fraction=1.0, profile=False, freeze=None, multi_scale=False, overlap_mask=True, mask_ratio=4, dropout=0.0, val=True, split=val, save_json=False, save_hybrid=False, conf=None, iou=0.7, max_det=300, half=False, dnn=False, plots=True, source=None, vid_stride=1, stream_buffer=False, visualize=False, augment=False, agnostic_nms=False, classes=None, retina_masks=False, embed=None, show=False, save_frames=False, save_txt=False, save_conf=False, save_crop=False, show_labels=True, show_conf=True, show_boxes=True, line_width=None, format=torchscript, keras=False, optimize=False, int8=False, dynamic=False, simplify=False, opset=None, workspace=4, nms=False, lr0=0.01, lrf=0.01, momentum=0.937, weight_decay=0.0005, warmup_epochs=3.0, warmup_momentum=0.8, warmup_bias_lr=0.1, box=7.5, cls=0.5, dfl=1.5, pose=12.0, kobj=1.0, label_smoothing=0.0, nbs=64, hsv_h=0.015, hsv_s=0.7, hsv_v=0.4, degrees=0.0, translate=0.1, scale=0.5, shear=0.0, perspective=0.0, flipud=0.0, fliplr=0.5, bgr=0.0, mosaic=1.0, mixup=0.0, copy_paste=0.0, auto_augment=randaugment, erasing=0.4, crop_fraction=1.0, cfg=None, tracker=botsort.yaml, save_dir=runs\\detect\\train9\n",
      "Overriding model.yaml nc=80 with nc=5\n",
      "\n",
      "                   from  n    params  module                                       arguments                     \n",
      "  0                  -1  1       928  ultralytics.nn.modules.conv.Conv             [3, 32, 3, 2]                 \n",
      "  1                  -1  1     18560  ultralytics.nn.modules.conv.Conv             [32, 64, 3, 2]                \n",
      "  2                  -1  1     29056  ultralytics.nn.modules.block.C2f             [64, 64, 1, True]             \n",
      "  3                  -1  1     73984  ultralytics.nn.modules.conv.Conv             [64, 128, 3, 2]               \n",
      "  4                  -1  2    197632  ultralytics.nn.modules.block.C2f             [128, 128, 2, True]           \n",
      "  5                  -1  1    295424  ultralytics.nn.modules.conv.Conv             [128, 256, 3, 2]              \n",
      "  6                  -1  2    788480  ultralytics.nn.modules.block.C2f             [256, 256, 2, True]           \n",
      "  7                  -1  1   1180672  ultralytics.nn.modules.conv.Conv             [256, 512, 3, 2]              \n",
      "  8                  -1  1   1838080  ultralytics.nn.modules.block.C2f             [512, 512, 1, True]           \n",
      "  9                  -1  1    656896  ultralytics.nn.modules.block.SPPF            [512, 512, 5]                 \n",
      " 10                  -1  1         0  torch.nn.modules.upsampling.Upsample         [None, 2, 'nearest']          \n",
      " 11             [-1, 6]  1         0  ultralytics.nn.modules.conv.Concat           [1]                           \n",
      " 12                  -1  1    591360  ultralytics.nn.modules.block.C2f             [768, 256, 1]                 \n",
      " 13                  -1  1         0  torch.nn.modules.upsampling.Upsample         [None, 2, 'nearest']          \n",
      " 14             [-1, 4]  1         0  ultralytics.nn.modules.conv.Concat           [1]                           \n",
      " 15                  -1  1    148224  ultralytics.nn.modules.block.C2f             [384, 128, 1]                 \n",
      " 16                  -1  1    147712  ultralytics.nn.modules.conv.Conv             [128, 128, 3, 2]              \n",
      " 17            [-1, 12]  1         0  ultralytics.nn.modules.conv.Concat           [1]                           \n",
      " 18                  -1  1    493056  ultralytics.nn.modules.block.C2f             [384, 256, 1]                 \n",
      " 19                  -1  1    590336  ultralytics.nn.modules.conv.Conv             [256, 256, 3, 2]              \n",
      " 20             [-1, 9]  1         0  ultralytics.nn.modules.conv.Concat           [1]                           \n",
      " 21                  -1  1   1969152  ultralytics.nn.modules.block.C2f             [768, 512, 1]                 \n",
      " 22        [15, 18, 21]  1   2117983  ultralytics.nn.modules.head.Detect           [5, [128, 256, 512]]          \n",
      "Model summary: 225 layers, 11137535 parameters, 11137519 gradients, 28.7 GFLOPs\n",
      "\n",
      "Transferred 349/355 items from pretrained weights\n",
      "Freezing layer 'model.22.dfl.conv.weight'\n"
     ]
    },
    {
     "name": "stderr",
     "output_type": "stream",
     "text": [
      "\u001B[34m\u001B[1mtrain: \u001B[0mScanning C:\\Users\\Nicho\\Desktop\\Thesis\\yodaTaco2\\litter-detection-env\\yolov8\\train\\labels.cache... 1080 images, 38 backgrounds, 0 corrupt: 100%|██████████| 1080/1080 [00:00<?, ?it/s]"
     ]
    },
    {
     "name": "stdout",
     "output_type": "stream",
     "text": [
      "\u001B[34m\u001B[1malbumentations: \u001B[0mBlur(p=0.01, blur_limit=(3, 7)), MedianBlur(p=0.01, blur_limit=(3, 7)), ToGray(p=0.01), CLAHE(p=0.01, clip_limit=(1, 4.0), tile_grid_size=(8, 8))\n"
     ]
    },
    {
     "name": "stderr",
     "output_type": "stream",
     "text": [
      "\n",
      "\u001B[34m\u001B[1mval: \u001B[0mScanning C:\\Users\\Nicho\\Desktop\\Thesis\\yodaTaco2\\litter-detection-env\\yolov8\\valid\\labels.cache... 120 images, 6 backgrounds, 0 corrupt: 100%|██████████| 120/120 [00:00<?, ?it/s]"
     ]
    },
    {
     "name": "stdout",
     "output_type": "stream",
     "text": [
      "Plotting labels to runs\\detect\\train9\\labels.jpg... \n"
     ]
    },
    {
     "name": "stderr",
     "output_type": "stream",
     "text": [
      "\n"
     ]
    },
    {
     "name": "stdout",
     "output_type": "stream",
     "text": [
      "\u001B[34m\u001B[1moptimizer:\u001B[0m 'optimizer=auto' found, ignoring 'lr0=0.01' and 'momentum=0.937' and determining best 'optimizer', 'lr0' and 'momentum' automatically... \n",
      "\u001B[34m\u001B[1moptimizer:\u001B[0m AdamW(lr=0.001111, momentum=0.9) with parameter groups 57 weight(decay=0.0), 64 weight(decay=0.0005), 63 bias(decay=0.0)\n",
      "Image sizes 640 train, 640 val\n",
      "Using 0 dataloader workers\n",
      "Logging results to \u001B[1mruns\\detect\\train9\u001B[0m\n",
      "Starting training for 75 epochs...\n",
      "\n",
      "      Epoch    GPU_mem   box_loss   cls_loss   dfl_loss  Instances       Size\n"
     ]
    },
    {
     "name": "stderr",
     "output_type": "stream",
     "text": [
      "       1/75         0G      1.172      2.923      1.177         22        640: 100%|██████████| 68/68 [21:25<00:00, 18.91s/it]\n",
      "                 Class     Images  Instances      Box(P          R      mAP50  mAP50-95): 100%|██████████| 4/4 [00:54<00:00, 13.74s/it]"
     ]
    },
    {
     "name": "stdout",
     "output_type": "stream",
     "text": [
      "                   all        120        335      0.357      0.174     0.0944     0.0634\n"
     ]
    },
    {
     "name": "stderr",
     "output_type": "stream",
     "text": [
      "\n"
     ]
    },
    {
     "name": "stdout",
     "output_type": "stream",
     "text": [
      "\n",
      "      Epoch    GPU_mem   box_loss   cls_loss   dfl_loss  Instances       Size\n"
     ]
    },
    {
     "name": "stderr",
     "output_type": "stream",
     "text": [
      "       2/75         0G      1.268      2.219      1.226         33        640: 100%|██████████| 68/68 [21:18<00:00, 18.79s/it]\n",
      "                 Class     Images  Instances      Box(P          R      mAP50  mAP50-95): 100%|██████████| 4/4 [00:54<00:00, 13.69s/it]"
     ]
    },
    {
     "name": "stdout",
     "output_type": "stream",
     "text": [
      "                   all        120        335      0.304      0.128      0.054      0.028\n"
     ]
    },
    {
     "name": "stderr",
     "output_type": "stream",
     "text": [
      "\n"
     ]
    },
    {
     "name": "stdout",
     "output_type": "stream",
     "text": [
      "\n",
      "      Epoch    GPU_mem   box_loss   cls_loss   dfl_loss  Instances       Size\n"
     ]
    },
    {
     "name": "stderr",
     "output_type": "stream",
     "text": [
      "       3/75         0G       1.34       2.22      1.285         47        640: 100%|██████████| 68/68 [21:15<00:00, 18.76s/it]\n",
      "                 Class     Images  Instances      Box(P          R      mAP50  mAP50-95): 100%|██████████| 4/4 [00:55<00:00, 13.98s/it]"
     ]
    },
    {
     "name": "stdout",
     "output_type": "stream",
     "text": [
      "                   all        120        335      0.521     0.0928     0.0614     0.0354\n"
     ]
    },
    {
     "name": "stderr",
     "output_type": "stream",
     "text": [
      "\n"
     ]
    },
    {
     "name": "stdout",
     "output_type": "stream",
     "text": [
      "\n",
      "      Epoch    GPU_mem   box_loss   cls_loss   dfl_loss  Instances       Size\n"
     ]
    },
    {
     "name": "stderr",
     "output_type": "stream",
     "text": [
      "       4/75         0G      1.389      2.258      1.292         49        640: 100%|██████████| 68/68 [21:19<00:00, 18.82s/it]\n",
      "                 Class     Images  Instances      Box(P          R      mAP50  mAP50-95): 100%|██████████| 4/4 [00:54<00:00, 13.68s/it]"
     ]
    },
    {
     "name": "stdout",
     "output_type": "stream",
     "text": [
      "                   all        120        335      0.328      0.178      0.104     0.0612\n"
     ]
    },
    {
     "name": "stderr",
     "output_type": "stream",
     "text": [
      "\n"
     ]
    },
    {
     "name": "stdout",
     "output_type": "stream",
     "text": [
      "\n",
      "      Epoch    GPU_mem   box_loss   cls_loss   dfl_loss  Instances       Size\n"
     ]
    },
    {
     "name": "stderr",
     "output_type": "stream",
     "text": [
      "       5/75         0G      1.356      2.155       1.26         52        640: 100%|██████████| 68/68 [21:20<00:00, 18.84s/it]\n",
      "                 Class     Images  Instances      Box(P          R      mAP50  mAP50-95): 100%|██████████| 4/4 [00:55<00:00, 13.82s/it]"
     ]
    },
    {
     "name": "stdout",
     "output_type": "stream",
     "text": [
      "                   all        120        335       0.53      0.172      0.111     0.0623\n"
     ]
    },
    {
     "name": "stderr",
     "output_type": "stream",
     "text": [
      "\n"
     ]
    },
    {
     "name": "stdout",
     "output_type": "stream",
     "text": [
      "\n",
      "      Epoch    GPU_mem   box_loss   cls_loss   dfl_loss  Instances       Size\n"
     ]
    },
    {
     "name": "stderr",
     "output_type": "stream",
     "text": [
      "       6/75         0G       1.33      2.129      1.259         51        640: 100%|██████████| 68/68 [21:13<00:00, 18.72s/it]\n",
      "                 Class     Images  Instances      Box(P          R      mAP50  mAP50-95): 100%|██████████| 4/4 [00:55<00:00, 13.83s/it]"
     ]
    },
    {
     "name": "stdout",
     "output_type": "stream",
     "text": [
      "                   all        120        335      0.296      0.214      0.108     0.0627\n"
     ]
    },
    {
     "name": "stderr",
     "output_type": "stream",
     "text": [
      "\n"
     ]
    },
    {
     "name": "stdout",
     "output_type": "stream",
     "text": [
      "\n",
      "      Epoch    GPU_mem   box_loss   cls_loss   dfl_loss  Instances       Size\n"
     ]
    },
    {
     "name": "stderr",
     "output_type": "stream",
     "text": [
      "       7/75         0G      1.305      2.068      1.236         27        640: 100%|██████████| 68/68 [21:21<00:00, 18.85s/it]\n",
      "                 Class     Images  Instances      Box(P          R      mAP50  mAP50-95): 100%|██████████| 4/4 [00:55<00:00, 13.75s/it]"
     ]
    },
    {
     "name": "stdout",
     "output_type": "stream",
     "text": [
      "                   all        120        335       0.56      0.167      0.112      0.067\n"
     ]
    },
    {
     "name": "stderr",
     "output_type": "stream",
     "text": [
      "\n"
     ]
    },
    {
     "name": "stdout",
     "output_type": "stream",
     "text": [
      "\n",
      "      Epoch    GPU_mem   box_loss   cls_loss   dfl_loss  Instances       Size\n"
     ]
    },
    {
     "name": "stderr",
     "output_type": "stream",
     "text": [
      "       8/75         0G      1.272      2.031      1.222         54        640: 100%|██████████| 68/68 [21:12<00:00, 18.72s/it]\n",
      "                 Class     Images  Instances      Box(P          R      mAP50  mAP50-95): 100%|██████████| 4/4 [00:54<00:00, 13.70s/it]"
     ]
    },
    {
     "name": "stdout",
     "output_type": "stream",
     "text": [
      "                   all        120        335      0.646      0.155      0.169      0.112\n"
     ]
    },
    {
     "name": "stderr",
     "output_type": "stream",
     "text": [
      "\n"
     ]
    },
    {
     "name": "stdout",
     "output_type": "stream",
     "text": [
      "\n",
      "      Epoch    GPU_mem   box_loss   cls_loss   dfl_loss  Instances       Size\n"
     ]
    },
    {
     "name": "stderr",
     "output_type": "stream",
     "text": [
      "       9/75         0G      1.251      1.963      1.201         26        640: 100%|██████████| 68/68 [21:22<00:00, 18.86s/it]\n",
      "                 Class     Images  Instances      Box(P          R      mAP50  mAP50-95): 100%|██████████| 4/4 [00:54<00:00, 13.71s/it]"
     ]
    },
    {
     "name": "stdout",
     "output_type": "stream",
     "text": [
      "                   all        120        335      0.382      0.177      0.149     0.0995\n"
     ]
    },
    {
     "name": "stderr",
     "output_type": "stream",
     "text": [
      "\n"
     ]
    },
    {
     "name": "stdout",
     "output_type": "stream",
     "text": [
      "\n",
      "      Epoch    GPU_mem   box_loss   cls_loss   dfl_loss  Instances       Size\n"
     ]
    },
    {
     "name": "stderr",
     "output_type": "stream",
     "text": [
      "      10/75         0G       1.22      1.897      1.196         45        640: 100%|██████████| 68/68 [21:22<00:00, 18.86s/it]\n",
      "                 Class     Images  Instances      Box(P          R      mAP50  mAP50-95): 100%|██████████| 4/4 [00:55<00:00, 13.81s/it]"
     ]
    },
    {
     "name": "stdout",
     "output_type": "stream",
     "text": [
      "                   all        120        335       0.36      0.277      0.152      0.104\n"
     ]
    },
    {
     "name": "stderr",
     "output_type": "stream",
     "text": [
      "\n"
     ]
    },
    {
     "name": "stdout",
     "output_type": "stream",
     "text": [
      "\n",
      "      Epoch    GPU_mem   box_loss   cls_loss   dfl_loss  Instances       Size\n"
     ]
    },
    {
     "name": "stderr",
     "output_type": "stream",
     "text": [
      "      11/75         0G      1.222      1.883      1.189         63        640: 100%|██████████| 68/68 [21:13<00:00, 18.73s/it]\n",
      "                 Class     Images  Instances      Box(P          R      mAP50  mAP50-95): 100%|██████████| 4/4 [00:54<00:00, 13.66s/it]"
     ]
    },
    {
     "name": "stdout",
     "output_type": "stream",
     "text": [
      "                   all        120        335      0.358      0.218      0.146     0.0988\n"
     ]
    },
    {
     "name": "stderr",
     "output_type": "stream",
     "text": [
      "\n"
     ]
    },
    {
     "name": "stdout",
     "output_type": "stream",
     "text": [
      "\n",
      "      Epoch    GPU_mem   box_loss   cls_loss   dfl_loss  Instances       Size\n"
     ]
    },
    {
     "name": "stderr",
     "output_type": "stream",
     "text": [
      "      12/75         0G      1.193      1.836      1.167         32        640: 100%|██████████| 68/68 [21:19<00:00, 18.82s/it]\n",
      "                 Class     Images  Instances      Box(P          R      mAP50  mAP50-95): 100%|██████████| 4/4 [00:55<00:00, 13.81s/it]"
     ]
    },
    {
     "name": "stdout",
     "output_type": "stream",
     "text": [
      "                   all        120        335      0.591        0.2      0.177      0.112\n"
     ]
    },
    {
     "name": "stderr",
     "output_type": "stream",
     "text": [
      "\n"
     ]
    },
    {
     "name": "stdout",
     "output_type": "stream",
     "text": [
      "\n",
      "      Epoch    GPU_mem   box_loss   cls_loss   dfl_loss  Instances       Size\n"
     ]
    },
    {
     "name": "stderr",
     "output_type": "stream",
     "text": [
      "      13/75         0G       1.17       1.76       1.16         27        640: 100%|██████████| 68/68 [21:10<00:00, 18.68s/it]\n",
      "                 Class     Images  Instances      Box(P          R      mAP50  mAP50-95): 100%|██████████| 4/4 [00:54<00:00, 13.68s/it]"
     ]
    },
    {
     "name": "stdout",
     "output_type": "stream",
     "text": [
      "                   all        120        335      0.627      0.222      0.177      0.119\n"
     ]
    },
    {
     "name": "stderr",
     "output_type": "stream",
     "text": [
      "\n"
     ]
    },
    {
     "name": "stdout",
     "output_type": "stream",
     "text": [
      "\n",
      "      Epoch    GPU_mem   box_loss   cls_loss   dfl_loss  Instances       Size\n"
     ]
    },
    {
     "name": "stderr",
     "output_type": "stream",
     "text": [
      "      14/75         0G      1.156      1.768      1.159         22        640: 100%|██████████| 68/68 [21:18<00:00, 18.80s/it]\n",
      "                 Class     Images  Instances      Box(P          R      mAP50  mAP50-95): 100%|██████████| 4/4 [00:54<00:00, 13.70s/it]"
     ]
    },
    {
     "name": "stdout",
     "output_type": "stream",
     "text": [
      "                   all        120        335      0.593      0.193      0.212      0.138\n"
     ]
    },
    {
     "name": "stderr",
     "output_type": "stream",
     "text": [
      "\n"
     ]
    },
    {
     "name": "stdout",
     "output_type": "stream",
     "text": [
      "\n",
      "      Epoch    GPU_mem   box_loss   cls_loss   dfl_loss  Instances       Size\n"
     ]
    },
    {
     "name": "stderr",
     "output_type": "stream",
     "text": [
      "      15/75         0G      1.128      1.741      1.134         40        640: 100%|██████████| 68/68 [21:19<00:00, 18.82s/it]\n",
      "                 Class     Images  Instances      Box(P          R      mAP50  mAP50-95): 100%|██████████| 4/4 [00:54<00:00, 13.71s/it]"
     ]
    },
    {
     "name": "stdout",
     "output_type": "stream",
     "text": [
      "                   all        120        335      0.397      0.211      0.163      0.103\n"
     ]
    },
    {
     "name": "stderr",
     "output_type": "stream",
     "text": [
      "\n"
     ]
    },
    {
     "name": "stdout",
     "output_type": "stream",
     "text": [
      "\n",
      "      Epoch    GPU_mem   box_loss   cls_loss   dfl_loss  Instances       Size\n"
     ]
    },
    {
     "name": "stderr",
     "output_type": "stream",
     "text": [
      "      16/75         0G      1.118      1.755      1.148         25        640: 100%|██████████| 68/68 [21:21<00:00, 18.85s/it]\n",
      "                 Class     Images  Instances      Box(P          R      mAP50  mAP50-95): 100%|██████████| 4/4 [00:54<00:00, 13.72s/it]"
     ]
    },
    {
     "name": "stdout",
     "output_type": "stream",
     "text": [
      "                   all        120        335      0.378        0.3      0.176      0.121\n"
     ]
    },
    {
     "name": "stderr",
     "output_type": "stream",
     "text": [
      "\n"
     ]
    },
    {
     "name": "stdout",
     "output_type": "stream",
     "text": [
      "\n",
      "      Epoch    GPU_mem   box_loss   cls_loss   dfl_loss  Instances       Size\n"
     ]
    },
    {
     "name": "stderr",
     "output_type": "stream",
     "text": [
      "      17/75         0G      1.121      1.674       1.14         74        640: 100%|██████████| 68/68 [21:22<00:00, 18.87s/it]\n",
      "                 Class     Images  Instances      Box(P          R      mAP50  mAP50-95): 100%|██████████| 4/4 [00:55<00:00, 13.79s/it]"
     ]
    },
    {
     "name": "stdout",
     "output_type": "stream",
     "text": [
      "                   all        120        335      0.394      0.192      0.155     0.0977\n"
     ]
    },
    {
     "name": "stderr",
     "output_type": "stream",
     "text": [
      "\n"
     ]
    },
    {
     "name": "stdout",
     "output_type": "stream",
     "text": [
      "\n",
      "      Epoch    GPU_mem   box_loss   cls_loss   dfl_loss  Instances       Size\n"
     ]
    },
    {
     "name": "stderr",
     "output_type": "stream",
     "text": [
      "      18/75         0G      1.113      1.675      1.146         27        640: 100%|██████████| 68/68 [21:13<00:00, 18.73s/it]\n",
      "                 Class     Images  Instances      Box(P          R      mAP50  mAP50-95): 100%|██████████| 4/4 [00:54<00:00, 13.69s/it]"
     ]
    },
    {
     "name": "stdout",
     "output_type": "stream",
     "text": [
      "                   all        120        335      0.384      0.327      0.189      0.124\n"
     ]
    },
    {
     "name": "stderr",
     "output_type": "stream",
     "text": [
      "\n"
     ]
    },
    {
     "name": "stdout",
     "output_type": "stream",
     "text": [
      "\n",
      "      Epoch    GPU_mem   box_loss   cls_loss   dfl_loss  Instances       Size\n"
     ]
    },
    {
     "name": "stderr",
     "output_type": "stream",
     "text": [
      "      19/75         0G      1.081      1.604      1.111         29        640: 100%|██████████| 68/68 [21:22<00:00, 18.85s/it]\n",
      "                 Class     Images  Instances      Box(P          R      mAP50  mAP50-95): 100%|██████████| 4/4 [00:54<00:00, 13.69s/it]"
     ]
    },
    {
     "name": "stdout",
     "output_type": "stream",
     "text": [
      "                   all        120        335      0.449      0.255      0.169      0.114\n"
     ]
    },
    {
     "name": "stderr",
     "output_type": "stream",
     "text": [
      "\n"
     ]
    },
    {
     "name": "stdout",
     "output_type": "stream",
     "text": [
      "\n",
      "      Epoch    GPU_mem   box_loss   cls_loss   dfl_loss  Instances       Size\n"
     ]
    },
    {
     "name": "stderr",
     "output_type": "stream",
     "text": [
      "      20/75         0G      1.068      1.563      1.105         40        640: 100%|██████████| 68/68 [21:18<00:00, 18.80s/it]\n",
      "                 Class     Images  Instances      Box(P          R      mAP50  mAP50-95): 100%|██████████| 4/4 [00:55<00:00, 13.87s/it]"
     ]
    },
    {
     "name": "stdout",
     "output_type": "stream",
     "text": [
      "                   all        120        335      0.397      0.257      0.178      0.128\n"
     ]
    },
    {
     "name": "stderr",
     "output_type": "stream",
     "text": [
      "\n"
     ]
    },
    {
     "name": "stdout",
     "output_type": "stream",
     "text": [
      "\n",
      "      Epoch    GPU_mem   box_loss   cls_loss   dfl_loss  Instances       Size\n"
     ]
    },
    {
     "name": "stderr",
     "output_type": "stream",
     "text": [
      "      21/75         0G      1.044      1.531      1.102         34        640: 100%|██████████| 68/68 [21:13<00:00, 18.73s/it]\n",
      "                 Class     Images  Instances      Box(P          R      mAP50  mAP50-95): 100%|██████████| 4/4 [00:54<00:00, 13.75s/it]"
     ]
    },
    {
     "name": "stdout",
     "output_type": "stream",
     "text": [
      "                   all        120        335      0.521      0.219      0.193      0.125\n"
     ]
    },
    {
     "name": "stderr",
     "output_type": "stream",
     "text": [
      "\n"
     ]
    },
    {
     "name": "stdout",
     "output_type": "stream",
     "text": [
      "\n",
      "      Epoch    GPU_mem   box_loss   cls_loss   dfl_loss  Instances       Size\n"
     ]
    },
    {
     "name": "stderr",
     "output_type": "stream",
     "text": [
      "      22/75         0G      1.048      1.544      1.097         13        640: 100%|██████████| 68/68 [21:18<00:00, 18.81s/it]\n",
      "                 Class     Images  Instances      Box(P          R      mAP50  mAP50-95): 100%|██████████| 4/4 [00:54<00:00, 13.71s/it]"
     ]
    },
    {
     "name": "stdout",
     "output_type": "stream",
     "text": [
      "                   all        120        335      0.601      0.245      0.216      0.145\n"
     ]
    },
    {
     "name": "stderr",
     "output_type": "stream",
     "text": [
      "\n"
     ]
    },
    {
     "name": "stdout",
     "output_type": "stream",
     "text": [
      "\n",
      "      Epoch    GPU_mem   box_loss   cls_loss   dfl_loss  Instances       Size\n"
     ]
    },
    {
     "name": "stderr",
     "output_type": "stream",
     "text": [
      "      23/75         0G      1.028       1.52       1.09         46        640: 100%|██████████| 68/68 [21:20<00:00, 18.83s/it]\n",
      "                 Class     Images  Instances      Box(P          R      mAP50  mAP50-95): 100%|██████████| 4/4 [00:55<00:00, 13.76s/it]"
     ]
    },
    {
     "name": "stdout",
     "output_type": "stream",
     "text": [
      "                   all        120        335      0.418      0.225      0.183      0.117\n"
     ]
    },
    {
     "name": "stderr",
     "output_type": "stream",
     "text": [
      "\n"
     ]
    },
    {
     "name": "stdout",
     "output_type": "stream",
     "text": [
      "\n",
      "      Epoch    GPU_mem   box_loss   cls_loss   dfl_loss  Instances       Size\n"
     ]
    },
    {
     "name": "stderr",
     "output_type": "stream",
     "text": [
      "      24/75         0G      1.036      1.453      1.092         38        640: 100%|██████████| 68/68 [21:13<00:00, 18.72s/it]\n",
      "                 Class     Images  Instances      Box(P          R      mAP50  mAP50-95): 100%|██████████| 4/4 [00:54<00:00, 13.72s/it]"
     ]
    },
    {
     "name": "stdout",
     "output_type": "stream",
     "text": [
      "                   all        120        335      0.561      0.204      0.201      0.136\n"
     ]
    },
    {
     "name": "stderr",
     "output_type": "stream",
     "text": [
      "\n"
     ]
    },
    {
     "name": "stdout",
     "output_type": "stream",
     "text": [
      "\n",
      "      Epoch    GPU_mem   box_loss   cls_loss   dfl_loss  Instances       Size\n"
     ]
    },
    {
     "name": "stderr",
     "output_type": "stream",
     "text": [
      "      25/75         0G      1.049      1.487      1.104         46        640: 100%|██████████| 68/68 [21:19<00:00, 18.81s/it]\n",
      "                 Class     Images  Instances      Box(P          R      mAP50  mAP50-95): 100%|██████████| 4/4 [00:54<00:00, 13.72s/it]"
     ]
    },
    {
     "name": "stdout",
     "output_type": "stream",
     "text": [
      "                   all        120        335      0.454      0.206      0.183       0.13\n"
     ]
    },
    {
     "name": "stderr",
     "output_type": "stream",
     "text": [
      "\n"
     ]
    },
    {
     "name": "stdout",
     "output_type": "stream",
     "text": [
      "\n",
      "      Epoch    GPU_mem   box_loss   cls_loss   dfl_loss  Instances       Size\n"
     ]
    },
    {
     "name": "stderr",
     "output_type": "stream",
     "text": [
      "      26/75         0G     0.9982      1.433      1.075         42        640: 100%|██████████| 68/68 [21:22<00:00, 18.86s/it]\n",
      "                 Class     Images  Instances      Box(P          R      mAP50  mAP50-95): 100%|██████████| 4/4 [00:55<00:00, 13.78s/it]"
     ]
    },
    {
     "name": "stdout",
     "output_type": "stream",
     "text": [
      "                   all        120        335      0.452      0.212      0.191      0.132\n"
     ]
    },
    {
     "name": "stderr",
     "output_type": "stream",
     "text": [
      "\n"
     ]
    },
    {
     "name": "stdout",
     "output_type": "stream",
     "text": [
      "\n",
      "      Epoch    GPU_mem   box_loss   cls_loss   dfl_loss  Instances       Size\n"
     ]
    },
    {
     "name": "stderr",
     "output_type": "stream",
     "text": [
      "      27/75         0G      1.018      1.408      1.082         28        640: 100%|██████████| 68/68 [21:32<00:00, 19.01s/it]\n",
      "                 Class     Images  Instances      Box(P          R      mAP50  mAP50-95): 100%|██████████| 4/4 [00:55<00:00, 13.86s/it]"
     ]
    },
    {
     "name": "stdout",
     "output_type": "stream",
     "text": [
      "                   all        120        335      0.452      0.219      0.187      0.121\n"
     ]
    },
    {
     "name": "stderr",
     "output_type": "stream",
     "text": [
      "\n"
     ]
    },
    {
     "name": "stdout",
     "output_type": "stream",
     "text": [
      "\n",
      "      Epoch    GPU_mem   box_loss   cls_loss   dfl_loss  Instances       Size\n"
     ]
    },
    {
     "name": "stderr",
     "output_type": "stream",
     "text": [
      "      28/75         0G     0.9836      1.352      1.068         36        640: 100%|██████████| 68/68 [21:43<00:00, 19.16s/it]\n",
      "                 Class     Images  Instances      Box(P          R      mAP50  mAP50-95): 100%|██████████| 4/4 [00:56<00:00, 14.03s/it]"
     ]
    },
    {
     "name": "stdout",
     "output_type": "stream",
     "text": [
      "                   all        120        335      0.372      0.216       0.19      0.137\n"
     ]
    },
    {
     "name": "stderr",
     "output_type": "stream",
     "text": [
      "\n"
     ]
    },
    {
     "name": "stdout",
     "output_type": "stream",
     "text": [
      "\n",
      "      Epoch    GPU_mem   box_loss   cls_loss   dfl_loss  Instances       Size\n"
     ]
    },
    {
     "name": "stderr",
     "output_type": "stream",
     "text": [
      "      29/75         0G     0.9888      1.407      1.062         38        640: 100%|██████████| 68/68 [21:49<00:00, 19.26s/it]\n",
      "                 Class     Images  Instances      Box(P          R      mAP50  mAP50-95): 100%|██████████| 4/4 [00:55<00:00, 13.90s/it]"
     ]
    },
    {
     "name": "stdout",
     "output_type": "stream",
     "text": [
      "                   all        120        335      0.497      0.223      0.189      0.134\n"
     ]
    },
    {
     "name": "stderr",
     "output_type": "stream",
     "text": [
      "\n"
     ]
    },
    {
     "name": "stdout",
     "output_type": "stream",
     "text": [
      "\n",
      "      Epoch    GPU_mem   box_loss   cls_loss   dfl_loss  Instances       Size\n"
     ]
    },
    {
     "name": "stderr",
     "output_type": "stream",
     "text": [
      "      30/75         0G     0.9759      1.373      1.062         55        640: 100%|██████████| 68/68 [21:46<00:00, 19.22s/it]\n",
      "                 Class     Images  Instances      Box(P          R      mAP50  mAP50-95): 100%|██████████| 4/4 [00:55<00:00, 13.94s/it]"
     ]
    },
    {
     "name": "stdout",
     "output_type": "stream",
     "text": [
      "                   all        120        335      0.213      0.256      0.167      0.115\n"
     ]
    },
    {
     "name": "stderr",
     "output_type": "stream",
     "text": [
      "\n"
     ]
    },
    {
     "name": "stdout",
     "output_type": "stream",
     "text": [
      "\n",
      "      Epoch    GPU_mem   box_loss   cls_loss   dfl_loss  Instances       Size\n"
     ]
    },
    {
     "name": "stderr",
     "output_type": "stream",
     "text": [
      "      31/75         0G     0.9652      1.289      1.051         47        640: 100%|██████████| 68/68 [21:39<00:00, 19.12s/it]\n",
      "                 Class     Images  Instances      Box(P          R      mAP50  mAP50-95): 100%|██████████| 4/4 [00:55<00:00, 13.98s/it]"
     ]
    },
    {
     "name": "stdout",
     "output_type": "stream",
     "text": [
      "                   all        120        335      0.445      0.224      0.185       0.13\n"
     ]
    },
    {
     "name": "stderr",
     "output_type": "stream",
     "text": [
      "\n"
     ]
    },
    {
     "name": "stdout",
     "output_type": "stream",
     "text": [
      "\n",
      "      Epoch    GPU_mem   box_loss   cls_loss   dfl_loss  Instances       Size\n"
     ]
    },
    {
     "name": "stderr",
     "output_type": "stream",
     "text": [
      "      32/75         0G     0.9694      1.278      1.047         20        640: 100%|██████████| 68/68 [22:10<00:00, 19.57s/it]\n",
      "                 Class     Images  Instances      Box(P          R      mAP50  mAP50-95): 100%|██████████| 4/4 [00:56<00:00, 14.13s/it]"
     ]
    },
    {
     "name": "stdout",
     "output_type": "stream",
     "text": [
      "                   all        120        335      0.209      0.275      0.191      0.136\n"
     ]
    },
    {
     "name": "stderr",
     "output_type": "stream",
     "text": [
      "\n"
     ]
    },
    {
     "name": "stdout",
     "output_type": "stream",
     "text": [
      "\n",
      "      Epoch    GPU_mem   box_loss   cls_loss   dfl_loss  Instances       Size\n"
     ]
    },
    {
     "name": "stderr",
     "output_type": "stream",
     "text": [
      "      33/75         0G     0.9337      1.224      1.032         21        640: 100%|██████████| 68/68 [21:47<00:00, 19.23s/it]\n",
      "                 Class     Images  Instances      Box(P          R      mAP50  mAP50-95): 100%|██████████| 4/4 [00:56<00:00, 14.03s/it]"
     ]
    },
    {
     "name": "stdout",
     "output_type": "stream",
     "text": [
      "                   all        120        335      0.234      0.199      0.182       0.13\n"
     ]
    },
    {
     "name": "stderr",
     "output_type": "stream",
     "text": [
      "\n"
     ]
    },
    {
     "name": "stdout",
     "output_type": "stream",
     "text": [
      "\n",
      "      Epoch    GPU_mem   box_loss   cls_loss   dfl_loss  Instances       Size\n"
     ]
    },
    {
     "name": "stderr",
     "output_type": "stream",
     "text": [
      "      34/75         0G     0.9352       1.25      1.053         30        640: 100%|██████████| 68/68 [21:45<00:00, 19.20s/it]\n",
      "                 Class     Images  Instances      Box(P          R      mAP50  mAP50-95): 100%|██████████| 4/4 [00:56<00:00, 14.06s/it]"
     ]
    },
    {
     "name": "stdout",
     "output_type": "stream",
     "text": [
      "                   all        120        335      0.558       0.22      0.211      0.151\n"
     ]
    },
    {
     "name": "stderr",
     "output_type": "stream",
     "text": [
      "\n"
     ]
    },
    {
     "name": "stdout",
     "output_type": "stream",
     "text": [
      "\n",
      "      Epoch    GPU_mem   box_loss   cls_loss   dfl_loss  Instances       Size\n"
     ]
    },
    {
     "name": "stderr",
     "output_type": "stream",
     "text": [
      "      35/75         0G     0.9489      1.196      1.032         45        640: 100%|██████████| 68/68 [21:42<00:00, 19.16s/it]\n",
      "                 Class     Images  Instances      Box(P          R      mAP50  mAP50-95): 100%|██████████| 4/4 [00:56<00:00, 14.12s/it]"
     ]
    },
    {
     "name": "stdout",
     "output_type": "stream",
     "text": [
      "                   all        120        335      0.329      0.281      0.212      0.153\n"
     ]
    },
    {
     "name": "stderr",
     "output_type": "stream",
     "text": [
      "\n"
     ]
    },
    {
     "name": "stdout",
     "output_type": "stream",
     "text": [
      "\n",
      "      Epoch    GPU_mem   box_loss   cls_loss   dfl_loss  Instances       Size\n"
     ]
    },
    {
     "name": "stderr",
     "output_type": "stream",
     "text": [
      "      36/75         0G     0.9136      1.163      1.022         37        640: 100%|██████████| 68/68 [21:57<00:00, 19.38s/it]\n",
      "                 Class     Images  Instances      Box(P          R      mAP50  mAP50-95): 100%|██████████| 4/4 [00:55<00:00, 13.93s/it]"
     ]
    },
    {
     "name": "stdout",
     "output_type": "stream",
     "text": [
      "                   all        120        335      0.253      0.216        0.2      0.152\n"
     ]
    },
    {
     "name": "stderr",
     "output_type": "stream",
     "text": [
      "\n"
     ]
    },
    {
     "name": "stdout",
     "output_type": "stream",
     "text": [
      "\n",
      "      Epoch    GPU_mem   box_loss   cls_loss   dfl_loss  Instances       Size\n"
     ]
    },
    {
     "name": "stderr",
     "output_type": "stream",
     "text": [
      "      37/75         0G     0.9209      1.176      1.037         26        640: 100%|██████████| 68/68 [21:57<00:00, 19.38s/it]\n",
      "                 Class     Images  Instances      Box(P          R      mAP50  mAP50-95): 100%|██████████| 4/4 [00:56<00:00, 14.12s/it]"
     ]
    },
    {
     "name": "stdout",
     "output_type": "stream",
     "text": [
      "                   all        120        335      0.535      0.206      0.188      0.133\n"
     ]
    },
    {
     "name": "stderr",
     "output_type": "stream",
     "text": [
      "\n"
     ]
    },
    {
     "name": "stdout",
     "output_type": "stream",
     "text": [
      "\n",
      "      Epoch    GPU_mem   box_loss   cls_loss   dfl_loss  Instances       Size\n"
     ]
    },
    {
     "name": "stderr",
     "output_type": "stream",
     "text": [
      "      38/75         0G     0.9337       1.16      1.028         23        640: 100%|██████████| 68/68 [21:43<00:00, 19.17s/it]\n",
      "                 Class     Images  Instances      Box(P          R      mAP50  mAP50-95): 100%|██████████| 4/4 [00:57<00:00, 14.38s/it]"
     ]
    },
    {
     "name": "stdout",
     "output_type": "stream",
     "text": [
      "                   all        120        335      0.589      0.193      0.202      0.146\n"
     ]
    },
    {
     "name": "stderr",
     "output_type": "stream",
     "text": [
      "\n"
     ]
    },
    {
     "name": "stdout",
     "output_type": "stream",
     "text": [
      "\n",
      "      Epoch    GPU_mem   box_loss   cls_loss   dfl_loss  Instances       Size\n"
     ]
    },
    {
     "name": "stderr",
     "output_type": "stream",
     "text": [
      "      39/75         0G     0.8735      1.104      1.011         29        640: 100%|██████████| 68/68 [22:08<00:00, 19.54s/it]\n",
      "                 Class     Images  Instances      Box(P          R      mAP50  mAP50-95): 100%|██████████| 4/4 [00:56<00:00, 14.07s/it]"
     ]
    },
    {
     "name": "stdout",
     "output_type": "stream",
     "text": [
      "                   all        120        335      0.174      0.258      0.161      0.115\n"
     ]
    },
    {
     "name": "stderr",
     "output_type": "stream",
     "text": [
      "\n"
     ]
    },
    {
     "name": "stdout",
     "output_type": "stream",
     "text": [
      "\n",
      "      Epoch    GPU_mem   box_loss   cls_loss   dfl_loss  Instances       Size\n"
     ]
    },
    {
     "name": "stderr",
     "output_type": "stream",
     "text": [
      "      40/75         0G     0.8817      1.067      1.013         40        640: 100%|██████████| 68/68 [21:51<00:00, 19.29s/it]\n",
      "                 Class     Images  Instances      Box(P          R      mAP50  mAP50-95): 100%|██████████| 4/4 [00:55<00:00, 13.95s/it]"
     ]
    },
    {
     "name": "stdout",
     "output_type": "stream",
     "text": [
      "                   all        120        335      0.293      0.237      0.202      0.142\n"
     ]
    },
    {
     "name": "stderr",
     "output_type": "stream",
     "text": [
      "\n"
     ]
    },
    {
     "name": "stdout",
     "output_type": "stream",
     "text": [
      "\n",
      "      Epoch    GPU_mem   box_loss   cls_loss   dfl_loss  Instances       Size\n"
     ]
    },
    {
     "name": "stderr",
     "output_type": "stream",
     "text": [
      "      41/75         0G     0.8749      1.042      1.017         49        640: 100%|██████████| 68/68 [21:16<00:00, 18.77s/it]\n",
      "                 Class     Images  Instances      Box(P          R      mAP50  mAP50-95): 100%|██████████| 4/4 [00:54<00:00, 13.67s/it]"
     ]
    },
    {
     "name": "stdout",
     "output_type": "stream",
     "text": [
      "                   all        120        335      0.453      0.231      0.229      0.171\n"
     ]
    },
    {
     "name": "stderr",
     "output_type": "stream",
     "text": [
      "\n"
     ]
    },
    {
     "name": "stdout",
     "output_type": "stream",
     "text": [
      "\n",
      "      Epoch    GPU_mem   box_loss   cls_loss   dfl_loss  Instances       Size\n"
     ]
    },
    {
     "name": "stderr",
     "output_type": "stream",
     "text": [
      "      42/75         0G     0.8753      1.045      1.012         25        640: 100%|██████████| 68/68 [21:31<00:00, 18.99s/it]\n",
      "                 Class     Images  Instances      Box(P          R      mAP50  mAP50-95): 100%|██████████| 4/4 [00:55<00:00, 13.89s/it]"
     ]
    },
    {
     "name": "stdout",
     "output_type": "stream",
     "text": [
      "                   all        120        335      0.289      0.276      0.205       0.15\n"
     ]
    },
    {
     "name": "stderr",
     "output_type": "stream",
     "text": [
      "\n"
     ]
    },
    {
     "name": "stdout",
     "output_type": "stream",
     "text": [
      "\n",
      "      Epoch    GPU_mem   box_loss   cls_loss   dfl_loss  Instances       Size\n"
     ]
    },
    {
     "name": "stderr",
     "output_type": "stream",
     "text": [
      "      43/75         0G     0.8844      1.065      1.011         22        640: 100%|██████████| 68/68 [21:33<00:00, 19.02s/it]\n",
      "                 Class     Images  Instances      Box(P          R      mAP50  mAP50-95): 100%|██████████| 4/4 [00:54<00:00, 13.70s/it]"
     ]
    },
    {
     "name": "stdout",
     "output_type": "stream",
     "text": [
      "                   all        120        335      0.526      0.236      0.208      0.144\n"
     ]
    },
    {
     "name": "stderr",
     "output_type": "stream",
     "text": [
      "\n"
     ]
    },
    {
     "name": "stdout",
     "output_type": "stream",
     "text": [
      "\n",
      "      Epoch    GPU_mem   box_loss   cls_loss   dfl_loss  Instances       Size\n"
     ]
    },
    {
     "name": "stderr",
     "output_type": "stream",
     "text": [
      "      44/75         0G     0.8534     0.9647     0.9845         34        640: 100%|██████████| 68/68 [21:17<00:00, 18.78s/it]\n",
      "                 Class     Images  Instances      Box(P          R      mAP50  mAP50-95): 100%|██████████| 4/4 [00:54<00:00, 13.63s/it]"
     ]
    },
    {
     "name": "stdout",
     "output_type": "stream",
     "text": [
      "                   all        120        335      0.355      0.229      0.225      0.157\n"
     ]
    },
    {
     "name": "stderr",
     "output_type": "stream",
     "text": [
      "\n"
     ]
    },
    {
     "name": "stdout",
     "output_type": "stream",
     "text": [
      "\n",
      "      Epoch    GPU_mem   box_loss   cls_loss   dfl_loss  Instances       Size\n"
     ]
    },
    {
     "name": "stderr",
     "output_type": "stream",
     "text": [
      "      45/75         0G     0.8555     0.9846      1.003         37        640: 100%|██████████| 68/68 [21:40<00:00, 19.12s/it]\n",
      "                 Class     Images  Instances      Box(P          R      mAP50  mAP50-95): 100%|██████████| 4/4 [00:56<00:00, 14.07s/it]"
     ]
    },
    {
     "name": "stdout",
     "output_type": "stream",
     "text": [
      "                   all        120        335      0.336      0.216      0.216      0.166\n"
     ]
    },
    {
     "name": "stderr",
     "output_type": "stream",
     "text": [
      "\n"
     ]
    },
    {
     "name": "stdout",
     "output_type": "stream",
     "text": [
      "\n",
      "      Epoch    GPU_mem   box_loss   cls_loss   dfl_loss  Instances       Size\n"
     ]
    },
    {
     "name": "stderr",
     "output_type": "stream",
     "text": [
      "      46/75         0G     0.8349     0.9351     0.9889        149        640: 100%|██████████| 68/68 [21:53<00:00, 19.32s/it]\n",
      "                 Class     Images  Instances      Box(P          R      mAP50  mAP50-95): 100%|██████████| 4/4 [00:57<00:00, 14.28s/it]"
     ]
    },
    {
     "name": "stdout",
     "output_type": "stream",
     "text": [
      "                   all        120        335      0.341      0.232      0.201      0.151\n"
     ]
    },
    {
     "name": "stderr",
     "output_type": "stream",
     "text": [
      "\n"
     ]
    },
    {
     "name": "stdout",
     "output_type": "stream",
     "text": [
      "\n",
      "      Epoch    GPU_mem   box_loss   cls_loss   dfl_loss  Instances       Size\n"
     ]
    },
    {
     "name": "stderr",
     "output_type": "stream",
     "text": [
      "      47/75         0G     0.8627      0.949     0.9944         67        640: 100%|██████████| 68/68 [21:45<00:00, 19.20s/it]\n",
      "                 Class     Images  Instances      Box(P          R      mAP50  mAP50-95): 100%|██████████| 4/4 [00:56<00:00, 14.04s/it]"
     ]
    },
    {
     "name": "stdout",
     "output_type": "stream",
     "text": [
      "                   all        120        335      0.326      0.235       0.22      0.162\n"
     ]
    },
    {
     "name": "stderr",
     "output_type": "stream",
     "text": [
      "\n"
     ]
    },
    {
     "name": "stdout",
     "output_type": "stream",
     "text": [
      "\n",
      "      Epoch    GPU_mem   box_loss   cls_loss   dfl_loss  Instances       Size\n"
     ]
    },
    {
     "name": "stderr",
     "output_type": "stream",
     "text": [
      "      48/75         0G     0.8423     0.9435      0.987         30        640: 100%|██████████| 68/68 [21:49<00:00, 19.25s/it]\n",
      "                 Class     Images  Instances      Box(P          R      mAP50  mAP50-95): 100%|██████████| 4/4 [00:55<00:00, 13.81s/it]"
     ]
    },
    {
     "name": "stdout",
     "output_type": "stream",
     "text": [
      "                   all        120        335      0.575      0.236      0.221      0.159\n"
     ]
    },
    {
     "name": "stderr",
     "output_type": "stream",
     "text": [
      "\n"
     ]
    },
    {
     "name": "stdout",
     "output_type": "stream",
     "text": [
      "\n",
      "      Epoch    GPU_mem   box_loss   cls_loss   dfl_loss  Instances       Size\n"
     ]
    },
    {
     "name": "stderr",
     "output_type": "stream",
     "text": [
      "      49/75         0G     0.8259     0.9001     0.9817         40        640: 100%|██████████| 68/68 [21:46<00:00, 19.21s/it]\n",
      "                 Class     Images  Instances      Box(P          R      mAP50  mAP50-95): 100%|██████████| 4/4 [00:55<00:00, 13.87s/it]"
     ]
    },
    {
     "name": "stdout",
     "output_type": "stream",
     "text": [
      "                   all        120        335      0.326      0.225      0.206      0.146\n"
     ]
    },
    {
     "name": "stderr",
     "output_type": "stream",
     "text": [
      "\n"
     ]
    },
    {
     "name": "stdout",
     "output_type": "stream",
     "text": [
      "\n",
      "      Epoch    GPU_mem   box_loss   cls_loss   dfl_loss  Instances       Size\n"
     ]
    },
    {
     "name": "stderr",
     "output_type": "stream",
     "text": [
      "      50/75         0G     0.8217     0.8849     0.9828         61        640: 100%|██████████| 68/68 [21:30<00:00, 18.98s/it]\n",
      "                 Class     Images  Instances      Box(P          R      mAP50  mAP50-95): 100%|██████████| 4/4 [00:54<00:00, 13.69s/it]"
     ]
    },
    {
     "name": "stdout",
     "output_type": "stream",
     "text": [
      "                   all        120        335      0.624      0.184      0.209      0.155\n"
     ]
    },
    {
     "name": "stderr",
     "output_type": "stream",
     "text": [
      "\n"
     ]
    },
    {
     "name": "stdout",
     "output_type": "stream",
     "text": [
      "\n",
      "      Epoch    GPU_mem   box_loss   cls_loss   dfl_loss  Instances       Size\n"
     ]
    },
    {
     "name": "stderr",
     "output_type": "stream",
     "text": [
      "      51/75         0G     0.8279     0.8676      0.988         31        640: 100%|██████████| 68/68 [21:53<00:00, 19.32s/it]\n",
      "                 Class     Images  Instances      Box(P          R      mAP50  mAP50-95): 100%|██████████| 4/4 [00:56<00:00, 14.06s/it]"
     ]
    },
    {
     "name": "stdout",
     "output_type": "stream",
     "text": [
      "                   all        120        335      0.582      0.201      0.196      0.144\n"
     ]
    },
    {
     "name": "stderr",
     "output_type": "stream",
     "text": [
      "\n"
     ]
    },
    {
     "name": "stdout",
     "output_type": "stream",
     "text": [
      "\n",
      "      Epoch    GPU_mem   box_loss   cls_loss   dfl_loss  Instances       Size\n"
     ]
    },
    {
     "name": "stderr",
     "output_type": "stream",
     "text": [
      "      52/75         0G     0.8211     0.8624     0.9779         35        640: 100%|██████████| 68/68 [21:57<00:00, 19.38s/it]\n",
      "                 Class     Images  Instances      Box(P          R      mAP50  mAP50-95): 100%|██████████| 4/4 [00:56<00:00, 14.21s/it]"
     ]
    },
    {
     "name": "stdout",
     "output_type": "stream",
     "text": [
      "                   all        120        335      0.557       0.22      0.197      0.149\n"
     ]
    },
    {
     "name": "stderr",
     "output_type": "stream",
     "text": [
      "\n"
     ]
    },
    {
     "name": "stdout",
     "output_type": "stream",
     "text": [
      "\n",
      "      Epoch    GPU_mem   box_loss   cls_loss   dfl_loss  Instances       Size\n"
     ]
    },
    {
     "name": "stderr",
     "output_type": "stream",
     "text": [
      "      53/75         0G     0.8089     0.8399     0.9746         33        640: 100%|██████████| 68/68 [22:16<00:00, 19.66s/it]\n",
      "                 Class     Images  Instances      Box(P          R      mAP50  mAP50-95): 100%|██████████| 4/4 [00:56<00:00, 14.17s/it]"
     ]
    },
    {
     "name": "stdout",
     "output_type": "stream",
     "text": [
      "                   all        120        335      0.592      0.179      0.198       0.15\n"
     ]
    },
    {
     "name": "stderr",
     "output_type": "stream",
     "text": [
      "\n"
     ]
    },
    {
     "name": "stdout",
     "output_type": "stream",
     "text": [
      "\n",
      "      Epoch    GPU_mem   box_loss   cls_loss   dfl_loss  Instances       Size\n"
     ]
    },
    {
     "name": "stderr",
     "output_type": "stream",
     "text": [
      "      54/75         0G     0.8282     0.8399     0.9791         46        640: 100%|██████████| 68/68 [22:13<00:00, 19.61s/it]\n",
      "                 Class     Images  Instances      Box(P          R      mAP50  mAP50-95): 100%|██████████| 4/4 [00:56<00:00, 14.06s/it]"
     ]
    },
    {
     "name": "stdout",
     "output_type": "stream",
     "text": [
      "                   all        120        335      0.334      0.242      0.201       0.15\n"
     ]
    },
    {
     "name": "stderr",
     "output_type": "stream",
     "text": [
      "\n"
     ]
    },
    {
     "name": "stdout",
     "output_type": "stream",
     "text": [
      "\n",
      "      Epoch    GPU_mem   box_loss   cls_loss   dfl_loss  Instances       Size\n"
     ]
    },
    {
     "name": "stderr",
     "output_type": "stream",
     "text": [
      "      55/75         0G     0.7733     0.7859     0.9621         29        640: 100%|██████████| 68/68 [22:02<00:00, 19.45s/it]\n",
      "                 Class     Images  Instances      Box(P          R      mAP50  mAP50-95): 100%|██████████| 4/4 [00:56<00:00, 14.00s/it]"
     ]
    },
    {
     "name": "stdout",
     "output_type": "stream",
     "text": [
      "                   all        120        335      0.607      0.199      0.198      0.147\n"
     ]
    },
    {
     "name": "stderr",
     "output_type": "stream",
     "text": [
      "\n"
     ]
    },
    {
     "name": "stdout",
     "output_type": "stream",
     "text": [
      "\n",
      "      Epoch    GPU_mem   box_loss   cls_loss   dfl_loss  Instances       Size\n"
     ]
    },
    {
     "name": "stderr",
     "output_type": "stream",
     "text": [
      "      56/75         0G     0.7729     0.7802     0.9581         32        640: 100%|██████████| 68/68 [21:57<00:00, 19.38s/it]\n",
      "                 Class     Images  Instances      Box(P          R      mAP50  mAP50-95): 100%|██████████| 4/4 [00:57<00:00, 14.26s/it]"
     ]
    },
    {
     "name": "stdout",
     "output_type": "stream",
     "text": [
      "                   all        120        335      0.601      0.235       0.21      0.157\n"
     ]
    },
    {
     "name": "stderr",
     "output_type": "stream",
     "text": [
      "\n"
     ]
    },
    {
     "name": "stdout",
     "output_type": "stream",
     "text": [
      "\n",
      "      Epoch    GPU_mem   box_loss   cls_loss   dfl_loss  Instances       Size\n"
     ]
    },
    {
     "name": "stderr",
     "output_type": "stream",
     "text": [
      "      57/75         0G     0.8046     0.7846     0.9673         31        640: 100%|██████████| 68/68 [21:58<00:00, 19.40s/it]\n",
      "                 Class     Images  Instances      Box(P          R      mAP50  mAP50-95): 100%|██████████| 4/4 [00:56<00:00, 14.04s/it]"
     ]
    },
    {
     "name": "stdout",
     "output_type": "stream",
     "text": [
      "                   all        120        335      0.323      0.241      0.229      0.178\n"
     ]
    },
    {
     "name": "stderr",
     "output_type": "stream",
     "text": [
      "\n"
     ]
    },
    {
     "name": "stdout",
     "output_type": "stream",
     "text": [
      "\n",
      "      Epoch    GPU_mem   box_loss   cls_loss   dfl_loss  Instances       Size\n"
     ]
    },
    {
     "name": "stderr",
     "output_type": "stream",
     "text": [
      "      58/75         0G     0.7664     0.7441     0.9583         41        640: 100%|██████████| 68/68 [22:48<00:00, 20.12s/it]\n",
      "                 Class     Images  Instances      Box(P          R      mAP50  mAP50-95): 100%|██████████| 4/4 [00:55<00:00, 13.92s/it]"
     ]
    },
    {
     "name": "stdout",
     "output_type": "stream",
     "text": [
      "                   all        120        335       0.61      0.203      0.206      0.155\n"
     ]
    },
    {
     "name": "stderr",
     "output_type": "stream",
     "text": [
      "\n"
     ]
    },
    {
     "name": "stdout",
     "output_type": "stream",
     "text": [
      "\n",
      "      Epoch    GPU_mem   box_loss   cls_loss   dfl_loss  Instances       Size\n"
     ]
    },
    {
     "name": "stderr",
     "output_type": "stream",
     "text": [
      "      59/75         0G     0.7541     0.7231     0.9505         19        640: 100%|██████████| 68/68 [22:14<00:00, 19.62s/it]\n",
      "                 Class     Images  Instances      Box(P          R      mAP50  mAP50-95): 100%|██████████| 4/4 [00:55<00:00, 13.96s/it]"
     ]
    },
    {
     "name": "stdout",
     "output_type": "stream",
     "text": [
      "                   all        120        335      0.561      0.229        0.2      0.142\n"
     ]
    },
    {
     "name": "stderr",
     "output_type": "stream",
     "text": [
      "\n"
     ]
    },
    {
     "name": "stdout",
     "output_type": "stream",
     "text": [
      "\n",
      "      Epoch    GPU_mem   box_loss   cls_loss   dfl_loss  Instances       Size\n"
     ]
    },
    {
     "name": "stderr",
     "output_type": "stream",
     "text": [
      "      60/75         0G     0.7682     0.7164     0.9549         18        640: 100%|██████████| 68/68 [21:55<00:00, 19.34s/it]\n",
      "                 Class     Images  Instances      Box(P          R      mAP50  mAP50-95): 100%|██████████| 4/4 [00:56<00:00, 14.08s/it]"
     ]
    },
    {
     "name": "stdout",
     "output_type": "stream",
     "text": [
      "                   all        120        335      0.424        0.2      0.209      0.155\n"
     ]
    },
    {
     "name": "stderr",
     "output_type": "stream",
     "text": [
      "\n"
     ]
    },
    {
     "name": "stdout",
     "output_type": "stream",
     "text": [
      "\n",
      "      Epoch    GPU_mem   box_loss   cls_loss   dfl_loss  Instances       Size\n"
     ]
    },
    {
     "name": "stderr",
     "output_type": "stream",
     "text": [
      "      61/75         0G     0.7476     0.7083     0.9438         56        640: 100%|██████████| 68/68 [22:05<00:00, 19.49s/it]\n",
      "                 Class     Images  Instances      Box(P          R      mAP50  mAP50-95): 100%|██████████| 4/4 [00:56<00:00, 14.15s/it]"
     ]
    },
    {
     "name": "stdout",
     "output_type": "stream",
     "text": [
      "                   all        120        335      0.402      0.201      0.191      0.147\n"
     ]
    },
    {
     "name": "stderr",
     "output_type": "stream",
     "text": [
      "\n"
     ]
    },
    {
     "name": "stdout",
     "output_type": "stream",
     "text": [
      "\n",
      "      Epoch    GPU_mem   box_loss   cls_loss   dfl_loss  Instances       Size\n"
     ]
    },
    {
     "name": "stderr",
     "output_type": "stream",
     "text": [
      "      62/75         0G     0.7401      0.709     0.9412         33        640: 100%|██████████| 68/68 [22:07<00:00, 19.52s/it]\n",
      "                 Class     Images  Instances      Box(P          R      mAP50  mAP50-95): 100%|██████████| 4/4 [00:56<00:00, 14.17s/it]"
     ]
    },
    {
     "name": "stdout",
     "output_type": "stream",
     "text": [
      "                   all        120        335        0.6      0.192      0.183      0.139\n"
     ]
    },
    {
     "name": "stderr",
     "output_type": "stream",
     "text": [
      "\n"
     ]
    },
    {
     "name": "stdout",
     "output_type": "stream",
     "text": [
      "\n",
      "      Epoch    GPU_mem   box_loss   cls_loss   dfl_loss  Instances       Size\n"
     ]
    },
    {
     "name": "stderr",
     "output_type": "stream",
     "text": [
      "      63/75         0G     0.7585     0.7066     0.9527         25        640: 100%|██████████| 68/68 [22:28<00:00, 19.84s/it]\n",
      "                 Class     Images  Instances      Box(P          R      mAP50  mAP50-95): 100%|██████████| 4/4 [00:56<00:00, 14.14s/it]"
     ]
    },
    {
     "name": "stdout",
     "output_type": "stream",
     "text": [
      "                   all        120        335       0.56      0.199        0.2      0.146\n"
     ]
    },
    {
     "name": "stderr",
     "output_type": "stream",
     "text": [
      "\n"
     ]
    },
    {
     "name": "stdout",
     "output_type": "stream",
     "text": [
      "\n",
      "      Epoch    GPU_mem   box_loss   cls_loss   dfl_loss  Instances       Size\n"
     ]
    },
    {
     "name": "stderr",
     "output_type": "stream",
     "text": [
      "      64/75         0G     0.7277     0.6594     0.9388         24        640: 100%|██████████| 68/68 [22:22<00:00, 19.75s/it]\n",
      "                 Class     Images  Instances      Box(P          R      mAP50  mAP50-95): 100%|██████████| 4/4 [00:56<00:00, 14.13s/it]"
     ]
    },
    {
     "name": "stdout",
     "output_type": "stream",
     "text": [
      "                   all        120        335      0.674      0.188      0.212      0.163\n"
     ]
    },
    {
     "name": "stderr",
     "output_type": "stream",
     "text": [
      "\n"
     ]
    },
    {
     "name": "stdout",
     "output_type": "stream",
     "text": [
      "\n",
      "      Epoch    GPU_mem   box_loss   cls_loss   dfl_loss  Instances       Size\n"
     ]
    },
    {
     "name": "stderr",
     "output_type": "stream",
     "text": [
      "      65/75         0G     0.7411     0.6744     0.9361         40        640: 100%|██████████| 68/68 [22:22<00:00, 19.74s/it]\n",
      "                 Class     Images  Instances      Box(P          R      mAP50  mAP50-95): 100%|██████████| 4/4 [00:56<00:00, 14.11s/it]"
     ]
    },
    {
     "name": "stdout",
     "output_type": "stream",
     "text": [
      "                   all        120        335      0.381      0.231       0.21      0.157\n"
     ]
    },
    {
     "name": "stderr",
     "output_type": "stream",
     "text": [
      "\n"
     ]
    },
    {
     "name": "stdout",
     "output_type": "stream",
     "text": [
      "Closing dataloader mosaic\n",
      "\u001B[34m\u001B[1malbumentations: \u001B[0mBlur(p=0.01, blur_limit=(3, 7)), MedianBlur(p=0.01, blur_limit=(3, 7)), ToGray(p=0.01), CLAHE(p=0.01, clip_limit=(1, 4.0), tile_grid_size=(8, 8))\n",
      "\n",
      "      Epoch    GPU_mem   box_loss   cls_loss   dfl_loss  Instances       Size\n"
     ]
    },
    {
     "name": "stderr",
     "output_type": "stream",
     "text": [
      "      66/75         0G     0.6715     0.6216     0.9014         15        640: 100%|██████████| 68/68 [22:02<00:00, 19.45s/it]\n",
      "                 Class     Images  Instances      Box(P          R      mAP50  mAP50-95): 100%|██████████| 4/4 [00:56<00:00, 14.18s/it]"
     ]
    },
    {
     "name": "stdout",
     "output_type": "stream",
     "text": [
      "                   all        120        335      0.362      0.211       0.19      0.143\n"
     ]
    },
    {
     "name": "stderr",
     "output_type": "stream",
     "text": [
      "\n"
     ]
    },
    {
     "name": "stdout",
     "output_type": "stream",
     "text": [
      "\n",
      "      Epoch    GPU_mem   box_loss   cls_loss   dfl_loss  Instances       Size\n"
     ]
    },
    {
     "name": "stderr",
     "output_type": "stream",
     "text": [
      "      67/75         0G     0.6672     0.5832     0.8953         19        640: 100%|██████████| 68/68 [22:04<00:00, 19.47s/it]\n",
      "                 Class     Images  Instances      Box(P          R      mAP50  mAP50-95): 100%|██████████| 4/4 [00:56<00:00, 14.22s/it]"
     ]
    },
    {
     "name": "stdout",
     "output_type": "stream",
     "text": [
      "                   all        120        335      0.417      0.213      0.205      0.159\n"
     ]
    },
    {
     "name": "stderr",
     "output_type": "stream",
     "text": [
      "\n"
     ]
    },
    {
     "name": "stdout",
     "output_type": "stream",
     "text": [
      "\n",
      "      Epoch    GPU_mem   box_loss   cls_loss   dfl_loss  Instances       Size\n"
     ]
    },
    {
     "name": "stderr",
     "output_type": "stream",
     "text": [
      "      68/75         0G     0.6415     0.5655     0.8811         14        640: 100%|██████████| 68/68 [22:09<00:00, 19.56s/it]\n",
      "                 Class     Images  Instances      Box(P          R      mAP50  mAP50-95): 100%|██████████| 4/4 [00:56<00:00, 14.19s/it]"
     ]
    },
    {
     "name": "stdout",
     "output_type": "stream",
     "text": [
      "                   all        120        335      0.307      0.235      0.209      0.156\n"
     ]
    },
    {
     "name": "stderr",
     "output_type": "stream",
     "text": [
      "\n"
     ]
    },
    {
     "name": "stdout",
     "output_type": "stream",
     "text": [
      "\n",
      "      Epoch    GPU_mem   box_loss   cls_loss   dfl_loss  Instances       Size\n"
     ]
    },
    {
     "name": "stderr",
     "output_type": "stream",
     "text": [
      "      69/75         0G     0.6462     0.5555     0.8868         54        640: 100%|██████████| 68/68 [22:12<00:00, 19.59s/it]\n",
      "                 Class     Images  Instances      Box(P          R      mAP50  mAP50-95): 100%|██████████| 4/4 [00:57<00:00, 14.41s/it]"
     ]
    },
    {
     "name": "stdout",
     "output_type": "stream",
     "text": [
      "                   all        120        335       0.62      0.214      0.208      0.153\n"
     ]
    },
    {
     "name": "stderr",
     "output_type": "stream",
     "text": [
      "\n"
     ]
    },
    {
     "name": "stdout",
     "output_type": "stream",
     "text": [
      "\n",
      "      Epoch    GPU_mem   box_loss   cls_loss   dfl_loss  Instances       Size\n"
     ]
    },
    {
     "name": "stderr",
     "output_type": "stream",
     "text": [
      "      70/75         0G     0.6549     0.5412     0.8768         66        640: 100%|██████████| 68/68 [22:13<00:00, 19.61s/it]\n",
      "                 Class     Images  Instances      Box(P          R      mAP50  mAP50-95): 100%|██████████| 4/4 [00:56<00:00, 14.21s/it]"
     ]
    },
    {
     "name": "stdout",
     "output_type": "stream",
     "text": [
      "                   all        120        335      0.332      0.235      0.205      0.149\n"
     ]
    },
    {
     "name": "stderr",
     "output_type": "stream",
     "text": [
      "\n"
     ]
    },
    {
     "name": "stdout",
     "output_type": "stream",
     "text": [
      "\n",
      "      Epoch    GPU_mem   box_loss   cls_loss   dfl_loss  Instances       Size\n"
     ]
    },
    {
     "name": "stderr",
     "output_type": "stream",
     "text": [
      "      71/75         0G     0.6369     0.5261     0.8819         13        640: 100%|██████████| 68/68 [22:09<00:00, 19.56s/it]\n",
      "                 Class     Images  Instances      Box(P          R      mAP50  mAP50-95): 100%|██████████| 4/4 [00:56<00:00, 14.09s/it]"
     ]
    },
    {
     "name": "stdout",
     "output_type": "stream",
     "text": [
      "                   all        120        335      0.316      0.219      0.191      0.144\n"
     ]
    },
    {
     "name": "stderr",
     "output_type": "stream",
     "text": [
      "\n"
     ]
    },
    {
     "name": "stdout",
     "output_type": "stream",
     "text": [
      "\n",
      "      Epoch    GPU_mem   box_loss   cls_loss   dfl_loss  Instances       Size\n"
     ]
    },
    {
     "name": "stderr",
     "output_type": "stream",
     "text": [
      "      72/75         0G     0.6033     0.4925     0.8657         11        640: 100%|██████████| 68/68 [21:59<00:00, 19.40s/it]\n",
      "                 Class     Images  Instances      Box(P          R      mAP50  mAP50-95): 100%|██████████| 4/4 [00:56<00:00, 14.12s/it]"
     ]
    },
    {
     "name": "stdout",
     "output_type": "stream",
     "text": [
      "                   all        120        335      0.603      0.213      0.203      0.153\n"
     ]
    },
    {
     "name": "stderr",
     "output_type": "stream",
     "text": [
      "\n"
     ]
    },
    {
     "name": "stdout",
     "output_type": "stream",
     "text": [
      "\n",
      "      Epoch    GPU_mem   box_loss   cls_loss   dfl_loss  Instances       Size\n"
     ]
    },
    {
     "name": "stderr",
     "output_type": "stream",
     "text": [
      "      73/75         0G     0.6286     0.5035      0.873         18        640: 100%|██████████| 68/68 [21:55<00:00, 19.34s/it]\n",
      "                 Class     Images  Instances      Box(P          R      mAP50  mAP50-95): 100%|██████████| 4/4 [00:57<00:00, 14.35s/it]"
     ]
    },
    {
     "name": "stdout",
     "output_type": "stream",
     "text": [
      "                   all        120        335      0.302      0.319      0.217       0.16\n"
     ]
    },
    {
     "name": "stderr",
     "output_type": "stream",
     "text": [
      "\n"
     ]
    },
    {
     "name": "stdout",
     "output_type": "stream",
     "text": [
      "\n",
      "      Epoch    GPU_mem   box_loss   cls_loss   dfl_loss  Instances       Size\n"
     ]
    },
    {
     "name": "stderr",
     "output_type": "stream",
     "text": [
      "      74/75         0G     0.6231     0.5141     0.8801         42        640: 100%|██████████| 68/68 [21:50<00:00, 19.28s/it]\n",
      "                 Class     Images  Instances      Box(P          R      mAP50  mAP50-95): 100%|██████████| 4/4 [00:56<00:00, 14.06s/it]"
     ]
    },
    {
     "name": "stdout",
     "output_type": "stream",
     "text": [
      "                   all        120        335      0.311      0.285      0.216      0.165\n"
     ]
    },
    {
     "name": "stderr",
     "output_type": "stream",
     "text": [
      "\n"
     ]
    },
    {
     "name": "stdout",
     "output_type": "stream",
     "text": [
      "\n",
      "      Epoch    GPU_mem   box_loss   cls_loss   dfl_loss  Instances       Size\n"
     ]
    },
    {
     "name": "stderr",
     "output_type": "stream",
     "text": [
      "      75/75         0G      0.615      0.492     0.8708         16        640: 100%|██████████| 68/68 [21:56<00:00, 19.36s/it]\n",
      "                 Class     Images  Instances      Box(P          R      mAP50  mAP50-95): 100%|██████████| 4/4 [00:56<00:00, 14.02s/it]"
     ]
    },
    {
     "name": "stdout",
     "output_type": "stream",
     "text": [
      "                   all        120        335      0.324      0.279      0.221      0.164\n"
     ]
    },
    {
     "name": "stderr",
     "output_type": "stream",
     "text": [
      "\n"
     ]
    },
    {
     "name": "stdout",
     "output_type": "stream",
     "text": [
      "\n",
      "75 epochs completed in 28.336 hours.\n",
      "Optimizer stripped from runs\\detect\\train9\\weights\\last.pt, 22.5MB\n",
      "Optimizer stripped from runs\\detect\\train9\\weights\\best.pt, 22.5MB\n",
      "\n",
      "Validating runs\\detect\\train9\\weights\\best.pt...\n",
      "Ultralytics YOLOv8.2.28  Python-3.11.7 torch-2.3.1+cpu CPU (AMD Ryzen 9 7950X 16-Core Processor)\n",
      "Model summary (fused): 168 layers, 11127519 parameters, 0 gradients, 28.4 GFLOPs\n"
     ]
    },
    {
     "name": "stderr",
     "output_type": "stream",
     "text": [
      "                 Class     Images  Instances      Box(P          R      mAP50  mAP50-95): 100%|██████████| 4/4 [00:50<00:00, 12.53s/it]\n"
     ]
    },
    {
     "name": "stdout",
     "output_type": "stream",
     "text": [
      "                   all        120        335      0.323      0.241      0.229      0.176\n",
      "               plastic         90        227      0.455      0.401      0.336      0.216\n",
      "                 metal         21         53      0.553      0.396      0.409       0.33\n",
      "                 glass          6         10      0.182        0.1      0.103     0.0799\n",
      "                 paper         26         39      0.426      0.308      0.299      0.251\n",
      "                 other          6          6          0          0          0          0\n",
      "Speed: 2.6ms preprocess, 344.6ms inference, 0.0ms loss, 0.3ms postprocess per image\n",
      "Results saved to \u001B[1mruns\\detect\\train9\u001B[0m\n",
      "Training and metrics saving completed.\n"
     ]
    }
   ],
   "execution_count": 73
  },
  {
   "metadata": {},
   "cell_type": "markdown",
   "source": "Metrics",
   "id": "fd2a4bdbc2c4576d"
  },
  {
   "metadata": {
    "ExecuteTime": {
     "end_time": "2024-06-10T00:39:18.481557Z",
     "start_time": "2024-06-10T00:39:17.927521Z"
    }
   },
   "cell_type": "code",
   "source": [
    "import pandas as pd\n",
    "import matplotlib.pyplot as plt\n",
    "\n",
    "# Load the results.csv file from the specified directory\n",
    "results_csv_path = r'C:\\Users\\Nicho\\Desktop\\Thesis\\yodaTaco2\\results.csv'\n",
    "results_df = pd.read_csv(results_csv_path)\n",
    "\n",
    "# Clean column names by stripping leading and trailing spaces\n",
    "results_df.columns = results_df.columns.str.strip()\n",
    "\n",
    "# Calculate the F1 score for each epoch\n",
    "results_df['f1_score'] = 2 * (results_df['metrics/precision(B)'] * results_df['metrics/recall(B)']) / (results_df['metrics/precision(B)'] + results_df['metrics/recall(B)'])\n",
    "\n",
    "# Calculate the accuracy for each epoch\n",
    "results_df['accuracy'] = results_df['metrics/precision(B)'] * results_df['metrics/recall(B)']\n",
    "\n",
    "# Plot training and validation losses\n",
    "plt.figure(figsize=(12, 6))\n",
    "plt.plot(results_df['epoch'], results_df['train/box_loss'], label='Train Box Loss')\n",
    "plt.plot(results_df['epoch'], results_df['train/cls_loss'], label='Train Class Loss')\n",
    "plt.plot(results_df['epoch'], results_df['train/dfl_loss'], label='Train DFL Loss')\n",
    "plt.plot(results_df['epoch'], results_df['val/box_loss'], label='Validation Box Loss')\n",
    "plt.plot(results_df['epoch'], results_df['val/cls_loss'], label='Validation Class Loss')\n",
    "plt.plot(results_df['epoch'], results_df['val/dfl_loss'], label='Validation DFL Loss')\n",
    "plt.xlabel('Epoch')\n",
    "plt.ylabel('Loss')\n",
    "plt.title('Training and Validation Losses over Epochs')\n",
    "plt.legend()\n",
    "plt.grid(True)\n",
    "plt.show()\n",
    "\n",
    "# Plot precision over epochs\n",
    "plt.figure(figsize=(12, 6))\n",
    "plt.plot(results_df['epoch'], results_df['metrics/precision(B)'], label='Precision')\n",
    "plt.xlabel('Epoch')\n",
    "plt.ylabel('Precision')\n",
    "plt.title('Precision over Epochs')\n",
    "plt.legend()\n",
    "plt.grid(True)\n",
    "plt.show()\n",
    "\n",
    "# Plot recall over epochs\n",
    "plt.figure(figsize=(12, 6))\n",
    "plt.plot(results_df['epoch'], results_df['metrics/recall(B)'], label='Recall')\n",
    "plt.xlabel('Epoch')\n",
    "plt.ylabel('Recall')\n",
    "plt.title('Recall over Epochs')\n",
    "plt.legend()\n",
    "plt.grid(True)\n",
    "plt.show()\n",
    "\n",
    "# Plot mAP over epochs\n",
    "plt.figure(figsize=(12, 6))\n",
    "plt.plot(results_df['epoch'], results_df['metrics/mAP50(B)'], label='mAP50')\n",
    "plt.plot(results_df['epoch'], results_df['metrics/mAP50-95(B)'], label='mAP50-95')\n",
    "plt.xlabel('Epoch')\n",
    "plt.ylabel('mAP')\n",
    "plt.title('mAP over Epochs')\n",
    "plt.legend()\n",
    "plt.grid(True)\n",
    "plt.show()\n",
    "\n",
    "# Plot F1 score over epochs\n",
    "plt.figure(figsize=(12, 6))\n",
    "plt.plot(results_df['epoch'], results_df['f1_score'], label='F1 Score')\n",
    "plt.xlabel('Epoch')\n",
    "plt.ylabel('F1 Score')\n",
    "plt.title('F1 Score over Epochs')\n",
    "plt.legend()\n",
    "plt.grid(True)\n",
    "plt.show()\n",
    "\n",
    "# Plot accuracy over epochs\n",
    "plt.figure(figsize=(12, 6))\n",
    "plt.plot(results_df['epoch'], results_df['accuracy'], label='Accuracy')\n",
    "plt.xlabel('Epoch')\n",
    "plt.ylabel('Accuracy')\n",
    "plt.title('Accuracy over Epochs')\n",
    "plt.legend()\n",
    "plt.grid(True)\n",
    "plt.show()\n",
    "\n",
    "# Summarize the final values for precision, recall, mAP, F1 score, and accuracy\n",
    "final_epoch = results_df.iloc[-1]\n",
    "summary_metrics = {\n",
    "    'Final Precision': final_epoch['metrics/precision(B)'],\n",
    "    'Final Recall': final_epoch['metrics/recall(B)'],\n",
    "    'Final mAP50': final_epoch['metrics/mAP50(B)'],\n",
    "    'Final mAP50-95': final_epoch['metrics/mAP50-95(B)'],\n",
    "    'Final F1 Score': final_epoch['f1_score'],\n",
    "    'Final Accuracy': final_epoch['accuracy']\n",
    "}\n",
    "\n",
    "# Find the best epoch based on F1 score\n",
    "best_epoch_idx = results_df['f1_score'].idxmax()\n",
    "best_epoch = results_df.iloc[best_epoch_idx]\n",
    "best_epoch_details = {\n",
    "    'Best Epoch': best_epoch['epoch'],\n",
    "    'Best Precision': best_epoch['metrics/precision(B)'],\n",
    "    'Best Recall': best_epoch['metrics/recall(B)'],\n",
    "    'Best mAP50': best_epoch['metrics/mAP50(B)'],\n",
    "    'Best mAP50-95': best_epoch['metrics/mAP50-95(B)'],\n",
    "    'Best F1 Score': best_epoch['f1_score'],\n",
    "    'Best Accuracy': best_epoch['accuracy'],\n",
    "    'Train Box Loss': best_epoch['train/box_loss'],\n",
    "    'Train Class Loss': best_epoch['train/cls_loss'],\n",
    "    'Train DFL Loss': best_epoch['train/dfl_loss'],\n",
    "    'Validation Box Loss': best_epoch['val/box_loss'],\n",
    "    'Validation Class Loss': best_epoch['val/cls_loss'],\n",
    "    'Validation DFL Loss': best_epoch['val/dfl_loss']\n",
    "}\n",
    "\n",
    "summary_metrics, best_epoch_details\n"
   ],
   "id": "f2861c76d3e0d8ee",
   "outputs": [
    {
     "data": {
      "text/plain": [
       "<Figure size 1200x600 with 1 Axes>"
      ],
      "image/png": "[encoded data removed]"
     },
     "metadata": {},
     "output_type": "display_data"
    },
    {
     "data": {
      "text/plain": [
       "<Figure size 1200x600 with 1 Axes>"
      ],
      "image/png": "[encoded data removed]"
     },
     "metadata": {},
     "output_type": "display_data"
    },
    {
     "data": {
      "text/plain": [
       "<Figure size 1200x600 with 1 Axes>"
      ],
      "image/png": "[encoded data removed]"
     },
     "metadata": {},
     "output_type": "display_data"
    },
    {
     "data": {
      "text/plain": [
       "<Figure size 1200x600 with 1 Axes>"
      ],
      "image/png": "[encoded data removed]"
     },
     "metadata": {},
     "output_type": "display_data"
    },
    {
     "data": {
      "text/plain": [
       "<Figure size 1200x600 with 1 Axes>"
      ],
      "image/png": "[encoded data removed]"
     },
     "metadata": {},
     "output_type": "display_data"
    },
    {
     "data": {
      "text/plain": [
       "<Figure size 1200x600 with 1 Axes>"
      ],
      "image/png": "[encoded data removed]"
     },
     "metadata": {},
     "output_type": "display_data"
    },
    {
     "data": {
      "text/plain": [
       "({'Final Precision': 0.32379,\n",
       "  'Final Recall': 0.27865,\n",
       "  'Final mAP50': 0.2208,\n",
       "  'Final mAP50-95': 0.16378,\n",
       "  'Final F1 Score': 0.2995288609654073,\n",
       "  'Final Accuracy': 0.09022408350000001},\n",
       " {'Best Epoch': 18.0,\n",
       "  'Best Precision': 0.38362,\n",
       "  'Best Recall': 0.32719,\n",
       "  'Best mAP50': 0.18877,\n",
       "  'Best mAP50-95': 0.12412,\n",
       "  'Best F1 Score': 0.3531650590171776,\n",
       "  'Best Accuracy': 0.1255166278,\n",
       "  'Train Box Loss': 1.1127,\n",
       "  'Train Class Loss': 1.6748,\n",
       "  'Train DFL Loss': 1.1457,\n",
       "  'Validation Box Loss': 1.3175,\n",
       "  'Validation Class Loss': 2.3517,\n",
       "  'Validation DFL Loss': 1.2829})"
      ]
     },
     "execution_count": 9,
     "metadata": {},
     "output_type": "execute_result"
    }
   ],
   "execution_count": 9
  },
  {
   "metadata": {},
   "cell_type": "markdown",
   "source": "Implement the User Interface Functions",
   "id": "b0bd865c811f22d"
  },
  {
   "metadata": {
    "ExecuteTime": {
     "end_time": "2024-06-09T22:50:02.304759Z",
     "start_time": "2024-06-09T22:48:58.623838Z"
    }
   },
   "cell_type": "code",
   "source": [
    "import os\n",
    "import json\n",
    "import torch\n",
    "from PIL import Image, ImageTk\n",
    "import tkinter as tk\n",
    "from tkinter import filedialog\n",
    "import cv2\n",
    "import matplotlib.pyplot as plt\n",
    "from ultralytics import YOLO\n",
    "\n",
    "# Initialize YOLO model with the 'best' weights from the specified directory\n",
    "model_path = 'C:/Users/Nicho/Desktop/Thesis/yodaTaco2/litter-detection-env/runs/detect/train9/weights/best.pt'\n",
    "model = YOLO(model_path)\n",
    "\n",
    "# Ensure the model runs on CPU\n",
    "device = 'cpu'\n",
    "model.to(device)\n",
    "\n",
    "# Updated class names based on the custom_data.yaml file\n",
    "class_names = ['plastic', 'metal', 'glass', 'paper', 'other']\n",
    "\n",
    "# main window\n",
    "root = tk.Tk()\n",
    "root.title(\"Waste Detection Interface\")\n",
    "root.geometry(\"800x600\")\n",
    "\n",
    "# class names in a new window\n",
    "def show_class_names():\n",
    "    class_window = tk.Toplevel(root)\n",
    "    class_window.title(\"Detection Options\")\n",
    "    class_window.geometry(\"300x400\")\n",
    "    tk.Label(class_window, text=\"Detection Classes\", font=(\"Helvetica\", 16)).pack(pady=10)\n",
    "    for idx, class_name in enumerate(class_names):\n",
    "        tk.Label(class_window, text=f\"{idx + 1}. {class_name}\").pack()\n",
    "\n",
    "# image detection\n",
    "def image_detection():\n",
    "    def open_image():\n",
    "        file_path = filedialog.askopenfilename(filetypes=[(\"Image files\", \"*.jpg *.jpeg *.png\")])\n",
    "        if file_path:\n",
    "            image = Image.open(file_path)\n",
    "            results = model.predict(source=image, device=device, conf=0.25, save_txt=False, save_conf=False, classes=range(len(class_names)))\n",
    "\n",
    "            # Display image with bounding boxes\n",
    "            result_img = results[0].plot()\n",
    "            result_img = Image.fromarray(result_img)\n",
    "            result_img = result_img.resize((500, 500), Image.LANCZOS)\n",
    "            img_tk = ImageTk.PhotoImage(result_img)\n",
    "\n",
    "            panel.config(image=img_tk)\n",
    "            panel.image = img_tk\n",
    "\n",
    "    clear_screen()\n",
    "    tk.Label(root, text=\"Image Detection\", font=(\"Helvetica\", 16)).pack()\n",
    "    tk.Button(root, text=\"Select Image\", command=open_image).pack()\n",
    "    tk.Button(root, text=\"Home\", command=home_screen).pack()\n",
    "    global panel\n",
    "    panel = tk.Label(root)\n",
    "    panel.pack()\n",
    "\n",
    "# video detection\n",
    "def video_detection():\n",
    "    def open_video():\n",
    "        file_path = filedialog.askopenfilename(filetypes=[(\"Video files\", \"*.mp4 *.avi *.mov\")])\n",
    "        if file_path:\n",
    "            cap = cv2.VideoCapture(file_path)\n",
    "            while(cap.isOpened()):\n",
    "                ret, frame = cap.read()\n",
    "                if not ret:\n",
    "                    break\n",
    "                results = model.predict(source=frame, device=device, conf=0.25, save_txt=False, save_conf=False, classes=range(len(class_names)))\n",
    "                frame = results[0].plot()\n",
    "                cv2.imshow('Video Detection', frame)\n",
    "                if cv2.waitKey(25) & 0xFF == ord('q'):\n",
    "                    break\n",
    "            cap.release()\n",
    "            cv2.destroyAllWindows()\n",
    "    \n",
    "    clear_screen()\n",
    "    tk.Label(root, text=\"Video Detection\", font=(\"Helvetica\", 16)).pack()\n",
    "    tk.Button(root, text=\"Select Video\", command=open_video).pack()\n",
    "    tk.Button(root, text=\"Home\", command=home_screen).pack()\n",
    "\n",
    "# live feed detection\n",
    "def live_feed_detection():\n",
    "    def start_live_feed():\n",
    "        cap = cv2.VideoCapture(0)  \n",
    "        while(True):\n",
    "            ret, frame = cap.read()\n",
    "            if not ret:\n",
    "                break\n",
    "            results = model.predict(source=frame, device=device, conf=0.25, save_txt=False, save_conf=False, classes=range(len(class_names)))\n",
    "            frame = results[0].plot()\n",
    "            cv2.imshow('Live Feed Detection', frame)\n",
    "            if cv2.waitKey(25) & 0xFF == ord('q'):\n",
    "                break\n",
    "        cap.release()\n",
    "        cv2.destroyAllWindows()\n",
    "\n",
    "    clear_screen()\n",
    "    tk.Label(root, text=\"Live Feed Detection\", font=(\"Helvetica\", 16)).pack()\n",
    "    tk.Button(root, text=\"Start Live Feed\", command=start_live_feed).pack()\n",
    "    tk.Button(root, text=\"Home\", command=home_screen).pack()\n",
    "\n",
    "# clear  screen\n",
    "def clear_screen():\n",
    "    for widget in root.winfo_children():\n",
    "        widget.destroy()\n",
    "\n",
    "# home screen\n",
    "def home_screen():\n",
    "    clear_screen()\n",
    "    tk.Label(root, text=\"Waste Detection Interface\", font=(\"Helvetica\", 20)).pack(pady=20)\n",
    "    tk.Button(root, text=\"Image Detection\", command=image_detection, width=20, height=2).pack(pady=10)\n",
    "    tk.Button(root, text=\"Video Detection\", command=video_detection, width=20, height=2).pack(pady=10)\n",
    "    tk.Button(root, text=\"Live Feed Detection\", command=live_feed_detection, width=20, height=2).pack(pady=10)\n",
    "    tk.Button(root, text=\"Show Detection Classes\", command=show_class_names, width=20, height=2).pack(pady=10)\n",
    "\n",
    "home_screen()\n",
    "\n",
    "root.mainloop()\n"
   ],
   "id": "27bb71ba9b09887c",
   "outputs": [
    {
     "name": "stdout",
     "output_type": "stream",
     "text": [
      "\n",
      "0: 480x640 1 plastic, 4 metals, 1 paper, 63.4ms\n",
      "Speed: 2.8ms preprocess, 63.4ms inference, 1.0ms postprocess per image at shape (1, 3, 480, 640)\n",
      "\n",
      "0: 480x640 1 plastic, 4 metals, 58.1ms\n",
      "Speed: 1.0ms preprocess, 58.1ms inference, 1.0ms postprocess per image at shape (1, 3, 480, 640)\n",
      "\n",
      "0: 480x640 2 plastics, 4 metals, 1 glass, 2 papers, 57.9ms\n",
      "Speed: 1.5ms preprocess, 57.9ms inference, 0.0ms postprocess per image at shape (1, 3, 480, 640)\n",
      "\n",
      "0: 480x640 1 plastic, 4 metals, 1 paper, 58.1ms\n",
      "Speed: 1.0ms preprocess, 58.1ms inference, 0.0ms postprocess per image at shape (1, 3, 480, 640)\n",
      "\n",
      "0: 480x640 4 metals, 1 paper, 58.5ms\n",
      "Speed: 1.0ms preprocess, 58.5ms inference, 0.5ms postprocess per image at shape (1, 3, 480, 640)\n",
      "\n",
      "0: 480x640 1 plastic, 4 metals, 1 glass, 1 paper, 57.3ms\n",
      "Speed: 1.5ms preprocess, 57.3ms inference, 0.0ms postprocess per image at shape (1, 3, 480, 640)\n",
      "\n",
      "0: 480x640 1 plastic, 3 metals, 2 papers, 55.6ms\n",
      "Speed: 1.5ms preprocess, 55.6ms inference, 1.0ms postprocess per image at shape (1, 3, 480, 640)\n",
      "\n",
      "0: 480x640 3 plastics, 3 metals, 2 glasss, 57.0ms\n",
      "Speed: 1.0ms preprocess, 57.0ms inference, 0.0ms postprocess per image at shape (1, 3, 480, 640)\n",
      "\n",
      "0: 480x640 3 metals, 2 glasss, 1 paper, 58.2ms\n",
      "Speed: 1.0ms preprocess, 58.2ms inference, 1.0ms postprocess per image at shape (1, 3, 480, 640)\n",
      "\n",
      "0: 480x640 1 plastic, 3 metals, 1 paper, 59.3ms\n",
      "Speed: 0.5ms preprocess, 59.3ms inference, 0.0ms postprocess per image at shape (1, 3, 480, 640)\n",
      "\n",
      "0: 480x640 2 plastics, 3 metals, 1 paper, 57.7ms\n",
      "Speed: 1.0ms preprocess, 57.7ms inference, 1.0ms postprocess per image at shape (1, 3, 480, 640)\n",
      "\n",
      "0: 480x640 1 plastic, 2 metals, 1 paper, 56.7ms\n",
      "Speed: 1.5ms preprocess, 56.7ms inference, 1.0ms postprocess per image at shape (1, 3, 480, 640)\n",
      "\n",
      "0: 480x640 2 plastics, 3 metals, 1 glass, 1 paper, 56.7ms\n",
      "Speed: 0.5ms preprocess, 56.7ms inference, 0.0ms postprocess per image at shape (1, 3, 480, 640)\n",
      "\n",
      "0: 480x640 2 plastics, 3 metals, 1 glass, 1 paper, 58.3ms\n",
      "Speed: 1.0ms preprocess, 58.3ms inference, 0.0ms postprocess per image at shape (1, 3, 480, 640)\n",
      "\n",
      "0: 480x640 1 plastic, 4 metals, 1 paper, 57.4ms\n",
      "Speed: 1.0ms preprocess, 57.4ms inference, 0.5ms postprocess per image at shape (1, 3, 480, 640)\n",
      "\n",
      "0: 480x640 1 plastic, 2 metals, 1 paper, 57.4ms\n",
      "Speed: 1.0ms preprocess, 57.4ms inference, 0.5ms postprocess per image at shape (1, 3, 480, 640)\n",
      "\n",
      "0: 480x640 1 plastic, 3 metals, 1 glass, 1 paper, 57.1ms\n",
      "Speed: 1.0ms preprocess, 57.1ms inference, 0.0ms postprocess per image at shape (1, 3, 480, 640)\n",
      "\n",
      "0: 480x640 2 plastics, 3 metals, 2 glasss, 2 papers, 57.9ms\n",
      "Speed: 1.5ms preprocess, 57.9ms inference, 1.0ms postprocess per image at shape (1, 3, 480, 640)\n",
      "\n",
      "0: 480x640 2 plastics, 4 metals, 1 glass, 1 paper, 56.8ms\n",
      "Speed: 1.0ms preprocess, 56.8ms inference, 1.0ms postprocess per image at shape (1, 3, 480, 640)\n",
      "\n",
      "0: 480x640 1 plastic, 3 metals, 2 papers, 56.5ms\n",
      "Speed: 1.0ms preprocess, 56.5ms inference, 1.0ms postprocess per image at shape (1, 3, 480, 640)\n",
      "\n",
      "0: 480x640 1 plastic, 3 metals, 1 glass, 1 paper, 57.6ms\n",
      "Speed: 1.0ms preprocess, 57.6ms inference, 0.5ms postprocess per image at shape (1, 3, 480, 640)\n",
      "\n",
      "0: 480x640 1 plastic, 5 metals, 1 paper, 56.3ms\n",
      "Speed: 1.0ms preprocess, 56.3ms inference, 1.0ms postprocess per image at shape (1, 3, 480, 640)\n",
      "\n",
      "0: 480x640 2 plastics, 3 metals, 1 paper, 58.1ms\n",
      "Speed: 1.0ms preprocess, 58.1ms inference, 1.0ms postprocess per image at shape (1, 3, 480, 640)\n",
      "\n",
      "0: 480x640 2 plastics, 3 metals, 1 paper, 57.9ms\n",
      "Speed: 1.0ms preprocess, 57.9ms inference, 0.0ms postprocess per image at shape (1, 3, 480, 640)\n",
      "\n",
      "0: 480x640 1 plastic, 3 metals, 58.7ms\n",
      "Speed: 1.0ms preprocess, 58.7ms inference, 0.0ms postprocess per image at shape (1, 3, 480, 640)\n",
      "\n",
      "0: 480x640 1 plastic, 3 metals, 57.7ms\n",
      "Speed: 1.0ms preprocess, 57.7ms inference, 0.0ms postprocess per image at shape (1, 3, 480, 640)\n",
      "\n",
      "0: 480x640 4 metals, 1 paper, 56.7ms\n",
      "Speed: 1.5ms preprocess, 56.7ms inference, 1.0ms postprocess per image at shape (1, 3, 480, 640)\n",
      "\n",
      "0: 480x640 2 plastics, 5 metals, 2 papers, 58.1ms\n",
      "Speed: 1.0ms preprocess, 58.1ms inference, 0.5ms postprocess per image at shape (1, 3, 480, 640)\n",
      "\n",
      "0: 480x640 2 plastics, 5 metals, 2 papers, 57.7ms\n",
      "Speed: 0.5ms preprocess, 57.7ms inference, 0.5ms postprocess per image at shape (1, 3, 480, 640)\n",
      "\n",
      "0: 480x640 1 plastic, 4 metals, 2 papers, 56.5ms\n",
      "Speed: 1.0ms preprocess, 56.5ms inference, 0.8ms postprocess per image at shape (1, 3, 480, 640)\n",
      "\n",
      "0: 480x640 1 plastic, 3 metals, 1 paper, 57.7ms\n",
      "Speed: 0.5ms preprocess, 57.7ms inference, 1.0ms postprocess per image at shape (1, 3, 480, 640)\n",
      "\n",
      "0: 480x640 1 plastic, 3 metals, 1 paper, 58.1ms\n",
      "Speed: 1.0ms preprocess, 58.1ms inference, 1.0ms postprocess per image at shape (1, 3, 480, 640)\n",
      "\n",
      "0: 480x640 2 plastics, 4 metals, 1 paper, 57.4ms\n",
      "Speed: 1.0ms preprocess, 57.4ms inference, 1.0ms postprocess per image at shape (1, 3, 480, 640)\n",
      "\n",
      "0: 480x640 2 plastics, 4 metals, 59.9ms\n",
      "Speed: 1.0ms preprocess, 59.9ms inference, 0.0ms postprocess per image at shape (1, 3, 480, 640)\n",
      "\n",
      "0: 480x640 1 plastic, 5 metals, 2 papers, 56.9ms\n",
      "Speed: 1.0ms preprocess, 56.9ms inference, 1.5ms postprocess per image at shape (1, 3, 480, 640)\n",
      "\n",
      "0: 480x640 1 plastic, 4 metals, 2 papers, 57.8ms\n",
      "Speed: 1.0ms preprocess, 57.8ms inference, 0.0ms postprocess per image at shape (1, 3, 480, 640)\n",
      "\n",
      "0: 480x640 1 plastic, 3 metals, 1 paper, 58.7ms\n",
      "Speed: 1.0ms preprocess, 58.7ms inference, 1.0ms postprocess per image at shape (1, 3, 480, 640)\n",
      "\n",
      "0: 480x640 1 plastic, 4 metals, 1 paper, 57.6ms\n",
      "Speed: 1.4ms preprocess, 57.6ms inference, 0.0ms postprocess per image at shape (1, 3, 480, 640)\n",
      "\n",
      "0: 480x640 1 plastic, 4 metals, 2 papers, 58.6ms\n",
      "Speed: 1.0ms preprocess, 58.6ms inference, 1.0ms postprocess per image at shape (1, 3, 480, 640)\n",
      "\n",
      "0: 480x640 2 plastics, 4 metals, 58.4ms\n",
      "Speed: 1.0ms preprocess, 58.4ms inference, 0.5ms postprocess per image at shape (1, 3, 480, 640)\n",
      "\n",
      "0: 480x640 2 plastics, 4 metals, 57.3ms\n",
      "Speed: 1.0ms preprocess, 57.3ms inference, 1.0ms postprocess per image at shape (1, 3, 480, 640)\n",
      "\n",
      "0: 480x640 2 plastics, 3 metals, 2 papers, 57.1ms\n",
      "Speed: 1.0ms preprocess, 57.1ms inference, 1.0ms postprocess per image at shape (1, 3, 480, 640)\n",
      "\n",
      "0: 480x640 2 plastics, 3 metals, 2 papers, 57.8ms\n",
      "Speed: 1.0ms preprocess, 57.8ms inference, 0.0ms postprocess per image at shape (1, 3, 480, 640)\n",
      "\n",
      "0: 480x640 2 plastics, 2 metals, 1 glass, 2 papers, 57.6ms\n",
      "Speed: 1.5ms preprocess, 57.6ms inference, 1.0ms postprocess per image at shape (1, 3, 480, 640)\n",
      "\n",
      "0: 480x640 1 plastic, 2 metals, 1 paper, 57.6ms\n",
      "Speed: 1.0ms preprocess, 57.6ms inference, 1.0ms postprocess per image at shape (1, 3, 480, 640)\n",
      "\n",
      "0: 480x640 2 plastics, 3 metals, 2 papers, 58.1ms\n",
      "Speed: 1.0ms preprocess, 58.1ms inference, 0.0ms postprocess per image at shape (1, 3, 480, 640)\n",
      "\n",
      "0: 480x640 1 plastic, 4 metals, 2 papers, 58.8ms\n",
      "Speed: 1.1ms preprocess, 58.8ms inference, 1.0ms postprocess per image at shape (1, 3, 480, 640)\n",
      "\n",
      "0: 480x640 4 metals, 1 paper, 57.4ms\n",
      "Speed: 1.5ms preprocess, 57.4ms inference, 1.0ms postprocess per image at shape (1, 3, 480, 640)\n",
      "\n",
      "0: 480x640 1 plastic, 3 metals, 1 glass, 1 paper, 60.0ms\n",
      "Speed: 1.0ms preprocess, 60.0ms inference, 0.0ms postprocess per image at shape (1, 3, 480, 640)\n",
      "\n",
      "0: 480x640 1 plastic, 4 metals, 2 papers, 58.5ms\n",
      "Speed: 1.0ms preprocess, 58.5ms inference, 0.5ms postprocess per image at shape (1, 3, 480, 640)\n",
      "\n",
      "0: 480x640 1 plastic, 4 metals, 1 glass, 1 paper, 59.9ms\n",
      "Speed: 1.0ms preprocess, 59.9ms inference, 0.0ms postprocess per image at shape (1, 3, 480, 640)\n",
      "\n",
      "0: 480x640 1 plastic, 3 metals, 2 papers, 57.3ms\n",
      "Speed: 1.5ms preprocess, 57.3ms inference, 0.0ms postprocess per image at shape (1, 3, 480, 640)\n",
      "\n",
      "0: 480x640 1 plastic, 3 metals, 2 papers, 59.8ms\n",
      "Speed: 1.0ms preprocess, 59.8ms inference, 1.0ms postprocess per image at shape (1, 3, 480, 640)\n",
      "\n",
      "0: 480x640 1 plastic, 3 metals, 1 paper, 58.4ms\n",
      "Speed: 1.0ms preprocess, 58.4ms inference, 0.5ms postprocess per image at shape (1, 3, 480, 640)\n",
      "\n",
      "0: 480x640 1 plastic, 4 metals, 1 paper, 59.4ms\n",
      "Speed: 1.5ms preprocess, 59.4ms inference, 0.0ms postprocess per image at shape (1, 3, 480, 640)\n",
      "\n",
      "0: 480x640 1 plastic, 3 metals, 1 glass, 1 paper, 58.4ms\n",
      "Speed: 1.0ms preprocess, 58.4ms inference, 1.0ms postprocess per image at shape (1, 3, 480, 640)\n",
      "\n",
      "0: 480x640 2 plastics, 3 metals, 2 papers, 58.9ms\n",
      "Speed: 1.0ms preprocess, 58.9ms inference, 1.0ms postprocess per image at shape (1, 3, 480, 640)\n",
      "\n",
      "0: 480x640 1 plastic, 4 metals, 1 paper, 66.2ms\n",
      "Speed: 1.5ms preprocess, 66.2ms inference, 1.5ms postprocess per image at shape (1, 3, 480, 640)\n",
      "\n",
      "0: 480x640 4 metals, 1 paper, 81.7ms\n",
      "Speed: 2.0ms preprocess, 81.7ms inference, 0.5ms postprocess per image at shape (1, 3, 480, 640)\n",
      "\n",
      "0: 480x640 1 plastic, 5 metals, 1 glass, 2 papers, 63.0ms\n",
      "Speed: 0.5ms preprocess, 63.0ms inference, 1.0ms postprocess per image at shape (1, 3, 480, 640)\n",
      "\n",
      "0: 480x640 2 plastics, 5 metals, 1 glass, 1 paper, 58.7ms\n",
      "Speed: 1.6ms preprocess, 58.7ms inference, 0.5ms postprocess per image at shape (1, 3, 480, 640)\n",
      "\n",
      "0: 480x640 2 plastics, 4 metals, 58.4ms\n",
      "Speed: 0.5ms preprocess, 58.4ms inference, 1.0ms postprocess per image at shape (1, 3, 480, 640)\n",
      "\n",
      "0: 480x640 1 plastic, 4 metals, 1 paper, 58.6ms\n",
      "Speed: 1.0ms preprocess, 58.6ms inference, 0.5ms postprocess per image at shape (1, 3, 480, 640)\n",
      "\n",
      "0: 480x640 1 plastic, 4 metals, 58.2ms\n",
      "Speed: 1.0ms preprocess, 58.2ms inference, 1.0ms postprocess per image at shape (1, 3, 480, 640)\n",
      "\n",
      "0: 480x640 1 plastic, 3 metals, 1 paper, 58.6ms\n",
      "Speed: 1.1ms preprocess, 58.6ms inference, 0.5ms postprocess per image at shape (1, 3, 480, 640)\n",
      "\n",
      "0: 480x640 1 plastic, 4 metals, 1 paper, 58.3ms\n",
      "Speed: 1.0ms preprocess, 58.3ms inference, 1.0ms postprocess per image at shape (1, 3, 480, 640)\n",
      "\n",
      "0: 480x640 1 plastic, 4 metals, 57.9ms\n",
      "Speed: 1.0ms preprocess, 57.9ms inference, 0.0ms postprocess per image at shape (1, 3, 480, 640)\n",
      "\n",
      "0: 480x640 1 plastic, 4 metals, 1 paper, 58.3ms\n",
      "Speed: 1.0ms preprocess, 58.3ms inference, 1.0ms postprocess per image at shape (1, 3, 480, 640)\n",
      "\n",
      "0: 480x640 1 plastic, 4 metals, 57.1ms\n",
      "Speed: 1.0ms preprocess, 57.1ms inference, 1.0ms postprocess per image at shape (1, 3, 480, 640)\n",
      "\n",
      "0: 480x640 1 plastic, 4 metals, 1 paper, 57.9ms\n",
      "Speed: 1.0ms preprocess, 57.9ms inference, 0.5ms postprocess per image at shape (1, 3, 480, 640)\n",
      "\n",
      "0: 480x640 1 plastic, 4 metals, 1 paper, 59.3ms\n",
      "Speed: 1.0ms preprocess, 59.3ms inference, 0.5ms postprocess per image at shape (1, 3, 480, 640)\n",
      "\n",
      "0: 480x640 1 plastic, 4 metals, 3 papers, 59.2ms\n",
      "Speed: 1.0ms preprocess, 59.2ms inference, 1.0ms postprocess per image at shape (1, 3, 480, 640)\n",
      "\n",
      "0: 480x640 1 plastic, 3 metals, 2 papers, 59.8ms\n",
      "Speed: 1.5ms preprocess, 59.8ms inference, 0.5ms postprocess per image at shape (1, 3, 480, 640)\n",
      "\n",
      "0: 480x640 2 plastics, 2 metals, 2 papers, 57.9ms\n",
      "Speed: 1.0ms preprocess, 57.9ms inference, 0.5ms postprocess per image at shape (1, 3, 480, 640)\n",
      "\n",
      "0: 480x640 2 plastics, 3 metals, 2 papers, 56.8ms\n",
      "Speed: 1.0ms preprocess, 56.8ms inference, 1.0ms postprocess per image at shape (1, 3, 480, 640)\n",
      "\n",
      "0: 480x640 1 plastic, 3 metals, 1 paper, 58.1ms\n",
      "Speed: 0.5ms preprocess, 58.1ms inference, 1.0ms postprocess per image at shape (1, 3, 480, 640)\n",
      "\n",
      "0: 480x640 1 plastic, 4 metals, 1 paper, 58.4ms\n",
      "Speed: 1.0ms preprocess, 58.4ms inference, 0.0ms postprocess per image at shape (1, 3, 480, 640)\n",
      "\n",
      "0: 480x640 2 plastics, 4 metals, 57.0ms\n",
      "Speed: 1.0ms preprocess, 57.0ms inference, 0.0ms postprocess per image at shape (1, 3, 480, 640)\n",
      "\n",
      "0: 480x640 1 plastic, 3 metals, 1 paper, 57.6ms\n",
      "Speed: 1.0ms preprocess, 57.6ms inference, 0.0ms postprocess per image at shape (1, 3, 480, 640)\n",
      "\n",
      "0: 480x640 1 plastic, 3 metals, 57.6ms\n",
      "Speed: 1.0ms preprocess, 57.6ms inference, 0.0ms postprocess per image at shape (1, 3, 480, 640)\n",
      "\n",
      "0: 480x640 1 plastic, 3 metals, 59.0ms\n",
      "Speed: 1.5ms preprocess, 59.0ms inference, 0.5ms postprocess per image at shape (1, 3, 480, 640)\n",
      "\n",
      "0: 480x640 1 plastic, 4 metals, 1 paper, 57.9ms\n",
      "Speed: 1.0ms preprocess, 57.9ms inference, 1.0ms postprocess per image at shape (1, 3, 480, 640)\n",
      "\n",
      "0: 480x640 1 plastic, 4 metals, 1 paper, 59.2ms\n",
      "Speed: 1.0ms preprocess, 59.2ms inference, 0.5ms postprocess per image at shape (1, 3, 480, 640)\n",
      "\n",
      "0: 480x640 1 plastic, 4 metals, 1 paper, 57.8ms\n",
      "Speed: 1.5ms preprocess, 57.8ms inference, 1.0ms postprocess per image at shape (1, 3, 480, 640)\n",
      "\n",
      "0: 480x640 1 plastic, 4 metals, 58.2ms\n",
      "Speed: 1.0ms preprocess, 58.2ms inference, 0.0ms postprocess per image at shape (1, 3, 480, 640)\n",
      "\n",
      "0: 480x640 2 plastics, 2 metals, 1 paper, 57.9ms\n",
      "Speed: 1.0ms preprocess, 57.9ms inference, 0.0ms postprocess per image at shape (1, 3, 480, 640)\n",
      "\n",
      "0: 480x640 1 plastic, 3 metals, 57.1ms\n",
      "Speed: 1.0ms preprocess, 57.1ms inference, 0.0ms postprocess per image at shape (1, 3, 480, 640)\n",
      "\n",
      "0: 480x640 1 plastic, 4 metals, 56.9ms\n",
      "Speed: 1.0ms preprocess, 56.9ms inference, 1.0ms postprocess per image at shape (1, 3, 480, 640)\n",
      "\n",
      "0: 480x640 1 plastic, 4 metals, 63.6ms\n",
      "Speed: 0.5ms preprocess, 63.6ms inference, 0.5ms postprocess per image at shape (1, 3, 480, 640)\n",
      "\n",
      "0: 480x640 1 plastic, 5 metals, 59.8ms\n",
      "Speed: 1.5ms preprocess, 59.8ms inference, 0.5ms postprocess per image at shape (1, 3, 480, 640)\n",
      "\n",
      "0: 480x640 2 plastics, 3 metals, 1 glass, 1 paper, 60.5ms\n",
      "Speed: 1.0ms preprocess, 60.5ms inference, 0.0ms postprocess per image at shape (1, 3, 480, 640)\n",
      "\n",
      "0: 480x640 2 plastics, 4 metals, 2 papers, 61.3ms\n",
      "Speed: 0.0ms preprocess, 61.3ms inference, 0.5ms postprocess per image at shape (1, 3, 480, 640)\n",
      "\n",
      "0: 480x640 1 plastic, 5 metals, 1 glass, 1 paper, 60.6ms\n",
      "Speed: 1.0ms preprocess, 60.6ms inference, 0.5ms postprocess per image at shape (1, 3, 480, 640)\n",
      "\n",
      "0: 480x640 2 plastics, 3 metals, 1 glass, 2 papers, 57.8ms\n",
      "Speed: 1.0ms preprocess, 57.8ms inference, 0.0ms postprocess per image at shape (1, 3, 480, 640)\n",
      "\n",
      "0: 480x640 1 plastic, 2 metals, 58.7ms\n",
      "Speed: 1.0ms preprocess, 58.7ms inference, 0.0ms postprocess per image at shape (1, 3, 480, 640)\n",
      "\n",
      "0: 480x640 1 plastic, 2 metals, 58.1ms\n",
      "Speed: 1.0ms preprocess, 58.1ms inference, 1.0ms postprocess per image at shape (1, 3, 480, 640)\n",
      "\n",
      "0: 480x640 1 plastic, 1 paper, 63.0ms\n",
      "Speed: 1.0ms preprocess, 63.0ms inference, 0.0ms postprocess per image at shape (1, 3, 480, 640)\n",
      "\n",
      "0: 480x640 1 plastic, 1 metal, 58.7ms\n",
      "Speed: 1.0ms preprocess, 58.7ms inference, 1.0ms postprocess per image at shape (1, 3, 480, 640)\n",
      "\n",
      "0: 480x640 3 metals, 58.3ms\n",
      "Speed: 1.0ms preprocess, 58.3ms inference, 0.0ms postprocess per image at shape (1, 3, 480, 640)\n",
      "\n",
      "0: 480x640 4 metals, 57.1ms\n",
      "Speed: 0.5ms preprocess, 57.1ms inference, 1.0ms postprocess per image at shape (1, 3, 480, 640)\n",
      "\n",
      "0: 480x640 1 plastic, 2 metals, 57.4ms\n",
      "Speed: 1.0ms preprocess, 57.4ms inference, 1.0ms postprocess per image at shape (1, 3, 480, 640)\n",
      "\n",
      "0: 480x640 1 plastic, 2 metals, 1 paper, 56.8ms\n",
      "Speed: 1.5ms preprocess, 56.8ms inference, 1.0ms postprocess per image at shape (1, 3, 480, 640)\n",
      "\n",
      "0: 480x640 2 metals, 58.4ms\n",
      "Speed: 1.0ms preprocess, 58.4ms inference, 0.5ms postprocess per image at shape (1, 3, 480, 640)\n",
      "\n",
      "0: 480x640 1 plastic, 58.2ms\n",
      "Speed: 1.0ms preprocess, 58.2ms inference, 0.0ms postprocess per image at shape (1, 3, 480, 640)\n",
      "\n",
      "0: 480x640 1 paper, 58.2ms\n",
      "Speed: 0.0ms preprocess, 58.2ms inference, 1.0ms postprocess per image at shape (1, 3, 480, 640)\n",
      "\n",
      "0: 480x640 1 plastic, 1 paper, 58.4ms\n",
      "Speed: 1.0ms preprocess, 58.4ms inference, 1.0ms postprocess per image at shape (1, 3, 480, 640)\n",
      "\n",
      "0: 480x640 1 plastic, 1 metal, 59.3ms\n",
      "Speed: 0.5ms preprocess, 59.3ms inference, 0.0ms postprocess per image at shape (1, 3, 480, 640)\n",
      "\n",
      "0: 480x640 1 plastic, 1 paper, 63.0ms\n",
      "Speed: 1.0ms preprocess, 63.0ms inference, 1.0ms postprocess per image at shape (1, 3, 480, 640)\n",
      "\n",
      "0: 480x640 3 plastics, 1 paper, 63.3ms\n",
      "Speed: 1.0ms preprocess, 63.3ms inference, 1.0ms postprocess per image at shape (1, 3, 480, 640)\n",
      "\n",
      "0: 480x640 1 plastic, 57.8ms\n",
      "Speed: 1.0ms preprocess, 57.8ms inference, 1.0ms postprocess per image at shape (1, 3, 480, 640)\n",
      "\n",
      "0: 480x640 2 plastics, 1 paper, 56.9ms\n",
      "Speed: 1.0ms preprocess, 56.9ms inference, 0.0ms postprocess per image at shape (1, 3, 480, 640)\n",
      "\n",
      "0: 480x640 1 plastic, 58.4ms\n",
      "Speed: 0.5ms preprocess, 58.4ms inference, 0.0ms postprocess per image at shape (1, 3, 480, 640)\n",
      "\n",
      "0: 480x640 3 metals, 1 paper, 57.1ms\n",
      "Speed: 1.5ms preprocess, 57.1ms inference, 0.5ms postprocess per image at shape (1, 3, 480, 640)\n",
      "\n",
      "0: 480x640 2 metals, 57.3ms\n",
      "Speed: 1.5ms preprocess, 57.3ms inference, 0.0ms postprocess per image at shape (1, 3, 480, 640)\n",
      "\n",
      "0: 480x640 2 metals, 58.3ms\n",
      "Speed: 1.0ms preprocess, 58.3ms inference, 1.0ms postprocess per image at shape (1, 3, 480, 640)\n",
      "\n",
      "0: 480x640 2 plastics, 1 metal, 1 glass, 58.0ms\n",
      "Speed: 1.5ms preprocess, 58.0ms inference, 0.0ms postprocess per image at shape (1, 3, 480, 640)\n",
      "\n",
      "0: 480x640 1 plastic, 3 metals, 66.0ms\n",
      "Speed: 1.0ms preprocess, 66.0ms inference, 0.5ms postprocess per image at shape (1, 3, 480, 640)\n",
      "\n",
      "0: 480x640 2 plastics, 5 metals, 1 paper, 60.9ms\n",
      "Speed: 1.0ms preprocess, 60.9ms inference, 1.0ms postprocess per image at shape (1, 3, 480, 640)\n",
      "\n",
      "0: 480x640 1 plastic, 3 metals, 58.9ms\n",
      "Speed: 1.0ms preprocess, 58.9ms inference, 0.0ms postprocess per image at shape (1, 3, 480, 640)\n",
      "\n",
      "0: 480x640 1 plastic, 4 metals, 1 paper, 61.9ms\n",
      "Speed: 1.0ms preprocess, 61.9ms inference, 0.0ms postprocess per image at shape (1, 3, 480, 640)\n",
      "\n",
      "0: 480x640 1 plastic, 3 metals, 1 glass, 1 paper, 60.5ms\n",
      "Speed: 1.0ms preprocess, 60.5ms inference, 1.0ms postprocess per image at shape (1, 3, 480, 640)\n",
      "\n",
      "0: 480x640 1 plastic, 3 metals, 2 papers, 60.0ms\n",
      "Speed: 1.0ms preprocess, 60.0ms inference, 1.0ms postprocess per image at shape (1, 3, 480, 640)\n",
      "\n",
      "0: 480x640 1 plastic, 4 metals, 58.1ms\n",
      "Speed: 1.0ms preprocess, 58.1ms inference, 0.5ms postprocess per image at shape (1, 3, 480, 640)\n",
      "\n",
      "0: 480x640 1 plastic, 4 metals, 60.7ms\n",
      "Speed: 1.0ms preprocess, 60.7ms inference, 1.0ms postprocess per image at shape (1, 3, 480, 640)\n",
      "\n",
      "0: 480x640 1 plastic, 4 metals, 57.4ms\n",
      "Speed: 1.5ms preprocess, 57.4ms inference, 1.0ms postprocess per image at shape (1, 3, 480, 640)\n",
      "\n",
      "0: 480x640 1 plastic, 4 metals, 1 paper, 59.3ms\n",
      "Speed: 1.5ms preprocess, 59.3ms inference, 1.0ms postprocess per image at shape (1, 3, 480, 640)\n",
      "\n",
      "0: 480x640 1 plastic, 5 metals, 58.9ms\n",
      "Speed: 1.0ms preprocess, 58.9ms inference, 0.0ms postprocess per image at shape (1, 3, 480, 640)\n",
      "\n",
      "0: 480x640 1 plastic, 5 metals, 57.3ms\n",
      "Speed: 1.5ms preprocess, 57.3ms inference, 0.0ms postprocess per image at shape (1, 3, 480, 640)\n",
      "\n",
      "0: 480x640 1 plastic, 3 metals, 60.1ms\n",
      "Speed: 1.0ms preprocess, 60.1ms inference, 1.0ms postprocess per image at shape (1, 3, 480, 640)\n",
      "\n",
      "0: 480x640 1 plastic, 3 metals, 62.4ms\n",
      "Speed: 1.5ms preprocess, 62.4ms inference, 0.0ms postprocess per image at shape (1, 3, 480, 640)\n",
      "\n",
      "0: 480x640 1 plastic, 4 metals, 1 paper, 62.0ms\n",
      "Speed: 1.0ms preprocess, 62.0ms inference, 0.5ms postprocess per image at shape (1, 3, 480, 640)\n",
      "\n",
      "0: 480x640 1 plastic, 4 metals, 1 paper, 60.9ms\n",
      "Speed: 1.0ms preprocess, 60.9ms inference, 0.0ms postprocess per image at shape (1, 3, 480, 640)\n",
      "\n",
      "0: 480x640 1 plastic, 2 metals, 2 papers, 61.0ms\n",
      "Speed: 1.0ms preprocess, 61.0ms inference, 1.0ms postprocess per image at shape (1, 3, 480, 640)\n",
      "\n",
      "0: 480x640 1 plastic, 3 metals, 2 papers, 59.5ms\n",
      "Speed: 1.0ms preprocess, 59.5ms inference, 0.0ms postprocess per image at shape (1, 3, 480, 640)\n",
      "\n",
      "0: 480x640 1 plastic, 4 metals, 1 paper, 57.9ms\n",
      "Speed: 1.0ms preprocess, 57.9ms inference, 0.0ms postprocess per image at shape (1, 3, 480, 640)\n",
      "\n",
      "0: 480x640 3 metals, 1 paper, 56.6ms\n",
      "Speed: 1.0ms preprocess, 56.6ms inference, 1.0ms postprocess per image at shape (1, 3, 480, 640)\n",
      "\n",
      "0: 480x640 4 metals, 57.8ms\n",
      "Speed: 1.0ms preprocess, 57.8ms inference, 0.0ms postprocess per image at shape (1, 3, 480, 640)\n",
      "\n",
      "0: 480x640 1 plastic, 2 metals, 1 glass, 57.2ms\n",
      "Speed: 0.5ms preprocess, 57.2ms inference, 0.0ms postprocess per image at shape (1, 3, 480, 640)\n",
      "\n",
      "0: 480x640 1 plastic, 60.4ms\n",
      "Speed: 1.0ms preprocess, 60.4ms inference, 0.0ms postprocess per image at shape (1, 3, 480, 640)\n",
      "\n",
      "0: 480x640 1 plastic, 1 metal, 57.4ms\n",
      "Speed: 1.6ms preprocess, 57.4ms inference, 1.0ms postprocess per image at shape (1, 3, 480, 640)\n",
      "\n",
      "0: 480x640 1 plastic, 1 paper, 57.9ms\n",
      "Speed: 0.0ms preprocess, 57.9ms inference, 1.5ms postprocess per image at shape (1, 3, 480, 640)\n",
      "\n",
      "0: 480x640 3 plastics, 1 paper, 58.8ms\n",
      "Speed: 1.0ms preprocess, 58.8ms inference, 0.0ms postprocess per image at shape (1, 3, 480, 640)\n",
      "\n",
      "0: 480x640 1 plastic, 1 metal, 57.4ms\n",
      "Speed: 1.0ms preprocess, 57.4ms inference, 1.0ms postprocess per image at shape (1, 3, 480, 640)\n",
      "\n",
      "0: 480x640 1 plastic, 1 metal, 59.3ms\n",
      "Speed: 1.0ms preprocess, 59.3ms inference, 0.0ms postprocess per image at shape (1, 3, 480, 640)\n",
      "\n",
      "0: 480x640 3 metals, 56.7ms\n",
      "Speed: 1.0ms preprocess, 56.7ms inference, 0.0ms postprocess per image at shape (1, 3, 480, 640)\n",
      "\n",
      "0: 480x640 (no detections), 56.9ms\n",
      "Speed: 1.0ms preprocess, 56.9ms inference, 0.5ms postprocess per image at shape (1, 3, 480, 640)\n",
      "\n",
      "0: 480x640 (no detections), 59.6ms\n",
      "Speed: 1.5ms preprocess, 59.6ms inference, 0.0ms postprocess per image at shape (1, 3, 480, 640)\n",
      "\n",
      "0: 480x640 5 metals, 1 paper, 58.0ms\n",
      "Speed: 1.0ms preprocess, 58.0ms inference, 1.0ms postprocess per image at shape (1, 3, 480, 640)\n",
      "\n",
      "0: 480x640 1 plastic, 3 metals, 2 papers, 58.3ms\n",
      "Speed: 1.5ms preprocess, 58.3ms inference, 0.0ms postprocess per image at shape (1, 3, 480, 640)\n",
      "\n",
      "0: 480x640 1 plastic, 3 metals, 60.0ms\n",
      "Speed: 1.0ms preprocess, 60.0ms inference, 1.0ms postprocess per image at shape (1, 3, 480, 640)\n",
      "\n",
      "0: 480x640 2 plastics, 4 metals, 1 paper, 58.7ms\n",
      "Speed: 1.5ms preprocess, 58.7ms inference, 0.5ms postprocess per image at shape (1, 3, 480, 640)\n",
      "\n",
      "0: 480x640 2 plastics, 3 metals, 1 paper, 57.0ms\n",
      "Speed: 1.0ms preprocess, 57.0ms inference, 1.0ms postprocess per image at shape (1, 3, 480, 640)\n",
      "\n",
      "0: 480x640 1 plastic, 3 metals, 58.0ms\n",
      "Speed: 1.0ms preprocess, 58.0ms inference, 0.0ms postprocess per image at shape (1, 3, 480, 640)\n",
      "\n",
      "0: 480x640 1 plastic, 4 metals, 58.1ms\n",
      "Speed: 1.0ms preprocess, 58.1ms inference, 0.5ms postprocess per image at shape (1, 3, 480, 640)\n",
      "\n",
      "0: 480x640 1 plastic, 4 metals, 58.8ms\n",
      "Speed: 1.0ms preprocess, 58.8ms inference, 0.0ms postprocess per image at shape (1, 3, 480, 640)\n",
      "\n",
      "0: 480x640 1 plastic, 5 metals, 57.1ms\n",
      "Speed: 1.0ms preprocess, 57.1ms inference, 0.5ms postprocess per image at shape (1, 3, 480, 640)\n",
      "\n",
      "0: 480x640 1 plastic, 4 metals, 57.8ms\n",
      "Speed: 1.0ms preprocess, 57.8ms inference, 1.0ms postprocess per image at shape (1, 3, 480, 640)\n",
      "\n",
      "0: 480x640 1 plastic, 2 metals, 65.9ms\n",
      "Speed: 1.0ms preprocess, 65.9ms inference, 0.7ms postprocess per image at shape (1, 3, 480, 640)\n",
      "\n",
      "0: 480x640 4 metals, 1 paper, 61.6ms\n",
      "Speed: 1.0ms preprocess, 61.6ms inference, 1.0ms postprocess per image at shape (1, 3, 480, 640)\n",
      "\n",
      "0: 480x640 3 metals, 1 paper, 59.9ms\n",
      "Speed: 0.5ms preprocess, 59.9ms inference, 0.0ms postprocess per image at shape (1, 3, 480, 640)\n",
      "\n",
      "0: 480x640 1 plastic, 4 metals, 2 glasss, 2 papers, 60.0ms\n",
      "Speed: 1.0ms preprocess, 60.0ms inference, 0.0ms postprocess per image at shape (1, 3, 480, 640)\n",
      "\n",
      "0: 480x640 1 plastic, 3 metals, 1 paper, 58.0ms\n",
      "Speed: 1.0ms preprocess, 58.0ms inference, 1.0ms postprocess per image at shape (1, 3, 480, 640)\n",
      "\n",
      "0: 480x640 2 plastics, 3 metals, 2 papers, 59.1ms\n",
      "Speed: 1.0ms preprocess, 59.1ms inference, 0.5ms postprocess per image at shape (1, 3, 480, 640)\n",
      "\n",
      "0: 480x640 1 plastic, 4 metals, 1 paper, 57.9ms\n",
      "Speed: 1.0ms preprocess, 57.9ms inference, 0.0ms postprocess per image at shape (1, 3, 480, 640)\n",
      "\n",
      "0: 480x640 4 metals, 58.0ms\n",
      "Speed: 1.0ms preprocess, 58.0ms inference, 0.5ms postprocess per image at shape (1, 3, 480, 640)\n",
      "\n",
      "0: 480x640 1 plastic, 2 metals, 56.4ms\n",
      "Speed: 1.5ms preprocess, 56.4ms inference, 1.0ms postprocess per image at shape (1, 3, 480, 640)\n",
      "\n",
      "0: 480x640 1 plastic, 1 metal, 60.5ms\n",
      "Speed: 0.0ms preprocess, 60.5ms inference, 1.0ms postprocess per image at shape (1, 3, 480, 640)\n",
      "\n",
      "0: 480x640 1 plastic, 3 metals, 60.9ms\n",
      "Speed: 1.0ms preprocess, 60.9ms inference, 0.0ms postprocess per image at shape (1, 3, 480, 640)\n",
      "\n",
      "0: 480x640 3 metals, 57.8ms\n",
      "Speed: 1.6ms preprocess, 57.8ms inference, 1.0ms postprocess per image at shape (1, 3, 480, 640)\n",
      "\n",
      "0: 480x640 4 metals, 58.3ms\n",
      "Speed: 1.0ms preprocess, 58.3ms inference, 1.0ms postprocess per image at shape (1, 3, 480, 640)\n",
      "\n",
      "0: 480x640 1 plastic, 59.3ms\n",
      "Speed: 1.0ms preprocess, 59.3ms inference, 0.0ms postprocess per image at shape (1, 3, 480, 640)\n",
      "\n",
      "0: 480x640 1 plastic, 2 metals, 1 paper, 57.1ms\n",
      "Speed: 1.0ms preprocess, 57.1ms inference, 1.0ms postprocess per image at shape (1, 3, 480, 640)\n",
      "\n",
      "0: 480x640 2 plastics, 1 metal, 1 paper, 57.3ms\n",
      "Speed: 1.0ms preprocess, 57.3ms inference, 0.5ms postprocess per image at shape (1, 3, 480, 640)\n",
      "\n",
      "0: 480x640 2 plastics, 1 paper, 60.1ms\n",
      "Speed: 0.5ms preprocess, 60.1ms inference, 0.0ms postprocess per image at shape (1, 3, 480, 640)\n",
      "\n",
      "0: 480x640 1 plastic, 1 paper, 57.5ms\n",
      "Speed: 1.0ms preprocess, 57.5ms inference, 0.5ms postprocess per image at shape (1, 3, 480, 640)\n",
      "\n",
      "0: 480x640 3 plastics, 1 paper, 1 other, 58.9ms\n",
      "Speed: 1.0ms preprocess, 58.9ms inference, 1.0ms postprocess per image at shape (1, 3, 480, 640)\n",
      "\n",
      "0: 480x640 2 plastics, 1 other, 57.4ms\n",
      "Speed: 1.0ms preprocess, 57.4ms inference, 0.5ms postprocess per image at shape (1, 3, 480, 640)\n",
      "\n",
      "0: 480x640 1 plastic, 3 metals, 58.0ms\n",
      "Speed: 1.0ms preprocess, 58.0ms inference, 1.0ms postprocess per image at shape (1, 3, 480, 640)\n",
      "\n",
      "0: 480x640 1 plastic, 3 metals, 59.7ms\n",
      "Speed: 0.5ms preprocess, 59.7ms inference, 1.0ms postprocess per image at shape (1, 3, 480, 640)\n",
      "\n",
      "0: 480x640 2 plastics, 3 metals, 1 glass, 1 paper, 58.6ms\n",
      "Speed: 1.0ms preprocess, 58.6ms inference, 0.0ms postprocess per image at shape (1, 3, 480, 640)\n",
      "\n",
      "0: 480x640 2 plastics, 3 metals, 2 papers, 60.6ms\n",
      "Speed: 1.0ms preprocess, 60.6ms inference, 1.0ms postprocess per image at shape (1, 3, 480, 640)\n",
      "\n",
      "0: 480x640 2 plastics, 3 metals, 2 papers, 59.9ms\n",
      "Speed: 1.0ms preprocess, 59.9ms inference, 1.0ms postprocess per image at shape (1, 3, 480, 640)\n",
      "\n",
      "0: 480x640 2 plastics, 4 metals, 1 paper, 57.6ms\n",
      "Speed: 1.5ms preprocess, 57.6ms inference, 1.0ms postprocess per image at shape (1, 3, 480, 640)\n",
      "\n",
      "0: 480x640 1 plastic, 4 metals, 58.8ms\n",
      "Speed: 1.0ms preprocess, 58.8ms inference, 1.0ms postprocess per image at shape (1, 3, 480, 640)\n",
      "\n",
      "0: 480x640 2 plastics, 4 metals, 58.3ms\n",
      "Speed: 1.5ms preprocess, 58.3ms inference, 0.5ms postprocess per image at shape (1, 3, 480, 640)\n",
      "\n",
      "0: 480x640 1 plastic, 4 metals, 60.1ms\n",
      "Speed: 1.0ms preprocess, 60.1ms inference, 1.0ms postprocess per image at shape (1, 3, 480, 640)\n",
      "\n",
      "0: 480x640 1 plastic, 4 metals, 58.8ms\n",
      "Speed: 1.0ms preprocess, 58.8ms inference, 1.5ms postprocess per image at shape (1, 3, 480, 640)\n",
      "\n",
      "0: 480x640 1 plastic, 3 metals, 59.1ms\n",
      "Speed: 1.0ms preprocess, 59.1ms inference, 1.0ms postprocess per image at shape (1, 3, 480, 640)\n",
      "\n",
      "0: 480x640 1 plastic, 4 metals, 57.8ms\n",
      "Speed: 1.5ms preprocess, 57.8ms inference, 1.0ms postprocess per image at shape (1, 3, 480, 640)\n",
      "\n",
      "0: 480x640 1 plastic, 3 metals, 60.0ms\n",
      "Speed: 1.0ms preprocess, 60.0ms inference, 0.0ms postprocess per image at shape (1, 3, 480, 640)\n",
      "\n",
      "0: 480x640 1 plastic, 3 metals, 58.2ms\n",
      "Speed: 1.5ms preprocess, 58.2ms inference, 0.5ms postprocess per image at shape (1, 3, 480, 640)\n",
      "\n",
      "0: 480x640 1 plastic, 3 metals, 58.6ms\n",
      "Speed: 1.0ms preprocess, 58.6ms inference, 1.0ms postprocess per image at shape (1, 3, 480, 640)\n",
      "\n",
      "0: 480x640 1 plastic, 4 metals, 57.4ms\n",
      "Speed: 1.1ms preprocess, 57.4ms inference, 0.0ms postprocess per image at shape (1, 3, 480, 640)\n",
      "\n",
      "0: 480x640 2 plastics, 4 metals, 1 paper, 61.4ms\n",
      "Speed: 1.0ms preprocess, 61.4ms inference, 0.5ms postprocess per image at shape (1, 3, 480, 640)\n",
      "\n",
      "0: 480x640 2 plastics, 5 metals, 1 glass, 59.1ms\n",
      "Speed: 1.0ms preprocess, 59.1ms inference, 0.0ms postprocess per image at shape (1, 3, 480, 640)\n",
      "\n",
      "0: 480x640 2 plastics, 3 metals, 1 glass, 2 papers, 59.9ms\n",
      "Speed: 1.0ms preprocess, 59.9ms inference, 0.0ms postprocess per image at shape (1, 3, 480, 640)\n",
      "\n",
      "0: 480x640 2 plastics, 3 metals, 1 paper, 57.3ms\n",
      "Speed: 1.0ms preprocess, 57.3ms inference, 1.0ms postprocess per image at shape (1, 3, 480, 640)\n",
      "\n",
      "0: 480x640 2 plastics, 3 metals, 1 paper, 59.5ms\n",
      "Speed: 1.0ms preprocess, 59.5ms inference, 1.0ms postprocess per image at shape (1, 3, 480, 640)\n",
      "\n",
      "0: 480x640 1 plastic, 3 metals, 2 glasss, 1 paper, 57.8ms\n",
      "Speed: 1.0ms preprocess, 57.8ms inference, 1.0ms postprocess per image at shape (1, 3, 480, 640)\n",
      "\n",
      "0: 480x640 2 plastics, 3 metals, 2 papers, 59.5ms\n",
      "Speed: 1.0ms preprocess, 59.5ms inference, 1.0ms postprocess per image at shape (1, 3, 480, 640)\n",
      "\n",
      "0: 480x640 1 plastic, 3 metals, 1 paper, 58.5ms\n",
      "Speed: 1.0ms preprocess, 58.5ms inference, 0.5ms postprocess per image at shape (1, 3, 480, 640)\n",
      "\n",
      "0: 480x640 1 plastic, 3 metals, 1 paper, 58.3ms\n",
      "Speed: 1.5ms preprocess, 58.3ms inference, 1.0ms postprocess per image at shape (1, 3, 480, 640)\n",
      "\n",
      "0: 480x640 1 plastic, 3 metals, 59.6ms\n",
      "Speed: 1.0ms preprocess, 59.6ms inference, 1.0ms postprocess per image at shape (1, 3, 480, 640)\n",
      "\n",
      "0: 480x640 2 plastics, 4 metals, 1 paper, 58.0ms\n",
      "Speed: 1.0ms preprocess, 58.0ms inference, 0.0ms postprocess per image at shape (1, 3, 480, 640)\n",
      "\n",
      "0: 480x640 2 plastics, 3 metals, 1 paper, 58.2ms\n",
      "Speed: 1.0ms preprocess, 58.2ms inference, 0.5ms postprocess per image at shape (1, 3, 480, 640)\n",
      "\n",
      "0: 480x640 2 plastics, 3 metals, 1 paper, 58.5ms\n",
      "Speed: 1.0ms preprocess, 58.5ms inference, 0.0ms postprocess per image at shape (1, 3, 480, 640)\n",
      "\n",
      "0: 480x640 2 plastics, 3 metals, 58.4ms\n",
      "Speed: 1.0ms preprocess, 58.4ms inference, 1.0ms postprocess per image at shape (1, 3, 480, 640)\n",
      "\n",
      "0: 480x640 2 plastics, 3 metals, 1 glass, 2 papers, 58.9ms\n",
      "Speed: 1.5ms preprocess, 58.9ms inference, 0.5ms postprocess per image at shape (1, 3, 480, 640)\n",
      "\n",
      "0: 480x640 1 plastic, 4 metals, 1 paper, 55.9ms\n",
      "Speed: 1.5ms preprocess, 55.9ms inference, 1.0ms postprocess per image at shape (1, 3, 480, 640)\n",
      "\n",
      "0: 480x640 1 plastic, 4 metals, 1 paper, 58.2ms\n",
      "Speed: 1.0ms preprocess, 58.2ms inference, 0.0ms postprocess per image at shape (1, 3, 480, 640)\n",
      "\n",
      "0: 480x640 4 metals, 2 papers, 57.8ms\n",
      "Speed: 1.0ms preprocess, 57.8ms inference, 0.5ms postprocess per image at shape (1, 3, 480, 640)\n",
      "\n",
      "0: 480x640 1 plastic, 5 metals, 1 paper, 57.6ms\n",
      "Speed: 1.5ms preprocess, 57.6ms inference, 0.5ms postprocess per image at shape (1, 3, 480, 640)\n",
      "\n",
      "0: 480x640 1 plastic, 4 metals, 1 paper, 57.3ms\n",
      "Speed: 0.0ms preprocess, 57.3ms inference, 0.5ms postprocess per image at shape (1, 3, 480, 640)\n",
      "\n",
      "0: 480x640 1 plastic, 5 metals, 61.5ms\n",
      "Speed: 1.5ms preprocess, 61.5ms inference, 0.0ms postprocess per image at shape (1, 3, 480, 640)\n",
      "\n",
      "0: 480x640 1 plastic, 4 metals, 65.6ms\n",
      "Speed: 0.5ms preprocess, 65.6ms inference, 0.5ms postprocess per image at shape (1, 3, 480, 640)\n",
      "\n",
      "0: 480x640 1 plastic, 4 metals, 1 glass, 1 paper, 63.7ms\n",
      "Speed: 1.0ms preprocess, 63.7ms inference, 1.0ms postprocess per image at shape (1, 3, 480, 640)\n",
      "\n",
      "0: 480x640 1 plastic, 3 metals, 2 glasss, 2 papers, 62.1ms\n",
      "Speed: 1.0ms preprocess, 62.1ms inference, 1.0ms postprocess per image at shape (1, 3, 480, 640)\n",
      "\n",
      "0: 480x640 2 plastics, 3 metals, 1 glass, 1 paper, 59.0ms\n",
      "Speed: 1.0ms preprocess, 59.0ms inference, 0.5ms postprocess per image at shape (1, 3, 480, 640)\n",
      "\n",
      "0: 480x640 1 plastic, 3 metals, 1 paper, 57.5ms\n",
      "Speed: 1.0ms preprocess, 57.5ms inference, 0.5ms postprocess per image at shape (1, 3, 480, 640)\n",
      "\n",
      "0: 480x640 1 plastic, 3 metals, 57.9ms\n",
      "Speed: 1.0ms preprocess, 57.9ms inference, 0.0ms postprocess per image at shape (1, 3, 480, 640)\n",
      "\n",
      "0: 480x640 1 plastic, 4 metals, 57.9ms\n",
      "Speed: 1.0ms preprocess, 57.9ms inference, 0.0ms postprocess per image at shape (1, 3, 480, 640)\n",
      "\n",
      "0: 480x640 4 metals, 1 paper, 58.8ms\n",
      "Speed: 1.0ms preprocess, 58.8ms inference, 0.0ms postprocess per image at shape (1, 3, 480, 640)\n",
      "\n",
      "0: 480x640 1 plastic, 3 metals, 57.8ms\n",
      "Speed: 1.5ms preprocess, 57.8ms inference, 0.0ms postprocess per image at shape (1, 3, 480, 640)\n",
      "\n",
      "0: 480x640 1 plastic, 5 metals, 57.8ms\n",
      "Speed: 1.5ms preprocess, 57.8ms inference, 1.0ms postprocess per image at shape (1, 3, 480, 640)\n",
      "\n",
      "0: 480x640 2 metals, 58.8ms\n",
      "Speed: 1.5ms preprocess, 58.8ms inference, 0.5ms postprocess per image at shape (1, 3, 480, 640)\n",
      "\n",
      "0: 480x640 3 metals, 59.6ms\n",
      "Speed: 1.0ms preprocess, 59.6ms inference, 1.0ms postprocess per image at shape (1, 3, 480, 640)\n",
      "\n",
      "0: 480x640 1 plastic, 58.5ms\n",
      "Speed: 1.0ms preprocess, 58.5ms inference, 0.0ms postprocess per image at shape (1, 3, 480, 640)\n",
      "\n",
      "0: 480x640 1 plastic, 58.1ms\n",
      "Speed: 1.6ms preprocess, 58.1ms inference, 0.0ms postprocess per image at shape (1, 3, 480, 640)\n",
      "\n",
      "0: 480x640 2 plastics, 60.1ms\n",
      "Speed: 1.0ms preprocess, 60.1ms inference, 1.0ms postprocess per image at shape (1, 3, 480, 640)\n",
      "\n",
      "0: 480x640 2 plastics, 56.6ms\n",
      "Speed: 1.0ms preprocess, 56.6ms inference, 0.0ms postprocess per image at shape (1, 3, 480, 640)\n",
      "\n",
      "0: 480x640 2 plastics, 4 metals, 57.8ms\n",
      "Speed: 1.0ms preprocess, 57.8ms inference, 0.0ms postprocess per image at shape (1, 3, 480, 640)\n",
      "\n",
      "0: 480x640 1 metal, 57.4ms\n",
      "Speed: 1.5ms preprocess, 57.4ms inference, 0.0ms postprocess per image at shape (1, 3, 480, 640)\n",
      "\n",
      "0: 480x640 1 plastic, 3 metals, 58.8ms\n",
      "Speed: 1.0ms preprocess, 58.8ms inference, 0.0ms postprocess per image at shape (1, 3, 480, 640)\n",
      "\n",
      "0: 480x640 1 plastic, 2 metals, 1 paper, 59.0ms\n",
      "Speed: 1.0ms preprocess, 59.0ms inference, 0.0ms postprocess per image at shape (1, 3, 480, 640)\n",
      "\n",
      "0: 480x640 1 plastic, 2 metals, 1 paper, 57.5ms\n",
      "Speed: 1.5ms preprocess, 57.5ms inference, 1.0ms postprocess per image at shape (1, 3, 480, 640)\n",
      "\n",
      "0: 480x640 3 metals, 1 glass, 2 papers, 60.4ms\n",
      "Speed: 1.5ms preprocess, 60.4ms inference, 0.0ms postprocess per image at shape (1, 3, 480, 640)\n",
      "\n",
      "0: 480x640 1 plastic, 3 metals, 1 paper, 60.9ms\n",
      "Speed: 1.0ms preprocess, 60.9ms inference, 0.0ms postprocess per image at shape (1, 3, 480, 640)\n",
      "\n",
      "0: 480x640 1 plastic, 3 metals, 1 paper, 62.1ms\n",
      "Speed: 1.0ms preprocess, 62.1ms inference, 1.0ms postprocess per image at shape (1, 3, 480, 640)\n",
      "\n",
      "0: 480x640 1 plastic, 3 metals, 2 papers, 64.6ms\n",
      "Speed: 1.0ms preprocess, 64.6ms inference, 0.5ms postprocess per image at shape (1, 3, 480, 640)\n",
      "\n",
      "0: 480x640 2 plastics, 4 metals, 2 papers, 58.9ms\n",
      "Speed: 1.5ms preprocess, 58.9ms inference, 1.0ms postprocess per image at shape (1, 3, 480, 640)\n",
      "\n",
      "0: 480x640 1 plastic, 4 metals, 1 paper, 59.4ms\n",
      "Speed: 1.0ms preprocess, 59.4ms inference, 0.0ms postprocess per image at shape (1, 3, 480, 640)\n",
      "\n",
      "0: 480x640 1 plastic, 3 metals, 2 papers, 58.1ms\n",
      "Speed: 1.5ms preprocess, 58.1ms inference, 0.0ms postprocess per image at shape (1, 3, 480, 640)\n",
      "\n",
      "0: 480x640 2 plastics, 4 metals, 1 paper, 59.1ms\n",
      "Speed: 1.0ms preprocess, 59.1ms inference, 1.0ms postprocess per image at shape (1, 3, 480, 640)\n",
      "\n",
      "0: 480x640 3 metals, 1 paper, 57.0ms\n",
      "Speed: 1.0ms preprocess, 57.0ms inference, 1.0ms postprocess per image at shape (1, 3, 480, 640)\n",
      "\n",
      "0: 480x640 4 metals, 56.8ms\n",
      "Speed: 1.0ms preprocess, 56.8ms inference, 1.0ms postprocess per image at shape (1, 3, 480, 640)\n",
      "\n",
      "0: 480x640 4 metals, 1 paper, 58.7ms\n",
      "Speed: 1.0ms preprocess, 58.7ms inference, 1.0ms postprocess per image at shape (1, 3, 480, 640)\n",
      "\n",
      "0: 480x640 1 plastic, 2 metals, 2 papers, 58.7ms\n",
      "Speed: 1.0ms preprocess, 58.7ms inference, 1.0ms postprocess per image at shape (1, 3, 480, 640)\n",
      "\n",
      "0: 480x640 2 plastics, 3 metals, 1 paper, 59.0ms\n",
      "Speed: 1.0ms preprocess, 59.0ms inference, 1.0ms postprocess per image at shape (1, 3, 480, 640)\n",
      "\n",
      "0: 480x640 1 plastic, 3 metals, 3 papers, 57.5ms\n",
      "Speed: 0.5ms preprocess, 57.5ms inference, 1.0ms postprocess per image at shape (1, 3, 480, 640)\n",
      "\n",
      "0: 480x640 1 plastic, 3 metals, 3 papers, 58.2ms\n",
      "Speed: 0.5ms preprocess, 58.2ms inference, 1.0ms postprocess per image at shape (1, 3, 480, 640)\n",
      "\n",
      "0: 480x640 5 metals, 58.0ms\n",
      "Speed: 1.0ms preprocess, 58.0ms inference, 0.0ms postprocess per image at shape (1, 3, 480, 640)\n",
      "\n",
      "0: 480x640 2 plastics, 3 metals, 1 paper, 57.5ms\n",
      "Speed: 0.5ms preprocess, 57.5ms inference, 0.0ms postprocess per image at shape (1, 3, 480, 640)\n",
      "\n",
      "0: 480x640 2 plastics, 3 metals, 1 paper, 58.6ms\n",
      "Speed: 0.0ms preprocess, 58.6ms inference, 1.0ms postprocess per image at shape (1, 3, 480, 640)\n",
      "\n",
      "0: 480x640 1 plastic, 4 metals, 1 paper, 58.5ms\n",
      "Speed: 1.0ms preprocess, 58.5ms inference, 0.5ms postprocess per image at shape (1, 3, 480, 640)\n",
      "\n",
      "0: 480x640 2 plastics, 3 metals, 2 papers, 57.1ms\n",
      "Speed: 1.0ms preprocess, 57.1ms inference, 1.0ms postprocess per image at shape (1, 3, 480, 640)\n",
      "\n",
      "0: 480x640 2 plastics, 3 metals, 58.1ms\n",
      "Speed: 1.5ms preprocess, 58.1ms inference, 0.0ms postprocess per image at shape (1, 3, 480, 640)\n",
      "\n",
      "0: 480x640 2 plastics, 3 metals, 1 paper, 58.0ms\n",
      "Speed: 1.0ms preprocess, 58.0ms inference, 1.0ms postprocess per image at shape (1, 3, 480, 640)\n",
      "\n",
      "0: 480x640 2 plastics, 3 metals, 1 paper, 59.2ms\n",
      "Speed: 0.0ms preprocess, 59.2ms inference, 1.0ms postprocess per image at shape (1, 3, 480, 640)\n",
      "\n",
      "0: 480x640 2 plastics, 3 metals, 1 glass, 1 paper, 57.8ms\n",
      "Speed: 1.0ms preprocess, 57.8ms inference, 1.0ms postprocess per image at shape (1, 3, 480, 640)\n",
      "\n",
      "0: 480x640 2 plastics, 3 metals, 1 paper, 58.4ms\n",
      "Speed: 1.0ms preprocess, 58.4ms inference, 0.5ms postprocess per image at shape (1, 3, 480, 640)\n",
      "\n",
      "0: 480x640 2 plastics, 2 metals, 56.5ms\n",
      "Speed: 1.6ms preprocess, 56.5ms inference, 1.0ms postprocess per image at shape (1, 3, 480, 640)\n",
      "\n",
      "0: 480x640 2 plastics, 3 metals, 57.0ms\n",
      "Speed: 1.0ms preprocess, 57.0ms inference, 1.5ms postprocess per image at shape (1, 3, 480, 640)\n",
      "\n",
      "0: 480x640 2 plastics, 3 metals, 2 papers, 58.0ms\n",
      "Speed: 0.0ms preprocess, 58.0ms inference, 1.0ms postprocess per image at shape (1, 3, 480, 640)\n",
      "\n",
      "0: 480x640 2 plastics, 3 metals, 58.3ms\n",
      "Speed: 1.6ms preprocess, 58.3ms inference, 0.0ms postprocess per image at shape (1, 3, 480, 640)\n",
      "\n",
      "0: 480x640 2 plastics, 3 metals, 59.9ms\n",
      "Speed: 1.0ms preprocess, 59.9ms inference, 0.0ms postprocess per image at shape (1, 3, 480, 640)\n",
      "\n",
      "0: 480x640 1 plastic, 5 metals, 1 paper, 56.9ms\n",
      "Speed: 1.5ms preprocess, 56.9ms inference, 0.0ms postprocess per image at shape (1, 3, 480, 640)\n",
      "\n",
      "0: 480x640 1 plastic, 3 metals, 1 paper, 57.8ms\n",
      "Speed: 1.0ms preprocess, 57.8ms inference, 1.0ms postprocess per image at shape (1, 3, 480, 640)\n",
      "\n",
      "0: 480x640 1 plastic, 4 metals, 1 paper, 58.1ms\n",
      "Speed: 1.0ms preprocess, 58.1ms inference, 1.0ms postprocess per image at shape (1, 3, 480, 640)\n",
      "\n",
      "0: 480x640 4 metals, 1 glass, 1 paper, 57.8ms\n",
      "Speed: 1.5ms preprocess, 57.8ms inference, 1.0ms postprocess per image at shape (1, 3, 480, 640)\n",
      "\n",
      "0: 480x640 1 plastic, 4 metals, 2 glasss, 2 papers, 58.3ms\n",
      "Speed: 1.0ms preprocess, 58.3ms inference, 0.5ms postprocess per image at shape (1, 3, 480, 640)\n",
      "\n",
      "0: 480x640 1 plastic, 3 metals, 1 paper, 58.2ms\n",
      "Speed: 1.0ms preprocess, 58.2ms inference, 1.0ms postprocess per image at shape (1, 3, 480, 640)\n",
      "\n",
      "0: 480x640 2 plastics, 3 metals, 58.0ms\n",
      "Speed: 0.5ms preprocess, 58.0ms inference, 1.0ms postprocess per image at shape (1, 3, 480, 640)\n",
      "\n",
      "0: 480x640 1 plastic, 4 metals, 1 paper, 58.8ms\n",
      "Speed: 1.0ms preprocess, 58.8ms inference, 1.0ms postprocess per image at shape (1, 3, 480, 640)\n",
      "\n",
      "0: 480x640 2 plastics, 4 metals, 59.4ms\n",
      "Speed: 0.5ms preprocess, 59.4ms inference, 0.5ms postprocess per image at shape (1, 3, 480, 640)\n",
      "\n",
      "0: 480x640 1 plastic, 3 metals, 2 papers, 59.0ms\n",
      "Speed: 1.0ms preprocess, 59.0ms inference, 1.0ms postprocess per image at shape (1, 3, 480, 640)\n",
      "\n",
      "0: 480x640 2 plastics, 3 metals, 1 paper, 57.8ms\n",
      "Speed: 1.0ms preprocess, 57.8ms inference, 1.0ms postprocess per image at shape (1, 3, 480, 640)\n",
      "\n",
      "0: 480x640 1 plastic, 5 metals, 1 paper, 58.6ms\n",
      "Speed: 1.0ms preprocess, 58.6ms inference, 1.0ms postprocess per image at shape (1, 3, 480, 640)\n",
      "\n",
      "0: 480x640 1 plastic, 3 metals, 62.2ms\n",
      "Speed: 1.0ms preprocess, 62.2ms inference, 1.0ms postprocess per image at shape (1, 3, 480, 640)\n",
      "\n",
      "0: 480x640 1 plastic, 4 metals, 1 paper, 59.8ms\n",
      "Speed: 1.0ms preprocess, 59.8ms inference, 1.0ms postprocess per image at shape (1, 3, 480, 640)\n",
      "\n",
      "0: 480x640 1 plastic, 3 metals, 1 paper, 59.9ms\n",
      "Speed: 1.0ms preprocess, 59.9ms inference, 0.0ms postprocess per image at shape (1, 3, 480, 640)\n",
      "\n",
      "0: 480x640 4 metals, 1 paper, 60.7ms\n",
      "Speed: 1.0ms preprocess, 60.7ms inference, 0.0ms postprocess per image at shape (1, 3, 480, 640)\n",
      "\n",
      "0: 480x640 2 plastics, 4 metals, 1 paper, 57.8ms\n",
      "Speed: 1.0ms preprocess, 57.8ms inference, 0.5ms postprocess per image at shape (1, 3, 480, 640)\n",
      "\n",
      "0: 480x640 2 plastics, 3 metals, 2 papers, 59.1ms\n",
      "Speed: 1.0ms preprocess, 59.1ms inference, 1.0ms postprocess per image at shape (1, 3, 480, 640)\n",
      "\n",
      "0: 480x640 1 plastic, 3 metals, 58.4ms\n",
      "Speed: 1.5ms preprocess, 58.4ms inference, 0.5ms postprocess per image at shape (1, 3, 480, 640)\n",
      "\n",
      "0: 480x640 2 plastics, 4 metals, 2 papers, 60.1ms\n",
      "Speed: 1.0ms preprocess, 60.1ms inference, 0.0ms postprocess per image at shape (1, 3, 480, 640)\n",
      "\n",
      "0: 480x640 2 plastics, 3 metals, 2 papers, 60.2ms\n",
      "Speed: 0.5ms preprocess, 60.2ms inference, 1.0ms postprocess per image at shape (1, 3, 480, 640)\n",
      "\n",
      "0: 480x640 1 plastic, 3 metals, 2 papers, 62.3ms\n",
      "Speed: 0.0ms preprocess, 62.3ms inference, 0.0ms postprocess per image at shape (1, 3, 480, 640)\n",
      "\n",
      "0: 480x640 1 plastic, 3 metals, 2 papers, 59.7ms\n",
      "Speed: 1.5ms preprocess, 59.7ms inference, 0.5ms postprocess per image at shape (1, 3, 480, 640)\n",
      "\n",
      "0: 480x640 1 plastic, 3 metals, 1 paper, 60.8ms\n",
      "Speed: 1.0ms preprocess, 60.8ms inference, 0.5ms postprocess per image at shape (1, 3, 480, 640)\n",
      "\n",
      "0: 480x640 1 plastic, 3 metals, 1 paper, 61.4ms\n",
      "Speed: 1.0ms preprocess, 61.4ms inference, 0.5ms postprocess per image at shape (1, 3, 480, 640)\n",
      "\n",
      "0: 480x640 1 plastic, 2 metals, 1 paper, 57.6ms\n",
      "Speed: 1.0ms preprocess, 57.6ms inference, 1.0ms postprocess per image at shape (1, 3, 480, 640)\n",
      "\n",
      "0: 480x640 1 plastic, 3 metals, 57.2ms\n",
      "Speed: 1.1ms preprocess, 57.2ms inference, 1.0ms postprocess per image at shape (1, 3, 480, 640)\n",
      "\n",
      "0: 480x640 1 plastic, 2 metals, 58.1ms\n",
      "Speed: 0.0ms preprocess, 58.1ms inference, 1.0ms postprocess per image at shape (1, 3, 480, 640)\n",
      "\n",
      "0: 480x640 1 plastic, 58.4ms\n",
      "Speed: 1.5ms preprocess, 58.4ms inference, 1.0ms postprocess per image at shape (1, 3, 480, 640)\n",
      "\n",
      "0: 480x640 1 plastic, 58.0ms\n",
      "Speed: 1.0ms preprocess, 58.0ms inference, 1.0ms postprocess per image at shape (1, 3, 480, 640)\n",
      "\n",
      "0: 480x640 1 plastic, 57.9ms\n",
      "Speed: 1.0ms preprocess, 57.9ms inference, 1.0ms postprocess per image at shape (1, 3, 480, 640)\n",
      "\n",
      "0: 480x640 (no detections), 58.3ms\n",
      "Speed: 0.5ms preprocess, 58.3ms inference, 0.0ms postprocess per image at shape (1, 3, 480, 640)\n",
      "\n",
      "0: 480x640 2 plastics, 1 metal, 66.6ms\n",
      "Speed: 2.1ms preprocess, 66.6ms inference, 1.6ms postprocess per image at shape (1, 3, 480, 640)\n",
      "\n",
      "0: 480x640 1 plastic, 59.0ms\n",
      "Speed: 1.5ms preprocess, 59.0ms inference, 0.0ms postprocess per image at shape (1, 3, 480, 640)\n",
      "\n",
      "0: 480x640 3 metals, 1 paper, 58.5ms\n",
      "Speed: 1.0ms preprocess, 58.5ms inference, 0.0ms postprocess per image at shape (1, 3, 480, 640)\n",
      "\n",
      "0: 480x640 2 plastics, 1 metal, 1 paper, 58.2ms\n",
      "Speed: 0.0ms preprocess, 58.2ms inference, 0.0ms postprocess per image at shape (1, 3, 480, 640)\n",
      "\n",
      "0: 480x640 1 plastic, 1 glass, 60.6ms\n",
      "Speed: 1.0ms preprocess, 60.6ms inference, 0.0ms postprocess per image at shape (1, 3, 480, 640)\n",
      "\n",
      "0: 480x640 3 plastics, 1 metal, 58.1ms\n",
      "Speed: 0.5ms preprocess, 58.1ms inference, 1.0ms postprocess per image at shape (1, 3, 480, 640)\n",
      "\n",
      "0: 480x640 2 plastics, 1 metal, 59.8ms\n",
      "Speed: 1.0ms preprocess, 59.8ms inference, 0.5ms postprocess per image at shape (1, 3, 480, 640)\n",
      "\n",
      "0: 480x640 2 plastics, 1 paper, 57.4ms\n",
      "Speed: 1.5ms preprocess, 57.4ms inference, 1.0ms postprocess per image at shape (1, 3, 480, 640)\n",
      "\n",
      "0: 480x640 1 plastic, 1 paper, 59.4ms\n",
      "Speed: 1.0ms preprocess, 59.4ms inference, 0.0ms postprocess per image at shape (1, 3, 480, 640)\n",
      "\n",
      "0: 480x640 1 plastic, 58.0ms\n",
      "Speed: 0.5ms preprocess, 58.0ms inference, 0.0ms postprocess per image at shape (1, 3, 480, 640)\n",
      "\n",
      "0: 480x640 2 plastics, 58.9ms\n",
      "Speed: 1.0ms preprocess, 58.9ms inference, 0.0ms postprocess per image at shape (1, 3, 480, 640)\n",
      "\n",
      "0: 480x640 2 plastics, 58.3ms\n",
      "Speed: 1.0ms preprocess, 58.3ms inference, 0.0ms postprocess per image at shape (1, 3, 480, 640)\n",
      "\n",
      "0: 480x640 3 metals, 1 paper, 58.2ms\n",
      "Speed: 1.0ms preprocess, 58.2ms inference, 1.0ms postprocess per image at shape (1, 3, 480, 640)\n",
      "\n",
      "0: 480x640 3 metals, 58.3ms\n",
      "Speed: 1.0ms preprocess, 58.3ms inference, 1.0ms postprocess per image at shape (1, 3, 480, 640)\n",
      "\n",
      "0: 480x640 2 plastics, 2 metals, 59.7ms\n",
      "Speed: 1.0ms preprocess, 59.7ms inference, 0.5ms postprocess per image at shape (1, 3, 480, 640)\n",
      "\n",
      "0: 480x640 2 metals, 58.3ms\n",
      "Speed: 0.5ms preprocess, 58.3ms inference, 1.0ms postprocess per image at shape (1, 3, 480, 640)\n",
      "\n",
      "0: 480x640 1 plastic, 1 metal, 1 paper, 59.1ms\n",
      "Speed: 1.0ms preprocess, 59.1ms inference, 0.0ms postprocess per image at shape (1, 3, 480, 640)\n",
      "\n",
      "0: 480x640 1 plastic, 1 metal, 58.2ms\n",
      "Speed: 1.5ms preprocess, 58.2ms inference, 1.0ms postprocess per image at shape (1, 3, 480, 640)\n",
      "\n",
      "0: 480x640 1 plastic, 58.1ms\n",
      "Speed: 1.0ms preprocess, 58.1ms inference, 1.0ms postprocess per image at shape (1, 3, 480, 640)\n",
      "\n",
      "0: 480x640 1 plastic, 57.5ms\n",
      "Speed: 1.5ms preprocess, 57.5ms inference, 1.0ms postprocess per image at shape (1, 3, 480, 640)\n",
      "\n",
      "0: 480x640 2 plastics, 1 metal, 60.5ms\n",
      "Speed: 1.0ms preprocess, 60.5ms inference, 1.5ms postprocess per image at shape (1, 3, 480, 640)\n",
      "\n",
      "0: 480x640 1 plastic, 2 metals, 59.0ms\n",
      "Speed: 1.0ms preprocess, 59.0ms inference, 1.5ms postprocess per image at shape (1, 3, 480, 640)\n",
      "\n",
      "0: 480x640 1 plastic, 2 metals, 57.5ms\n",
      "Speed: 1.0ms preprocess, 57.5ms inference, 1.0ms postprocess per image at shape (1, 3, 480, 640)\n",
      "\n",
      "0: 480x640 4 metals, 60.1ms\n",
      "Speed: 0.5ms preprocess, 60.1ms inference, 1.0ms postprocess per image at shape (1, 3, 480, 640)\n",
      "\n",
      "0: 480x640 1 metal, 58.1ms\n",
      "Speed: 1.0ms preprocess, 58.1ms inference, 0.0ms postprocess per image at shape (1, 3, 480, 640)\n",
      "\n",
      "0: 480x640 4 metals, 58.7ms\n",
      "Speed: 1.0ms preprocess, 58.7ms inference, 0.5ms postprocess per image at shape (1, 3, 480, 640)\n",
      "\n",
      "0: 480x640 1 plastic, 1 metal, 59.1ms\n",
      "Speed: 1.0ms preprocess, 59.1ms inference, 1.5ms postprocess per image at shape (1, 3, 480, 640)\n",
      "\n",
      "0: 480x640 1 plastic, 1 metal, 59.9ms\n",
      "Speed: 1.0ms preprocess, 59.9ms inference, 1.0ms postprocess per image at shape (1, 3, 480, 640)\n",
      "\n",
      "0: 480x640 1 plastic, 3 metals, 1 paper, 62.3ms\n",
      "Speed: 1.0ms preprocess, 62.3ms inference, 0.5ms postprocess per image at shape (1, 3, 480, 640)\n",
      "\n",
      "0: 480x640 1 plastic, 3 metals, 1 paper, 59.7ms\n",
      "Speed: 1.0ms preprocess, 59.7ms inference, 1.0ms postprocess per image at shape (1, 3, 480, 640)\n",
      "\n",
      "0: 480x640 1 plastic, 2 metals, 1 paper, 63.5ms\n",
      "Speed: 1.0ms preprocess, 63.5ms inference, 0.2ms postprocess per image at shape (1, 3, 480, 640)\n",
      "\n",
      "0: 480x640 1 plastic, 3 metals, 1 glass, 2 papers, 61.4ms\n",
      "Speed: 1.0ms preprocess, 61.4ms inference, 0.0ms postprocess per image at shape (1, 3, 480, 640)\n",
      "\n",
      "0: 480x640 1 plastic, 2 metals, 1 glass, 62.3ms\n",
      "Speed: 1.0ms preprocess, 62.3ms inference, 1.2ms postprocess per image at shape (1, 3, 480, 640)\n",
      "\n",
      "0: 480x640 1 plastic, 3 metals, 2 glasss, 1 paper, 62.2ms\n",
      "Speed: 1.0ms preprocess, 62.2ms inference, 0.0ms postprocess per image at shape (1, 3, 480, 640)\n",
      "\n",
      "0: 480x640 3 metals, 1 paper, 65.7ms\n",
      "Speed: 1.0ms preprocess, 65.7ms inference, 1.0ms postprocess per image at shape (1, 3, 480, 640)\n",
      "\n",
      "0: 480x640 4 metals, 59.7ms\n",
      "Speed: 1.1ms preprocess, 59.7ms inference, 0.0ms postprocess per image at shape (1, 3, 480, 640)\n",
      "\n",
      "0: 480x640 1 plastic, 3 metals, 1 glass, 1 paper, 59.2ms\n",
      "Speed: 1.0ms preprocess, 59.2ms inference, 1.0ms postprocess per image at shape (1, 3, 480, 640)\n",
      "\n",
      "0: 480x640 5 metals, 1 paper, 60.1ms\n",
      "Speed: 1.5ms preprocess, 60.1ms inference, 1.0ms postprocess per image at shape (1, 3, 480, 640)\n",
      "\n",
      "0: 480x640 1 plastic, 3 metals, 2 glasss, 1 paper, 61.0ms\n",
      "Speed: 1.0ms preprocess, 61.0ms inference, 0.0ms postprocess per image at shape (1, 3, 480, 640)\n",
      "\n",
      "0: 480x640 2 plastics, 3 metals, 2 glasss, 1 paper, 59.9ms\n",
      "Speed: 1.0ms preprocess, 59.9ms inference, 0.0ms postprocess per image at shape (1, 3, 480, 640)\n",
      "\n",
      "0: 480x640 1 plastic, 3 metals, 1 glass, 58.0ms\n",
      "Speed: 0.0ms preprocess, 58.0ms inference, 0.0ms postprocess per image at shape (1, 3, 480, 640)\n",
      "\n",
      "0: 480x640 1 plastic, 3 metals, 1 glass, 59.7ms\n",
      "Speed: 1.0ms preprocess, 59.7ms inference, 0.0ms postprocess per image at shape (1, 3, 480, 640)\n",
      "\n",
      "0: 480x640 1 plastic, 3 metals, 59.1ms\n",
      "Speed: 1.0ms preprocess, 59.1ms inference, 0.0ms postprocess per image at shape (1, 3, 480, 640)\n",
      "\n",
      "0: 480x640 1 plastic, 3 metals, 58.7ms\n",
      "Speed: 1.5ms preprocess, 58.7ms inference, 0.0ms postprocess per image at shape (1, 3, 480, 640)\n",
      "\n",
      "0: 480x640 2 plastics, 3 metals, 1 glass, 61.0ms\n",
      "Speed: 0.5ms preprocess, 61.0ms inference, 0.5ms postprocess per image at shape (1, 3, 480, 640)\n",
      "\n",
      "0: 480x640 1 plastic, 3 metals, 1 glass, 1 paper, 62.1ms\n",
      "Speed: 1.0ms preprocess, 62.1ms inference, 0.5ms postprocess per image at shape (1, 3, 480, 640)\n",
      "\n",
      "0: 480x640 1 plastic, 3 metals, 1 glass, 1 paper, 58.5ms\n",
      "Speed: 1.5ms preprocess, 58.5ms inference, 0.5ms postprocess per image at shape (1, 3, 480, 640)\n",
      "\n",
      "0: 480x640 1 plastic, 4 metals, 1 paper, 58.3ms\n",
      "Speed: 1.0ms preprocess, 58.3ms inference, 0.5ms postprocess per image at shape (1, 3, 480, 640)\n",
      "\n",
      "0: 480x640 1 plastic, 4 metals, 2 papers, 59.3ms\n",
      "Speed: 1.0ms preprocess, 59.3ms inference, 1.0ms postprocess per image at shape (1, 3, 480, 640)\n",
      "\n",
      "0: 480x640 2 plastics, 3 metals, 2 papers, 58.3ms\n",
      "Speed: 1.0ms preprocess, 58.3ms inference, 1.0ms postprocess per image at shape (1, 3, 480, 640)\n",
      "\n",
      "0: 480x640 1 plastic, 3 metals, 1 glass, 59.0ms\n",
      "Speed: 1.0ms preprocess, 59.0ms inference, 0.0ms postprocess per image at shape (1, 3, 480, 640)\n",
      "\n",
      "0: 480x640 2 plastics, 4 metals, 2 papers, 58.8ms\n",
      "Speed: 1.0ms preprocess, 58.8ms inference, 1.0ms postprocess per image at shape (1, 3, 480, 640)\n",
      "\n",
      "0: 480x640 3 metals, 1 paper, 59.3ms\n",
      "Speed: 0.5ms preprocess, 59.3ms inference, 1.0ms postprocess per image at shape (1, 3, 480, 640)\n",
      "\n",
      "0: 480x640 1 plastic, 2 metals, 2 papers, 57.4ms\n",
      "Speed: 1.0ms preprocess, 57.4ms inference, 1.0ms postprocess per image at shape (1, 3, 480, 640)\n",
      "\n",
      "0: 480x640 2 metals, 1 paper, 57.1ms\n",
      "Speed: 0.5ms preprocess, 57.1ms inference, 1.0ms postprocess per image at shape (1, 3, 480, 640)\n",
      "\n",
      "0: 480x640 3 metals, 59.3ms\n",
      "Speed: 1.0ms preprocess, 59.3ms inference, 0.5ms postprocess per image at shape (1, 3, 480, 640)\n",
      "\n",
      "0: 480x640 3 metals, 1 glass, 1 paper, 57.9ms\n",
      "Speed: 1.0ms preprocess, 57.9ms inference, 1.5ms postprocess per image at shape (1, 3, 480, 640)\n",
      "\n",
      "0: 480x640 3 metals, 1 glass, 58.1ms\n",
      "Speed: 1.0ms preprocess, 58.1ms inference, 0.0ms postprocess per image at shape (1, 3, 480, 640)\n",
      "\n",
      "0: 480x640 3 metals, 1 glass, 59.4ms\n",
      "Speed: 0.0ms preprocess, 59.4ms inference, 0.5ms postprocess per image at shape (1, 3, 480, 640)\n",
      "\n",
      "0: 480x640 2 metals, 1 glass, 1 paper, 59.1ms\n",
      "Speed: 1.0ms preprocess, 59.1ms inference, 1.0ms postprocess per image at shape (1, 3, 480, 640)\n",
      "\n",
      "0: 480x640 2 metals, 1 glass, 60.6ms\n",
      "Speed: 1.5ms preprocess, 60.6ms inference, 0.0ms postprocess per image at shape (1, 3, 480, 640)\n",
      "\n",
      "0: 480x640 1 plastic, 3 metals, 1 glass, 59.1ms\n",
      "Speed: 1.5ms preprocess, 59.1ms inference, 1.0ms postprocess per image at shape (1, 3, 480, 640)\n",
      "\n",
      "0: 480x640 2 plastics, 3 metals, 2 glasss, 1 paper, 60.9ms\n",
      "Speed: 0.5ms preprocess, 60.9ms inference, 0.0ms postprocess per image at shape (1, 3, 480, 640)\n",
      "\n",
      "0: 480x640 3 metals, 1 glass, 58.7ms\n",
      "Speed: 1.0ms preprocess, 58.7ms inference, 0.5ms postprocess per image at shape (1, 3, 480, 640)\n",
      "\n",
      "0: 480x640 3 metals, 1 paper, 59.9ms\n",
      "Speed: 1.0ms preprocess, 59.9ms inference, 0.0ms postprocess per image at shape (1, 3, 480, 640)\n",
      "\n",
      "0: 480x640 3 metals, 1 glass, 2 papers, 58.6ms\n",
      "Speed: 1.1ms preprocess, 58.6ms inference, 0.5ms postprocess per image at shape (1, 3, 480, 640)\n",
      "\n",
      "0: 480x640 4 metals, 58.3ms\n",
      "Speed: 1.5ms preprocess, 58.3ms inference, 1.5ms postprocess per image at shape (1, 3, 480, 640)\n",
      "\n",
      "0: 480x640 2 metals, 1 paper, 58.5ms\n",
      "Speed: 1.5ms preprocess, 58.5ms inference, 1.0ms postprocess per image at shape (1, 3, 480, 640)\n",
      "\n",
      "0: 480x640 3 metals, 1 glass, 1 paper, 59.5ms\n",
      "Speed: 1.5ms preprocess, 59.5ms inference, 0.5ms postprocess per image at shape (1, 3, 480, 640)\n",
      "\n",
      "0: 480x640 3 metals, 1 glass, 2 papers, 60.1ms\n",
      "Speed: 1.0ms preprocess, 60.1ms inference, 0.0ms postprocess per image at shape (1, 3, 480, 640)\n",
      "\n",
      "0: 480x640 3 metals, 1 paper, 60.4ms\n",
      "Speed: 1.0ms preprocess, 60.4ms inference, 1.0ms postprocess per image at shape (1, 3, 480, 640)\n",
      "\n",
      "0: 480x640 3 metals, 1 paper, 61.8ms\n",
      "Speed: 1.0ms preprocess, 61.8ms inference, 0.5ms postprocess per image at shape (1, 3, 480, 640)\n",
      "\n",
      "0: 480x640 1 plastic, 3 metals, 2 papers, 59.4ms\n",
      "Speed: 1.0ms preprocess, 59.4ms inference, 0.0ms postprocess per image at shape (1, 3, 480, 640)\n",
      "\n",
      "0: 480x640 1 plastic, 3 metals, 2 papers, 58.9ms\n",
      "Speed: 0.5ms preprocess, 58.9ms inference, 1.0ms postprocess per image at shape (1, 3, 480, 640)\n",
      "\n",
      "0: 480x640 3 metals, 1 paper, 59.0ms\n",
      "Speed: 0.5ms preprocess, 59.0ms inference, 1.0ms postprocess per image at shape (1, 3, 480, 640)\n",
      "\n",
      "0: 480x640 3 metals, 58.9ms\n",
      "Speed: 1.0ms preprocess, 58.9ms inference, 0.0ms postprocess per image at shape (1, 3, 480, 640)\n",
      "\n",
      "0: 480x640 3 metals, 1 glass, 2 papers, 59.1ms\n",
      "Speed: 1.5ms preprocess, 59.1ms inference, 0.0ms postprocess per image at shape (1, 3, 480, 640)\n",
      "\n",
      "0: 480x640 3 metals, 1 glass, 1 paper, 58.9ms\n",
      "Speed: 1.0ms preprocess, 58.9ms inference, 1.0ms postprocess per image at shape (1, 3, 480, 640)\n",
      "\n",
      "0: 480x640 3 metals, 1 glass, 1 paper, 63.6ms\n",
      "Speed: 1.0ms preprocess, 63.6ms inference, 2.0ms postprocess per image at shape (1, 3, 480, 640)\n",
      "\n",
      "0: 480x640 3 metals, 1 glass, 1 paper, 66.2ms\n",
      "Speed: 0.0ms preprocess, 66.2ms inference, 1.0ms postprocess per image at shape (1, 3, 480, 640)\n",
      "\n",
      "0: 480x640 3 metals, 1 paper, 59.3ms\n",
      "Speed: 1.0ms preprocess, 59.3ms inference, 1.0ms postprocess per image at shape (1, 3, 480, 640)\n",
      "\n",
      "0: 480x640 3 metals, 2 glasss, 2 papers, 62.8ms\n",
      "Speed: 0.5ms preprocess, 62.8ms inference, 0.0ms postprocess per image at shape (1, 3, 480, 640)\n",
      "\n",
      "0: 480x640 3 metals, 1 glass, 1 paper, 58.4ms\n",
      "Speed: 1.0ms preprocess, 58.4ms inference, 0.5ms postprocess per image at shape (1, 3, 480, 640)\n",
      "\n",
      "0: 480x640 2 metals, 1 glass, 60.0ms\n",
      "Speed: 1.0ms preprocess, 60.0ms inference, 1.0ms postprocess per image at shape (1, 3, 480, 640)\n",
      "\n",
      "0: 480x640 1 plastic, 3 metals, 1 paper, 60.9ms\n",
      "Speed: 1.0ms preprocess, 60.9ms inference, 0.0ms postprocess per image at shape (1, 3, 480, 640)\n",
      "\n",
      "0: 480x640 1 plastic, 3 metals, 1 paper, 59.0ms\n",
      "Speed: 1.0ms preprocess, 59.0ms inference, 0.0ms postprocess per image at shape (1, 3, 480, 640)\n",
      "\n",
      "0: 480x640 2 metals, 2 glasss, 1 paper, 59.2ms\n",
      "Speed: 1.0ms preprocess, 59.2ms inference, 0.5ms postprocess per image at shape (1, 3, 480, 640)\n",
      "\n",
      "0: 480x640 2 metals, 1 glass, 58.4ms\n",
      "Speed: 1.5ms preprocess, 58.4ms inference, 1.0ms postprocess per image at shape (1, 3, 480, 640)\n",
      "\n",
      "0: 480x640 2 metals, 1 paper, 57.7ms\n",
      "Speed: 0.5ms preprocess, 57.7ms inference, 1.5ms postprocess per image at shape (1, 3, 480, 640)\n",
      "\n",
      "0: 480x640 3 metals, 1 glass, 57.5ms\n",
      "Speed: 0.5ms preprocess, 57.5ms inference, 0.0ms postprocess per image at shape (1, 3, 480, 640)\n",
      "\n",
      "0: 480x640 3 metals, 1 glass, 59.2ms\n",
      "Speed: 1.0ms preprocess, 59.2ms inference, 0.0ms postprocess per image at shape (1, 3, 480, 640)\n",
      "\n",
      "0: 480x640 3 metals, 2 glasss, 1 paper, 57.4ms\n",
      "Speed: 1.5ms preprocess, 57.4ms inference, 1.0ms postprocess per image at shape (1, 3, 480, 640)\n",
      "\n",
      "0: 480x640 1 plastic, 3 metals, 1 glass, 59.4ms\n",
      "Speed: 1.0ms preprocess, 59.4ms inference, 0.0ms postprocess per image at shape (1, 3, 480, 640)\n",
      "\n",
      "0: 480x640 3 metals, 1 paper, 57.1ms\n",
      "Speed: 1.0ms preprocess, 57.1ms inference, 1.0ms postprocess per image at shape (1, 3, 480, 640)\n",
      "\n",
      "0: 480x640 1 plastic, 3 metals, 1 glass, 1 paper, 59.7ms\n",
      "Speed: 1.0ms preprocess, 59.7ms inference, 0.5ms postprocess per image at shape (1, 3, 480, 640)\n",
      "\n",
      "0: 480x640 3 metals, 60.4ms\n",
      "Speed: 1.0ms preprocess, 60.4ms inference, 1.0ms postprocess per image at shape (1, 3, 480, 640)\n",
      "\n",
      "0: 480x640 2 metals, 1 glass, 58.2ms\n",
      "Speed: 1.5ms preprocess, 58.2ms inference, 1.0ms postprocess per image at shape (1, 3, 480, 640)\n",
      "\n",
      "0: 480x640 4 metals, 1 paper, 59.9ms\n",
      "Speed: 1.0ms preprocess, 59.9ms inference, 0.0ms postprocess per image at shape (1, 3, 480, 640)\n",
      "\n",
      "0: 480x640 4 metals, 1 glass, 2 papers, 58.1ms\n",
      "Speed: 1.0ms preprocess, 58.1ms inference, 0.0ms postprocess per image at shape (1, 3, 480, 640)\n",
      "\n",
      "0: 480x640 3 metals, 1 glass, 58.1ms\n",
      "Speed: 1.0ms preprocess, 58.1ms inference, 1.0ms postprocess per image at shape (1, 3, 480, 640)\n",
      "\n",
      "0: 480x640 2 metals, 1 glass, 1 paper, 58.1ms\n",
      "Speed: 1.0ms preprocess, 58.1ms inference, 1.0ms postprocess per image at shape (1, 3, 480, 640)\n",
      "\n",
      "0: 480x640 3 metals, 2 glasss, 59.6ms\n",
      "Speed: 1.0ms preprocess, 59.6ms inference, 0.5ms postprocess per image at shape (1, 3, 480, 640)\n",
      "\n",
      "0: 480x640 1 plastic, 3 metals, 2 glasss, 52.5ms\n",
      "Speed: 1.0ms preprocess, 52.5ms inference, 1.0ms postprocess per image at shape (1, 3, 480, 640)\n",
      "\n",
      "0: 480x640 3 metals, 57.9ms\n",
      "Speed: 1.0ms preprocess, 57.9ms inference, 1.1ms postprocess per image at shape (1, 3, 480, 640)\n",
      "\n",
      "0: 480x640 3 metals, 1 glass, 1 paper, 58.1ms\n",
      "Speed: 1.0ms preprocess, 58.1ms inference, 1.0ms postprocess per image at shape (1, 3, 480, 640)\n",
      "\n",
      "0: 480x640 1 plastic, 3 metals, 1 paper, 59.2ms\n",
      "Speed: 1.5ms preprocess, 59.2ms inference, 0.5ms postprocess per image at shape (1, 3, 480, 640)\n",
      "\n",
      "0: 480x640 3 metals, 1 glass, 1 paper, 58.6ms\n",
      "Speed: 1.0ms preprocess, 58.6ms inference, 1.0ms postprocess per image at shape (1, 3, 480, 640)\n",
      "\n",
      "0: 480x640 1 plastic, 4 metals, 55.5ms\n",
      "Speed: 1.1ms preprocess, 55.5ms inference, 1.0ms postprocess per image at shape (1, 3, 480, 640)\n",
      "\n",
      "0: 480x640 5 metals, 59.2ms\n",
      "Speed: 1.0ms preprocess, 59.2ms inference, 0.0ms postprocess per image at shape (1, 3, 480, 640)\n",
      "\n",
      "0: 480x640 3 metals, 56.7ms\n",
      "Speed: 1.0ms preprocess, 56.7ms inference, 1.0ms postprocess per image at shape (1, 3, 480, 640)\n",
      "\n",
      "0: 480x640 3 metals, 2 glasss, 58.6ms\n",
      "Speed: 1.0ms preprocess, 58.6ms inference, 1.0ms postprocess per image at shape (1, 3, 480, 640)\n",
      "\n",
      "0: 480x640 1 plastic, 3 metals, 58.9ms\n",
      "Speed: 1.0ms preprocess, 58.9ms inference, 0.0ms postprocess per image at shape (1, 3, 480, 640)\n",
      "\n",
      "0: 480x640 1 plastic, 3 metals, 59.9ms\n",
      "Speed: 1.0ms preprocess, 59.9ms inference, 0.0ms postprocess per image at shape (1, 3, 480, 640)\n",
      "\n",
      "0: 480x640 3 metals, 59.4ms\n",
      "Speed: 1.5ms preprocess, 59.4ms inference, 0.5ms postprocess per image at shape (1, 3, 480, 640)\n",
      "\n",
      "0: 480x640 1 plastic, 4 metals, 1 glass, 58.0ms\n",
      "Speed: 1.0ms preprocess, 58.0ms inference, 1.5ms postprocess per image at shape (1, 3, 480, 640)\n"
     ]
    },
    {
     "name": "stderr",
     "output_type": "stream",
     "text": [
      "Exception in Tkinter callback\n",
      "Traceback (most recent call last):\n",
      "  File \"C:\\Users\\Nicho\\anaconda3\\Lib\\tkinter\\__init__.py\", line 1948, in __call__\n",
      "    return self.func(*args)\n",
      "           ^^^^^^^^^^^^^^^^\n",
      "  File \"C:\\Users\\Nicho\\AppData\\Local\\Temp\\ipykernel_88740\\1061389802.py\", line 95, in start_live_feed\n",
      "    if cv2.waitKey(25) & 0xFF == ord('q'):\n",
      "       ^^^^^^^^^^^^^^^\n",
      "KeyboardInterrupt\n"
     ]
    }
   ],
   "execution_count": 1
  }
 ],
 "metadata": {
  "kernelspec": {
   "display_name": "Python (litter-detection-env)",
   "language": "python",
   "name": "litter-detection-env"
  },
  "language_info": {
   "codemirror_mode": {
    "name": "ipython",
    "version": 2
   },
   "file_extension": ".py",
   "mimetype": "text/x-python",
   "name": "python",
   "nbconvert_exporter": "python",
   "pygments_lexer": "ipython2",
   "version": "2.7.6"
  }
 },
 "nbformat": 4,
 "nbformat_minor": 5
}
